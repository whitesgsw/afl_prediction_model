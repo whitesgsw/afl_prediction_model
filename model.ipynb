{
 "cells": [
  {
   "cell_type": "code",
   "execution_count": null,
   "id": "b4a94d59",
   "metadata": {},
   "outputs": [],
   "source": [
    "import pandas as pd\n",
    "import numpy as np\n",
    "from sklearn.model_selection import train_test_split\n",
    "from sklearn.linear_model import LinearRegression\n",
    "from sklearn.metrics import mean_squared_error\n",
    "from tpot import TPOTRegressor\n",
    "from sklearn.metrics import make_scorer\n",
    "import xgboost as xg \n",
    "import matplotlib.pyplot as plt\n",
    "from featuresv1 import features, target\n",
    "%matplotlib inline"
   ]
  },
  {
   "cell_type": "code",
   "execution_count": null,
   "id": "4df8666b",
   "metadata": {},
   "outputs": [],
   "source": [
    "data = pd.read_csv('merged_stat_score_data_clean.csv')\n",
    "player_stats = pd.read_csv(\"player_stats.csv\")\n",
    "\n",
    "player_stats['season'] = [i.strftime('%Y') for i in pd.to_datetime(player_stats['utcStartTime']).to_list()]"
   ]
  },
  {
   "cell_type": "code",
   "execution_count": null,
   "id": "4daf2a3b",
   "metadata": {},
   "outputs": [],
   "source": [
    "def generate_test_train_split(data, features, target, test_size=0.4):\n",
    "    X = data[features]\n",
    "    y = data[target]\n",
    "\n",
    "    x_train, x_test, y_train, y_test = train_test_split(X, y, test_size=test_size, random_state=42)\n",
    "    \n",
    "    return {\"x_train\":x_train,\"x_test\":x_test,\"y_train\":y_train,\"y_test\":y_test}"
   ]
  },
  {
   "cell_type": "code",
   "execution_count": null,
   "id": "bb75256c",
   "metadata": {},
   "outputs": [],
   "source": [
    "def tpot_pipeline(data, features, target, size=20, scoring='r2'):\n",
    "    data_ = generate_test_train_split(data, features, target)\n",
    "\n",
    "    my_scorer = make_scorer(mean_squared_error, greater_is_better=False)\n",
    "\n",
    "    pipeline_optimizer = TPOTRegressor(generations=5, population_size=size, verbosity=2, scoring=scoring)\n",
    "\n",
    "    pipeline_optimizer.fit(data_['x_train'], list(data_['y_train'].score))\n",
    "    \n",
    "    print(pipeline_optimizer.score(data_['x_test'], data_['y_test']))\n",
    "    \n",
    "    return pipeline_optimizer"
   ]
  },
  {
   "cell_type": "code",
   "execution_count": null,
   "id": "52cbe6f3",
   "metadata": {},
   "outputs": [],
   "source": [
    "tpot_pipeline(data, features, target)"
   ]
  },
  {
   "cell_type": "code",
   "execution_count": null,
   "id": "cbe9ba42",
   "metadata": {},
   "outputs": [],
   "source": [
    "def fit_lin_regression(x_train, y_train):\n",
    "\n",
    "    # fit linear regression line\n",
    "    regr_model = LinearRegression()\n",
    "    regr_model.fit(x_train, y_train)\n",
    "    \n",
    "    return regr_model"
   ]
  },
  {
   "cell_type": "code",
   "execution_count": null,
   "id": "ef9259aa",
   "metadata": {},
   "outputs": [],
   "source": [
    "def eval_lin_regression(x_test, y_test):\n",
    "    # predict the values\n",
    "    pred = regr.predict(x_test)\n",
    "    \n",
    "    # Regression Score \n",
    "    print(\"Regression Score (R-square): \" + str(regr.score(x_test, y_test)))\n",
    "\n",
    "    #RMSE\n",
    "    print(\"RMSE: \" + str(mean_squared_error(y_test, pred)**0.5))"
   ]
  },
  {
   "cell_type": "code",
   "execution_count": null,
   "id": "0af30494",
   "metadata": {},
   "outputs": [],
   "source": [
    "def fit_xgboost(x_train, y_train):# Instantiation \n",
    "    xgb_r = xg.XGBRegressor(objective ='reg:squarederror', \n",
    "                      n_estimators = 10, seed = 42) \n",
    "\n",
    "    # Fitting the model \n",
    "    xgb_r.fit(x_train, y_train)\n",
    "    \n",
    "    return xgb_r"
   ]
  },
  {
   "cell_type": "code",
   "execution_count": null,
   "id": "39808b68",
   "metadata": {},
   "outputs": [],
   "source": [
    "def eval_xgboost(x_test, y_test):\n",
    "    # Predict the model \n",
    "    pred = xgb_r.predict(x_test) \n",
    "\n",
    "    # RMSE Computation \n",
    "    rmse = np.sqrt(mean_squared_error(y_test, pred)) \n",
    "    print(\"RMSE : % f\" %(rmse)) "
   ]
  },
  {
   "cell_type": "code",
   "execution_count": null,
   "id": "d0316743",
   "metadata": {},
   "outputs": [],
   "source": [
    "def return_stats_input(data, home_team, away_team, model_inputs, games=5):\n",
    "    '''Take in player_stats and returns aggregated team stats for previous home/away team matchups'''\n",
    "    \n",
    "    if 'team.name' not in model_inputs:\n",
    "        model_inputs.append('team.name')\n",
    "        \n",
    "    match_ups = data[(data['home.team.name']==home_team) & (data['away.team.name']==away_team)]\n",
    "    group_by = ['season','round.roundNumber','team.name']\n",
    "    team_stats = match_ups.groupby(group_by).sum()\n",
    "    team_stats.reset_index(inplace=True)\n",
    "    \n",
    "    home_stats = team_stats[team_stats['team.name']==home_team][model_inputs].groupby('team.name').mean()\n",
    "    \n",
    "    away_stats = team_stats[team_stats['team.name']==away_team][model_inputs].groupby('team.name').mean()\n",
    "    \n",
    "    return (home_stats, away_stats)"
   ]
  },
  {
   "cell_type": "code",
   "execution_count": null,
   "id": "91ee2881",
   "metadata": {},
   "outputs": [],
   "source": [
    "round_matchups = [\n",
    "    ('Sydney Swans','Melbourne'),\n",
    "    ('Brisbane Lions','Carlton'),\n",
    "    ('Gold Coast Suns','Richmond'),\n",
    "    ('GWS Giants','Collingwood')]"
   ]
  },
  {
   "cell_type": "code",
   "execution_count": null,
   "id": "644b2861",
   "metadata": {},
   "outputs": [],
   "source": [
    "def generate_tear_off_lr(model, round_matchups, player_stats,model_inputs):\n",
    "    print('-------------------LINEAR REGRESSION TEAR-OFF-------------------')\n",
    "    for tup in round_matchups:\n",
    "        print(\"Home: \" + tup[0] + '\\t' + \"Away: \" + tup[1])\n",
    "        print(f\"{model.predict(return_stats_input(player_stats,tup[0],tup[1],model_inputs)[0])}\" + '\\t\\t\\t' + \\\n",
    "             f\"{model.predict(return_stats_input(player_stats,tup[0],tup[1],model_inputs)[1])}\")"
   ]
  },
  {
   "cell_type": "code",
   "execution_count": null,
   "id": "a3a98022",
   "metadata": {},
   "outputs": [],
   "source": [
    "def generate_tear_off(model, round_matchups, player_stats,model_inputs):\n",
    "    print('-------------------' + str(pipeline_optimizer.fitted_pipeline_[0]).replace('()','') + ' TEAR-OFF-------------------')\n",
    "    for tup in round_matchups:\n",
    "        print(\"Home: \" + tup[0] + '\\t' + \"Away: \" + tup[1])\n",
    "        print(f\"{round(model.predict(return_stats_input(player_stats,tup[0],tup[1],model_inputs)[0])[0])}\" + '\\t\\t\\t' + \\\n",
    "             f\"{round(model.predict(return_stats_input(player_stats,tup[0],tup[1],model_inputs)[1])[0])}\")"
   ]
  },
  {
   "cell_type": "code",
   "execution_count": null,
   "id": "b534c945",
   "metadata": {},
   "outputs": [],
   "source": [
    "generate_tear_off(pipeline_optimizer, round_matchups, player_stats, features)"
   ]
  },
  {
   "cell_type": "code",
   "execution_count": null,
   "id": "633b667e",
   "metadata": {},
   "outputs": [],
   "source": [
    "round1 = [('Carlton', 'Richmond'),\n",
    "('Collingwood','Sydney Swans'),\n",
    "('Essendon','Hawthorn'),\n",
    "('GWS Giants','North Melbourne'),\n",
    "('Geelong Cats','St Kilda'),\n",
    "('Gold Coast Suns','Adelaide Crows'),\n",
    "('Melbourne','Western Bulldogs'),\n",
    "('Port Adelaide','West Coast Eagles'),\n",
    "('Fremantle','Brisbane Lions')]"
   ]
  },
  {
   "cell_type": "code",
   "execution_count": null,
   "id": "08ff700a",
   "metadata": {},
   "outputs": [],
   "source": [
    "generate_tear_off(pipeline_optimizer, round1, player_stats, features)"
   ]
  }
 ],
 "metadata": {
  "kernelspec": {
   "display_name": "Python 3 (ipykernel)",
   "language": "python",
   "name": "python3"
  },
  "language_info": {
   "codemirror_mode": {
    "name": "ipython",
    "version": 3
   },
   "file_extension": ".py",
   "mimetype": "text/x-python",
   "name": "python",
   "nbconvert_exporter": "python",
   "pygments_lexer": "ipython3",
   "version": "3.9.13"
  }
 },
 "nbformat": 4,
 "nbformat_minor": 5
}
