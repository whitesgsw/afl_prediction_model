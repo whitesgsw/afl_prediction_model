{
 "cells": [
  {
   "cell_type": "code",
   "execution_count": 20,
   "id": "b4a94d59",
   "metadata": {},
   "outputs": [],
   "source": [
    "import pandas as pd\n",
    "import numpy as np\n",
    "from sklearn.model_selection import train_test_split\n",
    "from sklearn.linear_model import LinearRegression\n",
    "from sklearn.metrics import mean_squared_error\n",
    "from tpot import TPOTRegressor\n",
    "from sklearn.metrics import make_scorer\n",
    "import matplotlib.pyplot as plt\n",
    "from featuresv2 import targets, metadata\n",
    "from position_group_features import features\n",
    "import json\n",
    "import requests\n",
    "%matplotlib inline"
   ]
  },
  {
   "cell_type": "markdown",
   "id": "5ab85414",
   "metadata": {},
   "source": [
    "## Version 3 Model"
   ]
  },
  {
   "cell_type": "code",
   "execution_count": 30,
   "id": "0291af49",
   "metadata": {},
   "outputs": [],
   "source": [
    "data = pd.read_csv('outputs/model_training_data.csv')"
   ]
  },
  {
   "cell_type": "code",
   "execution_count": 82,
   "id": "bd21da9b",
   "metadata": {},
   "outputs": [],
   "source": [
    "data2023 = data[data['round.year'] != 2023]"
   ]
  },
  {
   "cell_type": "code",
   "execution_count": 6,
   "id": "91ee2881",
   "metadata": {},
   "outputs": [],
   "source": [
    "round_matchups = [\n",
    "    ('Sydney Swans','Melbourne'),\n",
    "    ('Brisbane Lions','Carlton'),\n",
    "    ('Gold Coast Suns','Richmond'),\n",
    "    ('GWS Giants','Collingwood')]"
   ]
  },
  {
   "cell_type": "code",
   "execution_count": 7,
   "id": "633b667e",
   "metadata": {},
   "outputs": [],
   "source": [
    "round1 = [('Carlton', 'Richmond'),\n",
    "('Collingwood','Sydney Swans'),\n",
    "('Essendon','Hawthorn'),\n",
    "('GWS Giants','North Melbourne'),\n",
    "('Geelong Cats','St Kilda'),\n",
    "('Gold Coast Suns','Adelaide Crows'),\n",
    "('Melbourne','Western Bulldogs'),\n",
    "('Port Adelaide','West Coast Eagles'),\n",
    "('Fremantle','Brisbane Lions')]"
   ]
  },
  {
   "cell_type": "code",
   "execution_count": 9,
   "id": "4daf2a3b",
   "metadata": {},
   "outputs": [],
   "source": [
    "def generate_test_train_split(data, features, target, test_size=0.3):\n",
    "    X = data[features]\n",
    "    y = data[target]\n",
    "\n",
    "    x_train, x_test, y_train, y_test = train_test_split(X, y, test_size=test_size, random_state=42)\n",
    "    \n",
    "    return {\"x_train\":x_train,\"x_test\":x_test,\"y_train\":y_train,\"y_test\":y_test}"
   ]
  },
  {
   "cell_type": "code",
   "execution_count": 10,
   "id": "a4e669a9",
   "metadata": {},
   "outputs": [],
   "source": [
    "def tpot_pipeline(data, features, target, size=20, scoring='r2'):\n",
    "    data_ = generate_test_train_split(data, features, target)\n",
    "\n",
    "    my_scorer = make_scorer(mean_squared_error, greater_is_better=False)\n",
    "\n",
    "    pipeline_optimizer = TPOTRegressor(generations=5, population_size=size, verbosity=2, scoring=scoring)\n",
    "\n",
    "    pipeline_optimizer.fit(data_['x_train'], data_['y_train'])\n",
    "    \n",
    "    print(pipeline_optimizer.score(data_['x_test'], data_['y_test']))\n",
    "    \n",
    "    return pipeline_optimizer"
   ]
  },
  {
   "cell_type": "code",
   "execution_count": 11,
   "id": "90ca083b",
   "metadata": {},
   "outputs": [],
   "source": [
    "def return_stats_input(data, home_team, away_team, model_inputs, games=5):\n",
    "    '''Take in player_stats and returns aggregated team stats for previous home/away team matchups'''\n",
    "    \n",
    "#     if 'team.name' not in model_inputs:\n",
    "#         model_inputs.append('team.name')\n",
    "        \n",
    "    match_ups = data[(data['match.homeTeam.name']==home_team) & (data['match.awayTeam.name']==away_team)]\n",
    "    weights = range(1,len(match_ups)+1)\n",
    "\n",
    "    stats = match_ups[model_inputs+['match.homeTeam.name']].groupby('match.homeTeam.name').apply(lambda x: np.average(x, weights=weights, axis=0))\n",
    "    \n",
    "    return pd.DataFrame(dict(zip(model_inputs,stats[0])),index=[0])"
   ]
  },
  {
   "cell_type": "code",
   "execution_count": 12,
   "id": "fbe8846d",
   "metadata": {},
   "outputs": [],
   "source": [
    "def generate_margin_tear_off(model, round_matchups, team_stats, model_inputs):\n",
    "    print('-------------------' + str(model.fitted_pipeline_[0]).replace('()','') + ' TEAR-OFF-------------------')\n",
    "    for tup in round_matchups:\n",
    "        predict = model.predict(return_stats_input(team_stats, tup[0], tup[1], model_inputs))[0]\n",
    "        if predict < 0:\n",
    "            winner = tup[1]\n",
    "        else:\n",
    "            winner = tup[0]\n",
    "        print(\"------------------------------------------------\")\n",
    "        print(\"Home: \" + tup[0])\n",
    "        print(\"Away: \" + tup[1])\n",
    "        print(\"Winner: \" + winner + \"\\t       \" + \"Margin: \" + str(abs(round(predict))))"
   ]
  },
  {
   "cell_type": "code",
   "execution_count": 36,
   "id": "3c39ab8b",
   "metadata": {},
   "outputs": [],
   "source": [
    "def generate_score_tear_off(home_model, away_model, round_matchups, team_stats, model_inputs):\n",
    "   # print('-------------------' + str(model.fitted_pipeline_[0]).replace('()','') + ' TEAR-OFF-------------------')\n",
    "    preds = []\n",
    "    for tup in round_matchups:\n",
    "        try:\n",
    "            h_predict = home_model.predict(return_stats_input(team_stats, tup[0], tup[1], model_inputs))[0]\n",
    "            a_predict = away_model.predict(return_stats_input(team_stats, tup[0], tup[1], model_inputs))[0]\n",
    "            if h_predict < a_predict:\n",
    "                winner = tup[1]\n",
    "                margin = round(a_predict) - round(h_predict)\n",
    "            else:\n",
    "                winner = tup[0]\n",
    "                margin = round(h_predict) - round(a_predict)\n",
    "            paddingh = 25 - len(\"Home: \" + tup[0])\n",
    "            paddinga = 25 - len(\"Away: \" + tup[1])\n",
    "            print(\"------------------------------------------------\")\n",
    "            print(\"Home: \" + tup[0] + \" \"*paddingh + str(abs(round(h_predict))))\n",
    "            print(\"Away: \" + tup[1] + \" \"*paddinga + str(abs(round(a_predict))))\n",
    "            print(\"Winner: \" + winner + \" by \"+ str(margin) + \" points\")\n",
    "            print(\"Total Score: \" + str(round(h_predict) + round(a_predict)))\n",
    "            preds.append((h_predict, a_predict, margin))\n",
    "        except:\n",
    "            print(\"No prior game\")\n",
    "            preds.append((0, 0, 0))\n",
    "    return preds"
   ]
  },
  {
   "cell_type": "code",
   "execution_count": 96,
   "id": "6c33b9c8",
   "metadata": {},
   "outputs": [
    {
     "data": {
      "application/vnd.jupyter.widget-view+json": {
       "model_id": "",
       "version_major": 2,
       "version_minor": 0
      },
      "text/plain": [
       "Optimization Progress:   0%|          | 0/60 [00:00<?, ?pipeline/s]"
      ]
     },
     "metadata": {},
     "output_type": "display_data"
    },
    {
     "name": "stdout",
     "output_type": "stream",
     "text": [
      "\n",
      "Generation 1 - Current best internal CV score: 0.7623210323717962\n",
      "\n",
      "Generation 2 - Current best internal CV score: 0.8304219393259633\n",
      "\n",
      "Generation 3 - Current best internal CV score: 0.8304219393259633\n",
      "\n",
      "Generation 4 - Current best internal CV score: 0.8304219393259633\n",
      "\n",
      "Generation 5 - Current best internal CV score: 0.8304219393259633\n",
      "\n",
      "Best pipeline: ElasticNetCV(StandardScaler(input_matrix), l1_ratio=0.9500000000000001, tol=0.001)\n",
      "0.8754297065732669\n"
     ]
    }
   ],
   "source": [
    "home_model = tpot_pipeline(data2023, features, targets[0], size=10)"
   ]
  },
  {
   "cell_type": "code",
   "execution_count": 97,
   "id": "36632e61",
   "metadata": {},
   "outputs": [
    {
     "data": {
      "application/vnd.jupyter.widget-view+json": {
       "model_id": "",
       "version_major": 2,
       "version_minor": 0
      },
      "text/plain": [
       "Optimization Progress:   0%|          | 0/60 [00:00<?, ?pipeline/s]"
      ]
     },
     "metadata": {},
     "output_type": "display_data"
    },
    {
     "name": "stdout",
     "output_type": "stream",
     "text": [
      "\n",
      "Generation 1 - Current best internal CV score: 0.743949500087806\n",
      "\n",
      "Generation 2 - Current best internal CV score: 0.743949500087806\n",
      "\n",
      "Generation 3 - Current best internal CV score: 0.743949500087806\n",
      "\n",
      "Generation 4 - Current best internal CV score: 0.743949500087806\n",
      "\n",
      "Generation 5 - Current best internal CV score: 0.8051282260142264\n",
      "\n",
      "Best pipeline: ElasticNetCV(StandardScaler(input_matrix), l1_ratio=0.30000000000000004, tol=0.001)\n",
      "0.8272459757033521\n"
     ]
    }
   ],
   "source": [
    "away_model = tpot_pipeline(data2023, features, targets[1], size=10)"
   ]
  },
  {
   "cell_type": "code",
   "execution_count": 19,
   "id": "27717d30",
   "metadata": {},
   "outputs": [
    {
     "data": {
      "application/vnd.jupyter.widget-view+json": {
       "model_id": "",
       "version_major": 2,
       "version_minor": 0
      },
      "text/plain": [
       "Optimization Progress:   0%|          | 0/60 [00:00<?, ?pipeline/s]"
      ]
     },
     "metadata": {},
     "output_type": "display_data"
    },
    {
     "name": "stdout",
     "output_type": "stream",
     "text": [
      "\n",
      "Generation 1 - Current best internal CV score: 0.9731446552014216\n",
      "\n",
      "Generation 2 - Current best internal CV score: 0.9731446552014216\n",
      "\n",
      "Generation 3 - Current best internal CV score: 0.9731446552014216\n",
      "\n",
      "Generation 4 - Current best internal CV score: 0.9733778941243735\n",
      "\n",
      "Generation 5 - Current best internal CV score: 0.9733778941243735\n",
      "\n",
      "Best pipeline: ElasticNetCV(RobustScaler(input_matrix), l1_ratio=1.0, tol=0.0001)\n",
      "0.9720120903463568\n"
     ]
    }
   ],
   "source": [
    "# margin_model = tpot_pipeline(data, features, targets[2], size=10)"
   ]
  },
  {
   "cell_type": "code",
   "execution_count": 18,
   "id": "15cd3b3d",
   "metadata": {},
   "outputs": [
    {
     "name": "stdout",
     "output_type": "stream",
     "text": [
      "------------------------------------------------\n",
      "Home: Carlton            89\n",
      "Away: Richmond           83\n",
      "Winner: Carlton by 6 points\n",
      "Total Score: 172\n",
      "------------------------------------------------\n",
      "Home: Collingwood        66\n",
      "Away: Sydney Swans       47\n",
      "Winner: Collingwood by 19 points\n",
      "Total Score: 113\n",
      "------------------------------------------------\n",
      "Home: Essendon           102\n",
      "Away: Hawthorn           83\n",
      "Winner: Essendon by 19 points\n",
      "Total Score: 185\n",
      "------------------------------------------------\n",
      "Home: GWS Giants         60\n",
      "Away: North Melbourne    81\n",
      "Winner: North Melbourne by 21 points\n",
      "Total Score: 141\n",
      "------------------------------------------------\n",
      "Home: Geelong Cats       104\n",
      "Away: St Kilda           63\n",
      "Winner: Geelong Cats by 41 points\n",
      "Total Score: 167\n",
      "------------------------------------------------\n",
      "Home: Gold Coast Suns    96\n",
      "Away: Adelaide Crows     77\n",
      "Winner: Gold Coast Suns by 19 points\n",
      "Total Score: 173\n",
      "------------------------------------------------\n",
      "Home: Melbourne          113\n",
      "Away: Western Bulldogs   71\n",
      "Winner: Melbourne by 42 points\n",
      "Total Score: 184\n",
      "------------------------------------------------\n",
      "Home: Port Adelaide      108\n",
      "Away: West Coast Eagles  53\n",
      "Winner: Port Adelaide by 55 points\n",
      "Total Score: 161\n",
      "------------------------------------------------\n",
      "Home: Fremantle          77\n",
      "Away: Brisbane Lions     87\n",
      "Winner: Brisbane Lions by 10 points\n",
      "Total Score: 164\n"
     ]
    },
    {
     "data": {
      "text/plain": [
       "[(88.99739369187981, 82.65395998844423, 6),\n",
       " (66.48971220167981, 46.69217192558813, 19),\n",
       " (102.24136632348922, 82.65298244086301, 19),\n",
       " (60.02225023019412, 81.02904656379373, 21),\n",
       " (104.19426104838793, 63.01240603446088, 41),\n",
       " (96.28345799108719, 76.89902282111923, 19),\n",
       " (112.61565911258671, 70.6647347131949, 42),\n",
       " (107.60027646074188, 52.61369998873249, 55),\n",
       " (77.46486063424743, 87.36834808496185, 10)]"
      ]
     },
     "execution_count": 18,
     "metadata": {},
     "output_type": "execute_result"
    }
   ],
   "source": [
    "generate_score_tear_off(home_model, away_model, round1, data, features)"
   ]
  },
  {
   "cell_type": "code",
   "execution_count": 183,
   "id": "08ff700a",
   "metadata": {},
   "outputs": [],
   "source": [
    "# print(return_stats_inputv3(data, home_team, away_team, features))\n",
    "# generate_margin_tear_off(margin_model, round1, data, features)\n",
    "# data[(data['match.homeTeam.name']==home_team) & (data['match.awayTeam.name']==away_team)][features].head()"
   ]
  },
  {
   "cell_type": "code",
   "execution_count": 72,
   "id": "54ef0a1d",
   "metadata": {},
   "outputs": [],
   "source": [
    "fix_data_2024 = json.loads(requests.get('https://fixturedownload.com/feed/json/afl-2024').content)\n",
    "\n",
    "fix_data_2023 = json.loads(requests.get('https://fixturedownload.com/feed/json/afl-2023').content)\n",
    "\n",
    "fixtures2024 = pd.DataFrame(fix_data_2024)\n",
    "games2024 = list(zip(fixtures2024.HomeTeam, fixtures2024.AwayTeam))\n",
    "\n",
    "fixtures2023 = pd.DataFrame(fix_data_2023)\n",
    "games2023 = list(zip(fixtures2023.HomeTeam, fixtures2023.AwayTeam))\n",
    "\n",
    "predicted_season = generate_score_tear_off(home_model, away_model, games2023, data2023, features)\n",
    "\n",
    "fixtures2023['predicted_home'] = [round(i[0]) for i in predicted_season]\n",
    "fixtures2023['predicted_away'] = [round(i[1]) for i in predicted_season]\n",
    "\n",
    "pred_winner = []\n",
    "winner = []\n",
    "for i, row in fixtures2023.iterrows():\n",
    "\n",
    "    if row[7] > row[8]:\n",
    "        winner.append(row[4])\n",
    "    elif row[8] > row[7]:\n",
    "        winner.append(row[5])\n",
    "    else:\n",
    "        winner.append('Draw')\n",
    "\n",
    "\n",
    "    if row[9] > row[10]:\n",
    "        pred_winner.append(row[4])\n",
    "    elif row[10] > row[9]:\n",
    "        pred_winner.append(row[5])\n",
    "    else:\n",
    "        pred_winner.append('Draw')\n",
    "\n",
    "fixtures2023['predicted_winner'] = pred_winner\n",
    "fixtures2023['winner'] = winner\n",
    "fixtures2023['predicted_margin'] = fixtures2023['predicted_home'] - fixtures2023['predicted_away']\n",
    "fixtures2023['actual_margin'] = fixtures2023['HomeTeamScore'] - fixtures2023['AwayTeamScore']\n",
    "fixtures2023['correct'] = [1 if row[11]==row[12] else 0 for i,row in fixtures2023.iterrows()]\n",
    "fixtures2023['bet'] = [\"1-39\" if abs(row[13]) < 40 else \"40+\" for i,row in fixtures2023.iterrows()]\n",
    "\n",
    "\n",
    "fixtures2023.to_csv('outputs/predictions_and_results_2023.csv', index=False)\n",
    "\n",
    "backtest_data = pd.read_csv('outputs/predictions_and_results_2023.csv')\n",
    "backtest_data.head()"
   ]
  },
  {
   "cell_type": "code",
   "execution_count": 179,
   "id": "351c69e9",
   "metadata": {},
   "outputs": [],
   "source": [
    "profit_curve_no_geelong = []\n",
    "bankroll = 100\n",
    "stake = 0\n",
    "profit = 0\n",
    "for i, row in backtest_data.iterrows():\n",
    "    \n",
    "    if backtest_data['predicted_winner'][i] != 'Geelong Cats':\n",
    "        stake = -1 * 0.1 * bankroll\n",
    "        profit = -stake * backtest_data['odds'][i] * backtest_data['win'][i]\n",
    "        \n",
    "        bankroll+=stake+profit\n",
    "\n",
    "        profit_curve_no_geelong.append(bankroll)\n",
    "    else:\n",
    "        bankroll+=0\n",
    "\n",
    "        profit_curve_no_geelong.append(bankroll)"
   ]
  },
  {
   "cell_type": "code",
   "execution_count": 180,
   "id": "2e76ab0a",
   "metadata": {},
   "outputs": [],
   "source": [
    "profit_curve = []\n",
    "bankroll = 100\n",
    "stake = 0\n",
    "profit = 0\n",
    "for i, row in backtest_data.iterrows():\n",
    "    \n",
    "    stake = -1 * 0.1 * bankroll\n",
    "    profit = -stake * backtest_data['odds'][i] * backtest_data['win'][i]\n",
    "\n",
    "    bankroll+=stake+profit\n",
    "\n",
    "    profit_curve.append(bankroll)"
   ]
  },
  {
   "cell_type": "code",
   "execution_count": 181,
   "id": "39274fbb",
   "metadata": {},
   "outputs": [
    {
     "data": {
      "text/plain": [
       "[<matplotlib.lines.Line2D at 0x215dbde7e20>]"
      ]
     },
     "execution_count": 181,
     "metadata": {},
     "output_type": "execute_result"
    },
    {
     "data": {
      "image/png": "[encoded data removed]",
      "text/plain": [
       "<Figure size 640x480 with 1 Axes>"
      ]
     },
     "metadata": {},
     "output_type": "display_data"
    }
   ],
   "source": [
    "plt.plot(profit_curve, color='b')\n",
    "plt.plot(profit_curve_no_geelong, color='r')"
   ]
  },
  {
   "cell_type": "code",
   "execution_count": null,
   "id": "96369245",
   "metadata": {},
   "outputs": [],
   "source": []
  }
 ],
 "metadata": {
  "kernelspec": {
   "display_name": "Python 3 (ipykernel)",
   "language": "python",
   "name": "python3"
  },
  "language_info": {
   "codemirror_mode": {
    "name": "ipython",
    "version": 3
   },
   "file_extension": ".py",
   "mimetype": "text/x-python",
   "name": "python",
   "nbconvert_exporter": "python",
   "pygments_lexer": "ipython3",
   "version": "3.9.13"
  }
 },
 "nbformat": 4,
 "nbformat_minor": 5
}
