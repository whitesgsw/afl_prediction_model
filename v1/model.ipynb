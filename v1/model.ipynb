{
 "cells": [
  {
   "cell_type": "code",
   "execution_count": 102,
   "id": "b4a94d59",
   "metadata": {},
   "outputs": [],
   "source": [
    "import pandas as pd\n",
    "import numpy as np\n",
    "from sklearn.model_selection import train_test_split\n",
    "from sklearn.linear_model import LinearRegression\n",
    "from sklearn.metrics import mean_squared_error\n",
    "from tpot import TPOTRegressor\n",
    "from sklearn.metrics import make_scorer\n",
    "import xgboost as xg \n",
    "import matplotlib.pyplot as plt\n",
    "#from featuresv1 import features, target\n",
    "from featuresv2 import features, targets, metadata\n",
    "%matplotlib inline"
   ]
  },
  {
   "cell_type": "code",
   "execution_count": 82,
   "id": "4df8666b",
   "metadata": {},
   "outputs": [
    {
     "name": "stderr",
     "output_type": "stream",
     "text": [
      "C:\\Users\\whitehes\\AppData\\Local\\Temp\\ipykernel_23040\\1381947188.py:2: DtypeWarning: Columns (49) have mixed types. Specify dtype option on import or set low_memory=False.\n",
      "  player_stats = pd.read_csv(\"player_stats.csv\")\n"
     ]
    }
   ],
   "source": [
    "data = pd.read_csv('merged_stat_score_data_clean.csv')\n",
    "player_stats = pd.read_csv(\"player_stats.csv\")\n",
    "\n",
    "player_stats['season'] = [i.strftime('%Y') for i in pd.to_datetime(player_stats['utcStartTime']).to_list()]"
   ]
  },
  {
   "cell_type": "code",
   "execution_count": 83,
   "id": "4daf2a3b",
   "metadata": {},
   "outputs": [],
   "source": [
    "def generate_test_train_split(data, features, target, test_size=0.3):\n",
    "    X = data[features]\n",
    "    y = data[target]\n",
    "\n",
    "    x_train, x_test, y_train, y_test = train_test_split(X, y, test_size=test_size, random_state=42)\n",
    "    \n",
    "    return {\"x_train\":x_train,\"x_test\":x_test,\"y_train\":y_train,\"y_test\":y_test}"
   ]
  },
  {
   "cell_type": "code",
   "execution_count": 84,
   "id": "bb75256c",
   "metadata": {},
   "outputs": [],
   "source": [
    "def tpot_pipeline(data, features, target, size=20, scoring='r2'):\n",
    "    data_ = generate_test_train_split(data, features, target)\n",
    "\n",
    "    my_scorer = make_scorer(mean_squared_error, greater_is_better=False)\n",
    "\n",
    "    pipeline_optimizer = TPOTRegressor(generations=5, population_size=size, verbosity=2, scoring=scoring)\n",
    "\n",
    "    pipeline_optimizer.fit(data_['x_train'], list(data_['y_train'].score))\n",
    "    \n",
    "    print(pipeline_optimizer.score(data_['x_test'], data_['y_test']))\n",
    "    \n",
    "    return pipeline_optimizer"
   ]
  },
  {
   "cell_type": "code",
   "execution_count": 88,
   "id": "52cbe6f3",
   "metadata": {},
   "outputs": [
    {
     "data": {
      "application/vnd.jupyter.widget-view+json": {
       "model_id": "",
       "version_major": 2,
       "version_minor": 0
      },
      "text/plain": [
       "Optimization Progress:   0%|          | 0/120 [00:00<?, ?pipeline/s]"
      ]
     },
     "metadata": {},
     "output_type": "display_data"
    },
    {
     "name": "stdout",
     "output_type": "stream",
     "text": [
      "\n",
      "Generation 1 - Current best internal CV score: 0.9068551112995064\n",
      "\n",
      "Generation 2 - Current best internal CV score: 0.9068551112995064\n",
      "\n",
      "Generation 3 - Current best internal CV score: 0.9068551112995064\n",
      "\n",
      "Generation 4 - Current best internal CV score: 0.907100104890662\n",
      "\n",
      "Generation 5 - Current best internal CV score: 0.907100104890662\n",
      "\n",
      "Best pipeline: RidgeCV(MaxAbsScaler(ZeroCount(input_matrix)))\n",
      "0.9156231010904672\n"
     ]
    },
    {
     "name": "stderr",
     "output_type": "stream",
     "text": [
      "C:\\Users\\whitehes\\Anaconda3\\lib\\site-packages\\sklearn\\utils\\validation.py:1300: DataConversionWarning: A column-vector y was passed when a 1d array was expected. Please change the shape of y to (n_samples, ), for example using ravel().\n",
      "  y = column_or_1d(y, warn=True)\n"
     ]
    }
   ],
   "source": [
    "model = tpot_pipeline(data, features, target)"
   ]
  },
  {
   "cell_type": "code",
   "execution_count": null,
   "id": "cbe9ba42",
   "metadata": {},
   "outputs": [],
   "source": [
    "def fit_lin_regression(x_train, y_train):\n",
    "\n",
    "    # fit linear regression line\n",
    "    regr_model = LinearRegression()\n",
    "    regr_model.fit(x_train, y_train)\n",
    "    \n",
    "    return regr_model"
   ]
  },
  {
   "cell_type": "code",
   "execution_count": null,
   "id": "ef9259aa",
   "metadata": {},
   "outputs": [],
   "source": [
    "def eval_lin_regression(x_test, y_test):\n",
    "    # predict the values\n",
    "    pred = regr.predict(x_test)\n",
    "    \n",
    "    # Regression Score \n",
    "    print(\"Regression Score (R-square): \" + str(regr.score(x_test, y_test)))\n",
    "\n",
    "    #RMSE\n",
    "    print(\"RMSE: \" + str(mean_squared_error(y_test, pred)**0.5))"
   ]
  },
  {
   "cell_type": "code",
   "execution_count": null,
   "id": "0af30494",
   "metadata": {},
   "outputs": [],
   "source": [
    "def fit_xgboost(x_train, y_train):# Instantiation \n",
    "    xgb_r = xg.XGBRegressor(objective ='reg:squarederror', \n",
    "                      n_estimators = 10, seed = 42) \n",
    "\n",
    "    # Fitting the model \n",
    "    xgb_r.fit(x_train, y_train)\n",
    "    \n",
    "    return xgb_r"
   ]
  },
  {
   "cell_type": "code",
   "execution_count": null,
   "id": "39808b68",
   "metadata": {},
   "outputs": [],
   "source": [
    "def eval_xgboost(x_test, y_test):\n",
    "    # Predict the model \n",
    "    pred = xgb_r.predict(x_test) \n",
    "\n",
    "    # RMSE Computation \n",
    "    rmse = np.sqrt(mean_squared_error(y_test, pred)) \n",
    "    print(\"RMSE : % f\" %(rmse)) "
   ]
  },
  {
   "cell_type": "code",
   "execution_count": 90,
   "id": "d0316743",
   "metadata": {},
   "outputs": [],
   "source": [
    "def return_stats_input(data, home_team, away_team, model_inputs, games=5):\n",
    "    '''Take in player_stats and returns aggregated team stats for previous home/away team matchups'''\n",
    "    \n",
    "    if 'team.name' not in model_inputs:\n",
    "        model_inputs.append('team.name')\n",
    "        \n",
    "    match_ups = data[(data['home.team.name']==home_team) & (data['away.team.name']==away_team)]\n",
    "    group_by = ['season','round.roundNumber','team.name']\n",
    "    team_stats = match_ups.groupby(group_by).sum()\n",
    "    team_stats.reset_index(inplace=True)\n",
    "    \n",
    "    home_stats = team_stats[team_stats['team.name']==home_team][model_inputs].groupby('team.name').mean()\n",
    "    \n",
    "    away_stats = team_stats[team_stats['team.name']==away_team][model_inputs].groupby('team.name').mean()\n",
    "    \n",
    "    return (home_stats, away_stats)"
   ]
  },
  {
   "cell_type": "code",
   "execution_count": 91,
   "id": "91ee2881",
   "metadata": {},
   "outputs": [],
   "source": [
    "round_matchups = [\n",
    "    ('Sydney Swans','Melbourne'),\n",
    "    ('Brisbane Lions','Carlton'),\n",
    "    ('Gold Coast Suns','Richmond'),\n",
    "    ('GWS Giants','Collingwood')]"
   ]
  },
  {
   "cell_type": "code",
   "execution_count": null,
   "id": "644b2861",
   "metadata": {},
   "outputs": [],
   "source": [
    "def generate_tear_off_lr(model, round_matchups, player_stats,model_inputs):\n",
    "    print('-------------------LINEAR REGRESSION TEAR-OFF-------------------')\n",
    "    for tup in round_matchups:\n",
    "        print(\"Home: \" + tup[0] + '\\t' + \"Away: \" + tup[1])\n",
    "        print(f\"{model.predict(return_stats_input(player_stats,tup[0],tup[1],model_inputs)[0])}\" + '\\t\\t\\t' + \\\n",
    "             f\"{model.predict(return_stats_input(player_stats,tup[0],tup[1],model_inputs)[1])}\")"
   ]
  },
  {
   "cell_type": "code",
   "execution_count": 95,
   "id": "a3a98022",
   "metadata": {},
   "outputs": [],
   "source": [
    "def generate_tear_off(model, round_matchups, player_stats,model_inputs):\n",
    "    print('-------------------' + str(model.fitted_pipeline_[0]).replace('()','') + ' TEAR-OFF-------------------')\n",
    "    for tup in round_matchups:\n",
    "        print(\"Home: \" + tup[0] + '\\t' + \"Away: \" + tup[1])\n",
    "        print(f\"{round(model.predict(return_stats_input(player_stats,tup[0],tup[1],model_inputs)[0])[0])}\" + '\\t\\t\\t' + \\\n",
    "             f\"{round(model.predict(return_stats_input(player_stats,tup[0],tup[1],model_inputs)[1])[0])}\")"
   ]
  },
  {
   "cell_type": "code",
   "execution_count": 96,
   "id": "b534c945",
   "metadata": {},
   "outputs": [
    {
     "name": "stdout",
     "output_type": "stream",
     "text": [
      "-------------------ZeroCount TEAR-OFF-------------------\n",
      "Home: Sydney Swans\tAway: Melbourne\n",
      "68\t\t\t72\n",
      "Home: Brisbane Lions\tAway: Carlton\n",
      "94\t\t\t67\n",
      "Home: Gold Coast Suns\tAway: Richmond\n",
      "69\t\t\t99\n",
      "Home: GWS Giants\tAway: Collingwood\n",
      "87\t\t\t72\n"
     ]
    }
   ],
   "source": [
    "generate_tear_off(model, round_matchups, player_stats, features)"
   ]
  },
  {
   "cell_type": "code",
   "execution_count": 97,
   "id": "633b667e",
   "metadata": {},
   "outputs": [],
   "source": [
    "round1 = [('Carlton', 'Richmond'),\n",
    "('Collingwood','Sydney Swans'),\n",
    "('Essendon','Hawthorn'),\n",
    "('GWS Giants','North Melbourne'),\n",
    "('Geelong Cats','St Kilda'),\n",
    "('Gold Coast Suns','Adelaide Crows'),\n",
    "('Melbourne','Western Bulldogs'),\n",
    "('Port Adelaide','West Coast Eagles'),\n",
    "('Fremantle','Brisbane Lions')]"
   ]
  },
  {
   "cell_type": "markdown",
   "id": "d68a99b1",
   "metadata": {},
   "source": [
    "## Version 2 Model"
   ]
  },
  {
   "cell_type": "code",
   "execution_count": 103,
   "id": "55ec83a5",
   "metadata": {},
   "outputs": [],
   "source": [
    "data = pd.read_csv('model_training_data_v2.csv')"
   ]
  },
  {
   "cell_type": "code",
   "execution_count": 104,
   "id": "e82c10c8",
   "metadata": {},
   "outputs": [
    {
     "data": {
      "text/plain": [
       "['homeTeamScore.matchScore.totalScore',\n",
       " 'awayTeamScore.matchScore.totalScore',\n",
       " 'score_diff']"
      ]
     },
     "execution_count": 104,
     "metadata": {},
     "output_type": "execute_result"
    }
   ],
   "source": [
    "targets"
   ]
  },
  {
   "cell_type": "code",
   "execution_count": 105,
   "id": "f28b1fc0",
   "metadata": {},
   "outputs": [],
   "source": [
    "def tpot_pipeline_v2(data, features, target, size=20, scoring='r2'):\n",
    "    data_ = generate_test_train_split(data, features, target)\n",
    "\n",
    "    my_scorer = make_scorer(mean_squared_error, greater_is_better=False)\n",
    "\n",
    "    pipeline_optimizer = TPOTRegressor(generations=5, population_size=size, verbosity=2, scoring=scoring)\n",
    "\n",
    "    pipeline_optimizer.fit(data_['x_train'], data_['y_train'])\n",
    "    \n",
    "    print(pipeline_optimizer.score(data_['x_test'], data_['y_test']))\n",
    "    \n",
    "    return pipeline_optimizer"
   ]
  },
  {
   "cell_type": "code",
   "execution_count": 106,
   "id": "2f1ad1cc",
   "metadata": {},
   "outputs": [
    {
     "data": {
      "application/vnd.jupyter.widget-view+json": {
       "model_id": "",
       "version_major": 2,
       "version_minor": 0
      },
      "text/plain": [
       "Optimization Progress:   0%|          | 0/120 [00:00<?, ?pipeline/s]"
      ]
     },
     "metadata": {},
     "output_type": "display_data"
    },
    {
     "name": "stdout",
     "output_type": "stream",
     "text": [
      "\n",
      "Generation 1 - Current best internal CV score: 0.9731446552014216\n",
      "\n",
      "Generation 2 - Current best internal CV score: 0.9732267451139534\n",
      "\n",
      "Generation 3 - Current best internal CV score: 0.9732267451139534\n",
      "\n",
      "Generation 4 - Current best internal CV score: 0.9732267451139534\n",
      "\n",
      "Generation 5 - Current best internal CV score: 0.9732869385758363\n",
      "\n",
      "Best pipeline: LinearSVR(RidgeCV(RobustScaler(input_matrix)), C=0.0001, dual=False, epsilon=0.01, loss=squared_epsilon_insensitive, tol=1e-05)\n",
      "0.9712729972100358\n"
     ]
    }
   ],
   "source": [
    "model = tpot_pipeline_v2(data, features, targets[2])"
   ]
  },
  {
   "cell_type": "code",
   "execution_count": 107,
   "id": "a2c12347",
   "metadata": {},
   "outputs": [],
   "source": [
    "def return_stats_inputv2(data, home_team, away_team, model_inputs, games=5):\n",
    "    '''Take in player_stats and returns aggregated team stats for previous home/away team matchups'''\n",
    "    \n",
    "#     if 'team.name' not in model_inputs:\n",
    "#         model_inputs.append('team.name')\n",
    "        \n",
    "    match_ups = data[(data['match.homeTeam.name']==home_team) & (data['match.awayTeam.name']==away_team)]\n",
    "    stats = match_ups[model_inputs+['match.homeTeam.name']].groupby('match.homeTeam.name').mean()\n",
    "    \n",
    "    return stats[model_inputs]"
   ]
  },
  {
   "cell_type": "code",
   "execution_count": 108,
   "id": "b94a364e",
   "metadata": {},
   "outputs": [],
   "source": [
    "def generate_tear_offv2(model, round_matchups, team_stats, model_inputs):\n",
    "    print('-------------------' + str(model.fitted_pipeline_[0]).replace('()','') + ' TEAR-OFF-------------------')\n",
    "    for tup in round_matchups:\n",
    "        predict = model.predict(return_stats_inputv2(team_stats, tup[0], tup[1], model_inputs))[0]\n",
    "        if predict < 0:\n",
    "            winner = tup[1]\n",
    "        else:\n",
    "            winner = tup[0]\n",
    "        print(\"------------------------------------------------\")\n",
    "        print(\"Home: \" + tup[0])\n",
    "        print(\"Away: \" + tup[1])\n",
    "        print(\"Winner: \" + winner + \"\\t       \" + \"Margin: \" + str(abs(round(predict))))"
   ]
  },
  {
   "cell_type": "code",
   "execution_count": 60,
   "id": "633253d6",
   "metadata": {},
   "outputs": [
    {
     "data": {
      "text/plain": [
       "-3.4166093584537105"
      ]
     },
     "execution_count": 60,
     "metadata": {},
     "output_type": "execute_result"
    }
   ],
   "source": [
    "model.predict(stats[features])[0]"
   ]
  },
  {
   "cell_type": "code",
   "execution_count": 110,
   "id": "44d2d470",
   "metadata": {},
   "outputs": [
    {
     "name": "stdout",
     "output_type": "stream",
     "text": [
      "-------------------RobustScaler TEAR-OFF-------------------\n",
      "------------------------------------------------\n",
      "Home: Carlton\n",
      "Away: Richmond\n",
      "Winner: Richmond\t       Margin: 3\n",
      "------------------------------------------------\n",
      "Home: Collingwood\n",
      "Away: Sydney Swans\n",
      "Winner: Collingwood\t       Margin: 15\n",
      "------------------------------------------------\n",
      "Home: Essendon\n",
      "Away: Hawthorn\n",
      "Winner: Essendon\t       Margin: 17\n",
      "------------------------------------------------\n",
      "Home: GWS Giants\n",
      "Away: North Melbourne\n",
      "Winner: North Melbourne\t       Margin: 27\n",
      "------------------------------------------------\n",
      "Home: Geelong Cats\n",
      "Away: St Kilda\n",
      "Winner: Geelong Cats\t       Margin: 27\n",
      "------------------------------------------------\n",
      "Home: Gold Coast Suns\n",
      "Away: Adelaide Crows\n",
      "Winner: Gold Coast Suns\t       Margin: 3\n",
      "------------------------------------------------\n",
      "Home: Melbourne\n",
      "Away: Western Bulldogs\n",
      "Winner: Melbourne\t       Margin: 29\n",
      "------------------------------------------------\n",
      "Home: Port Adelaide\n",
      "Away: West Coast Eagles\n",
      "Winner: Port Adelaide\t       Margin: 59\n",
      "------------------------------------------------\n",
      "Home: Fremantle\n",
      "Away: Brisbane Lions\n",
      "Winner: Brisbane Lions\t       Margin: 10\n"
     ]
    }
   ],
   "source": [
    "generate_tear_offv2(model, round1, data, features)"
   ]
  },
  {
   "cell_type": "code",
   "execution_count": 99,
   "id": "08ff700a",
   "metadata": {},
   "outputs": [
    {
     "name": "stdout",
     "output_type": "stream",
     "text": [
      "-------------------ZeroCount TEAR-OFF-------------------\n"
     ]
    },
    {
     "ename": "KeyError",
     "evalue": "'match.homeTeam.name'",
     "output_type": "error",
     "traceback": [
      "\u001b[1;31m---------------------------------------------------------------------------\u001b[0m",
      "\u001b[1;31mKeyError\u001b[0m                                  Traceback (most recent call last)",
      "\u001b[1;32m~\\Anaconda3\\lib\\site-packages\\pandas\\core\\indexes\\base.py\u001b[0m in \u001b[0;36mget_loc\u001b[1;34m(self, key, method, tolerance)\u001b[0m\n\u001b[0;32m   3628\u001b[0m             \u001b[1;32mtry\u001b[0m\u001b[1;33m:\u001b[0m\u001b[1;33m\u001b[0m\u001b[1;33m\u001b[0m\u001b[0m\n\u001b[1;32m-> 3629\u001b[1;33m                 \u001b[1;32mreturn\u001b[0m \u001b[0mself\u001b[0m\u001b[1;33m.\u001b[0m\u001b[0m_engine\u001b[0m\u001b[1;33m.\u001b[0m\u001b[0mget_loc\u001b[0m\u001b[1;33m(\u001b[0m\u001b[0mcasted_key\u001b[0m\u001b[1;33m)\u001b[0m\u001b[1;33m\u001b[0m\u001b[1;33m\u001b[0m\u001b[0m\n\u001b[0m\u001b[0;32m   3630\u001b[0m             \u001b[1;32mexcept\u001b[0m \u001b[0mKeyError\u001b[0m \u001b[1;32mas\u001b[0m \u001b[0merr\u001b[0m\u001b[1;33m:\u001b[0m\u001b[1;33m\u001b[0m\u001b[1;33m\u001b[0m\u001b[0m\n",
      "\u001b[1;32m~\\Anaconda3\\lib\\site-packages\\pandas\\_libs\\index.pyx\u001b[0m in \u001b[0;36mpandas._libs.index.IndexEngine.get_loc\u001b[1;34m()\u001b[0m\n",
      "\u001b[1;32m~\\Anaconda3\\lib\\site-packages\\pandas\\_libs\\index.pyx\u001b[0m in \u001b[0;36mpandas._libs.index.IndexEngine.get_loc\u001b[1;34m()\u001b[0m\n",
      "\u001b[1;32mpandas\\_libs\\hashtable_class_helper.pxi\u001b[0m in \u001b[0;36mpandas._libs.hashtable.PyObjectHashTable.get_item\u001b[1;34m()\u001b[0m\n",
      "\u001b[1;32mpandas\\_libs\\hashtable_class_helper.pxi\u001b[0m in \u001b[0;36mpandas._libs.hashtable.PyObjectHashTable.get_item\u001b[1;34m()\u001b[0m\n",
      "\u001b[1;31mKeyError\u001b[0m: 'match.homeTeam.name'",
      "\nThe above exception was the direct cause of the following exception:\n",
      "\u001b[1;31mKeyError\u001b[0m                                  Traceback (most recent call last)",
      "\u001b[1;32m~\\AppData\\Local\\Temp\\ipykernel_23040\\883521957.py\u001b[0m in \u001b[0;36m<module>\u001b[1;34m\u001b[0m\n\u001b[1;32m----> 1\u001b[1;33m \u001b[0mgenerate_tear_offv2\u001b[0m\u001b[1;33m(\u001b[0m\u001b[0mmodel\u001b[0m\u001b[1;33m,\u001b[0m \u001b[0mround_matchups\u001b[0m\u001b[1;33m,\u001b[0m \u001b[0mdata\u001b[0m\u001b[1;33m,\u001b[0m \u001b[0mfeatures\u001b[0m\u001b[1;33m)\u001b[0m\u001b[1;33m\u001b[0m\u001b[1;33m\u001b[0m\u001b[0m\n\u001b[0m",
      "\u001b[1;32m~\\AppData\\Local\\Temp\\ipykernel_23040\\2279625308.py\u001b[0m in \u001b[0;36mgenerate_tear_offv2\u001b[1;34m(model, round_matchups, team_stats, model_inputs)\u001b[0m\n\u001b[0;32m      2\u001b[0m     \u001b[0mprint\u001b[0m\u001b[1;33m(\u001b[0m\u001b[1;34m'-------------------'\u001b[0m \u001b[1;33m+\u001b[0m \u001b[0mstr\u001b[0m\u001b[1;33m(\u001b[0m\u001b[0mmodel\u001b[0m\u001b[1;33m.\u001b[0m\u001b[0mfitted_pipeline_\u001b[0m\u001b[1;33m[\u001b[0m\u001b[1;36m0\u001b[0m\u001b[1;33m]\u001b[0m\u001b[1;33m)\u001b[0m\u001b[1;33m.\u001b[0m\u001b[0mreplace\u001b[0m\u001b[1;33m(\u001b[0m\u001b[1;34m'()'\u001b[0m\u001b[1;33m,\u001b[0m\u001b[1;34m''\u001b[0m\u001b[1;33m)\u001b[0m \u001b[1;33m+\u001b[0m \u001b[1;34m' TEAR-OFF-------------------'\u001b[0m\u001b[1;33m)\u001b[0m\u001b[1;33m\u001b[0m\u001b[1;33m\u001b[0m\u001b[0m\n\u001b[0;32m      3\u001b[0m     \u001b[1;32mfor\u001b[0m \u001b[0mtup\u001b[0m \u001b[1;32min\u001b[0m \u001b[0mround_matchups\u001b[0m\u001b[1;33m:\u001b[0m\u001b[1;33m\u001b[0m\u001b[1;33m\u001b[0m\u001b[0m\n\u001b[1;32m----> 4\u001b[1;33m         \u001b[0mpredict\u001b[0m \u001b[1;33m=\u001b[0m \u001b[0mmodel\u001b[0m\u001b[1;33m.\u001b[0m\u001b[0mpredict\u001b[0m\u001b[1;33m(\u001b[0m\u001b[0mreturn_stats_inputv2\u001b[0m\u001b[1;33m(\u001b[0m\u001b[0mteam_stats\u001b[0m\u001b[1;33m,\u001b[0m \u001b[0mtup\u001b[0m\u001b[1;33m[\u001b[0m\u001b[1;36m0\u001b[0m\u001b[1;33m]\u001b[0m\u001b[1;33m,\u001b[0m \u001b[0mtup\u001b[0m\u001b[1;33m[\u001b[0m\u001b[1;36m1\u001b[0m\u001b[1;33m]\u001b[0m\u001b[1;33m,\u001b[0m \u001b[0mmodel_inputs\u001b[0m\u001b[1;33m)\u001b[0m\u001b[1;33m)\u001b[0m\u001b[1;33m[\u001b[0m\u001b[1;36m0\u001b[0m\u001b[1;33m]\u001b[0m\u001b[1;33m\u001b[0m\u001b[1;33m\u001b[0m\u001b[0m\n\u001b[0m\u001b[0;32m      5\u001b[0m         \u001b[1;32mif\u001b[0m \u001b[0mpredict\u001b[0m \u001b[1;33m<\u001b[0m \u001b[1;36m0\u001b[0m\u001b[1;33m:\u001b[0m\u001b[1;33m\u001b[0m\u001b[1;33m\u001b[0m\u001b[0m\n\u001b[0;32m      6\u001b[0m             \u001b[0mwinner\u001b[0m \u001b[1;33m=\u001b[0m \u001b[0mtup\u001b[0m\u001b[1;33m[\u001b[0m\u001b[1;36m1\u001b[0m\u001b[1;33m]\u001b[0m\u001b[1;33m\u001b[0m\u001b[1;33m\u001b[0m\u001b[0m\n",
      "\u001b[1;32m~\\AppData\\Local\\Temp\\ipykernel_23040\\1252346508.py\u001b[0m in \u001b[0;36mreturn_stats_inputv2\u001b[1;34m(data, home_team, away_team, model_inputs, games)\u001b[0m\n\u001b[0;32m      5\u001b[0m \u001b[1;31m#         model_inputs.append('team.name')\u001b[0m\u001b[1;33m\u001b[0m\u001b[1;33m\u001b[0m\u001b[0m\n\u001b[0;32m      6\u001b[0m \u001b[1;33m\u001b[0m\u001b[0m\n\u001b[1;32m----> 7\u001b[1;33m     \u001b[0mmatch_ups\u001b[0m \u001b[1;33m=\u001b[0m \u001b[0mdata\u001b[0m\u001b[1;33m[\u001b[0m\u001b[1;33m(\u001b[0m\u001b[0mdata\u001b[0m\u001b[1;33m[\u001b[0m\u001b[1;34m'match.homeTeam.name'\u001b[0m\u001b[1;33m]\u001b[0m\u001b[1;33m==\u001b[0m\u001b[0mhome_team\u001b[0m\u001b[1;33m)\u001b[0m \u001b[1;33m&\u001b[0m \u001b[1;33m(\u001b[0m\u001b[0mdata\u001b[0m\u001b[1;33m[\u001b[0m\u001b[1;34m'match.awayTeam.name'\u001b[0m\u001b[1;33m]\u001b[0m\u001b[1;33m==\u001b[0m\u001b[0maway_team\u001b[0m\u001b[1;33m)\u001b[0m\u001b[1;33m]\u001b[0m\u001b[1;33m\u001b[0m\u001b[1;33m\u001b[0m\u001b[0m\n\u001b[0m\u001b[0;32m      8\u001b[0m     \u001b[0mstats\u001b[0m \u001b[1;33m=\u001b[0m \u001b[0mmatch_ups\u001b[0m\u001b[1;33m[\u001b[0m\u001b[0mmodel_inputs\u001b[0m\u001b[1;33m+\u001b[0m\u001b[1;33m[\u001b[0m\u001b[1;34m'match.homeTeam.name'\u001b[0m\u001b[1;33m]\u001b[0m\u001b[1;33m]\u001b[0m\u001b[1;33m.\u001b[0m\u001b[0mgroupby\u001b[0m\u001b[1;33m(\u001b[0m\u001b[1;34m'match.homeTeam.name'\u001b[0m\u001b[1;33m)\u001b[0m\u001b[1;33m.\u001b[0m\u001b[0mmean\u001b[0m\u001b[1;33m(\u001b[0m\u001b[1;33m)\u001b[0m\u001b[1;33m\u001b[0m\u001b[1;33m\u001b[0m\u001b[0m\n\u001b[0;32m      9\u001b[0m \u001b[1;33m\u001b[0m\u001b[0m\n",
      "\u001b[1;32m~\\Anaconda3\\lib\\site-packages\\pandas\\core\\frame.py\u001b[0m in \u001b[0;36m__getitem__\u001b[1;34m(self, key)\u001b[0m\n\u001b[0;32m   3503\u001b[0m             \u001b[1;32mif\u001b[0m \u001b[0mself\u001b[0m\u001b[1;33m.\u001b[0m\u001b[0mcolumns\u001b[0m\u001b[1;33m.\u001b[0m\u001b[0mnlevels\u001b[0m \u001b[1;33m>\u001b[0m \u001b[1;36m1\u001b[0m\u001b[1;33m:\u001b[0m\u001b[1;33m\u001b[0m\u001b[1;33m\u001b[0m\u001b[0m\n\u001b[0;32m   3504\u001b[0m                 \u001b[1;32mreturn\u001b[0m \u001b[0mself\u001b[0m\u001b[1;33m.\u001b[0m\u001b[0m_getitem_multilevel\u001b[0m\u001b[1;33m(\u001b[0m\u001b[0mkey\u001b[0m\u001b[1;33m)\u001b[0m\u001b[1;33m\u001b[0m\u001b[1;33m\u001b[0m\u001b[0m\n\u001b[1;32m-> 3505\u001b[1;33m             \u001b[0mindexer\u001b[0m \u001b[1;33m=\u001b[0m \u001b[0mself\u001b[0m\u001b[1;33m.\u001b[0m\u001b[0mcolumns\u001b[0m\u001b[1;33m.\u001b[0m\u001b[0mget_loc\u001b[0m\u001b[1;33m(\u001b[0m\u001b[0mkey\u001b[0m\u001b[1;33m)\u001b[0m\u001b[1;33m\u001b[0m\u001b[1;33m\u001b[0m\u001b[0m\n\u001b[0m\u001b[0;32m   3506\u001b[0m             \u001b[1;32mif\u001b[0m \u001b[0mis_integer\u001b[0m\u001b[1;33m(\u001b[0m\u001b[0mindexer\u001b[0m\u001b[1;33m)\u001b[0m\u001b[1;33m:\u001b[0m\u001b[1;33m\u001b[0m\u001b[1;33m\u001b[0m\u001b[0m\n\u001b[0;32m   3507\u001b[0m                 \u001b[0mindexer\u001b[0m \u001b[1;33m=\u001b[0m \u001b[1;33m[\u001b[0m\u001b[0mindexer\u001b[0m\u001b[1;33m]\u001b[0m\u001b[1;33m\u001b[0m\u001b[1;33m\u001b[0m\u001b[0m\n",
      "\u001b[1;32m~\\Anaconda3\\lib\\site-packages\\pandas\\core\\indexes\\base.py\u001b[0m in \u001b[0;36mget_loc\u001b[1;34m(self, key, method, tolerance)\u001b[0m\n\u001b[0;32m   3629\u001b[0m                 \u001b[1;32mreturn\u001b[0m \u001b[0mself\u001b[0m\u001b[1;33m.\u001b[0m\u001b[0m_engine\u001b[0m\u001b[1;33m.\u001b[0m\u001b[0mget_loc\u001b[0m\u001b[1;33m(\u001b[0m\u001b[0mcasted_key\u001b[0m\u001b[1;33m)\u001b[0m\u001b[1;33m\u001b[0m\u001b[1;33m\u001b[0m\u001b[0m\n\u001b[0;32m   3630\u001b[0m             \u001b[1;32mexcept\u001b[0m \u001b[0mKeyError\u001b[0m \u001b[1;32mas\u001b[0m \u001b[0merr\u001b[0m\u001b[1;33m:\u001b[0m\u001b[1;33m\u001b[0m\u001b[1;33m\u001b[0m\u001b[0m\n\u001b[1;32m-> 3631\u001b[1;33m                 \u001b[1;32mraise\u001b[0m \u001b[0mKeyError\u001b[0m\u001b[1;33m(\u001b[0m\u001b[0mkey\u001b[0m\u001b[1;33m)\u001b[0m \u001b[1;32mfrom\u001b[0m \u001b[0merr\u001b[0m\u001b[1;33m\u001b[0m\u001b[1;33m\u001b[0m\u001b[0m\n\u001b[0m\u001b[0;32m   3632\u001b[0m             \u001b[1;32mexcept\u001b[0m \u001b[0mTypeError\u001b[0m\u001b[1;33m:\u001b[0m\u001b[1;33m\u001b[0m\u001b[1;33m\u001b[0m\u001b[0m\n\u001b[0;32m   3633\u001b[0m                 \u001b[1;31m# If we have a listlike key, _check_indexing_error will raise\u001b[0m\u001b[1;33m\u001b[0m\u001b[1;33m\u001b[0m\u001b[0m\n",
      "\u001b[1;31mKeyError\u001b[0m: 'match.homeTeam.name'"
     ]
    }
   ],
   "source": [
    "generate_tear_offv2(model, round_matchups, data, features)"
   ]
  },
  {
   "cell_type": "code",
   "execution_count": null,
   "id": "b7958584",
   "metadata": {},
   "outputs": [],
   "source": []
  }
 ],
 "metadata": {
  "kernelspec": {
   "display_name": "Python 3 (ipykernel)",
   "language": "python",
   "name": "python3"
  },
  "language_info": {
   "codemirror_mode": {
    "name": "ipython",
    "version": 3
   },
   "file_extension": ".py",
   "mimetype": "text/x-python",
   "name": "python",
   "nbconvert_exporter": "python",
   "pygments_lexer": "ipython3",
   "version": "3.9.13"
  }
 },
 "nbformat": 4,
 "nbformat_minor": 5
}
