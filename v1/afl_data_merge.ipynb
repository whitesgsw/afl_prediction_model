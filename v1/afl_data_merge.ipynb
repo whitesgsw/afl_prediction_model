{
 "cells": [
  {
   "cell_type": "markdown",
   "id": "1d524979",
   "metadata": {},
   "source": [
    "## About:\n",
    "Notebook is used to generate the inputs for the ML model requirements. <br>\n",
    "The output files for this are:\n",
    "<ul>\n",
    "    <li>team_stats.csv - aggregated stats to team level by round</li>\n",
    "    <li>team_score_results.csv - stacked scored to team level by round</li>\n",
    "    <li>merged_stat_score_data_clean.csv - combined dataset of aggregated team stats and team scores by round</li>\n",
    "</ul>"
   ]
  },
  {
   "cell_type": "code",
   "execution_count": 4,
   "id": "a0da094f",
   "metadata": {},
   "outputs": [],
   "source": [
    "import pandas as pd"
   ]
  },
  {
   "cell_type": "code",
   "execution_count": 5,
   "id": "6dc497b3",
   "metadata": {},
   "outputs": [
    {
     "name": "stderr",
     "output_type": "stream",
     "text": [
      "C:\\Users\\SeanW\\AppData\\Local\\Temp\\ipykernel_20852\\4051413681.py:3: DtypeWarning: Columns (49) have mixed types. Specify dtype option on import or set low_memory=False.\n",
      "  player_stats = pd.read_csv(\"data\\player_stats.csv\")\n"
     ]
    }
   ],
   "source": [
    "# read raw data\n",
    "game_results = pd.read_csv(\"data/game_results.csv\")\n",
    "player_stats = pd.read_csv(\"data/player_stats.csv\")\n",
    "\n",
    "# add season field\n",
    "player_stats['season'] = [i.strftime('%Y') for i in pd.to_datetime(player_stats['utcStartTime']).to_list()]"
   ]
  },
  {
   "cell_type": "code",
   "execution_count": 6,
   "id": "63f92a9b",
   "metadata": {},
   "outputs": [],
   "source": [
    "# define aggregation columns and grouping levels\n",
    "cols_to_sum = ['goals', 'behinds', 'kicks', 'handballs', 'disposals', 'marks', 'bounces',\n",
    "       'tackles', 'contestedPossessions', 'uncontestedPossessions',\n",
    "       'totalPossessions', 'inside50s', 'marksInside50', 'contestedMarks',\n",
    "       'hitouts', 'onePercenters', 'disposalEfficiency', 'clangers',\n",
    "       'freesFor', 'freesAgainst', 'rebound50s',\n",
    "       'goalAssists', 'turnovers', 'intercepts', 'tacklesInside50', 'shotsAtGoal',\n",
    "       'scoreInvolvements', 'metresGained', 'clearances.centreClearances',\n",
    "       'clearances.stoppageClearances', 'clearances.totalClearances',\n",
    "       'extendedStats.effectiveKicks', 'extendedStats.kickToHandballRatio', 'extendedStats.effectiveDisposals',\n",
    "       'extendedStats.marksOnLead', 'extendedStats.interceptMarks',\n",
    "       'extendedStats.hitoutsToAdvantage', 'extendedStats.groundBallGets',\n",
    "       'extendedStats.f50GroundBallGets', 'extendedStats.scoreLaunches',\n",
    "       'extendedStats.pressureActs', 'extendedStats.defHalfPressureActs',\n",
    "       'extendedStats.spoils', 'extendedStats.ruckContests',\n",
    "       'extendedStats.contestDefOneOnOnes', 'extendedStats.contestDefLosses',\n",
    "       'extendedStats.contestOffOneOnOnes', 'extendedStats.contestOffWins',\n",
    "       'extendedStats.centreBounceAttendances', 'extendedStats.kickins',\n",
    "       'extendedStats.kickinsPlayon']\n",
    "group_by = ['season','round.roundNumber','team.name']\n",
    "df_cols = cols_to_sum + group_by"
   ]
  },
  {
   "cell_type": "code",
   "execution_count": 7,
   "id": "477e28a1",
   "metadata": {},
   "outputs": [],
   "source": [
    "# subset to only aggregation + grouping columns\n",
    "subset_player_stats = player_stats[df_cols]"
   ]
  },
  {
   "cell_type": "code",
   "execution_count": 8,
   "id": "03926091",
   "metadata": {},
   "outputs": [],
   "source": [
    "# apply aggregation and output file\n",
    "team_stats = subset_player_stats.groupby(group_by).sum()\n",
    "team_stats.to_csv('outputs/team_stats.csv')"
   ]
  },
  {
   "cell_type": "code",
   "execution_count": 9,
   "id": "4469c8a2",
   "metadata": {},
   "outputs": [],
   "source": [
    "# get scores & stack the home & away data to the same structure as stats & output to csv\n",
    "cols = ['year', 'round', 'team', 'score']\n",
    "home_team = game_results[['round.year','round.roundNumber','match.homeTeam.name','homeTeamScore.matchScore.totalScore']]\n",
    "home_team.columns = cols\n",
    "away_team = game_results[['round.year','round.roundNumber','match.awayTeam.name','awayTeamScore.matchScore.totalScore']]\n",
    "away_team.columns = cols\n",
    "scores_df = pd.concat([home_team,away_team])\n",
    "scores_df.reset_index(inplace=True)\n",
    "scores_df.drop('index', axis=1, inplace=True)\n",
    "scores_df.to_csv('outputs/team_score_results.csv')"
   ]
  },
  {
   "cell_type": "code",
   "execution_count": 10,
   "id": "40e7c283",
   "metadata": {},
   "outputs": [],
   "source": [
    "# load processed csvs\n",
    "team_scores = pd.read_csv('outputs/team_score_results.csv')\n",
    "team_stats = pd.read_csv('outputs/team_stats.csv')"
   ]
  },
  {
   "cell_type": "code",
   "execution_count": 11,
   "id": "899ebf2e",
   "metadata": {},
   "outputs": [],
   "source": [
    "# merge the datasets\n",
    "combined_data_raw = team_stats.merge(team_scores, left_on=['season', 'round.roundNumber', 'team.name'], right_on=['year', 'round', 'team'])\n",
    "combined_data = combined_data_raw.drop(['Unnamed: 0', 'year', 'round', 'team'], axis=1)"
   ]
  },
  {
   "cell_type": "code",
   "execution_count": 12,
   "id": "babd47f2",
   "metadata": {},
   "outputs": [],
   "source": [
    "# output cleaned data to csv\n",
    "combined_data.to_csv('outputs/merged_stat_score_data_clean.csv',index=False)"
   ]
  },
  {
   "cell_type": "code",
   "execution_count": null,
   "id": "67e050e4",
   "metadata": {},
   "outputs": [],
   "source": []
  },
  {
   "cell_type": "code",
   "execution_count": null,
   "id": "e31abcfe",
   "metadata": {},
   "outputs": [],
   "source": []
  }
 ],
 "metadata": {
  "kernelspec": {
   "display_name": "Python 3 (ipykernel)",
   "language": "python",
   "name": "python3"
  },
  "language_info": {
   "codemirror_mode": {
    "name": "ipython",
    "version": 3
   },
   "file_extension": ".py",
   "mimetype": "text/x-python",
   "name": "python",
   "nbconvert_exporter": "python",
   "pygments_lexer": "ipython3",
   "version": "3.10.9"
  }
 },
 "nbformat": 4,
 "nbformat_minor": 5
}
