{
 "cells": [
  {
   "cell_type": "code",
   "execution_count": 1,
   "id": "b4a94d59",
   "metadata": {},
   "outputs": [],
   "source": [
    "import pandas as pd\n",
    "import numpy as np\n",
    "from sklearn.model_selection import train_test_split\n",
    "from sklearn.linear_model import LinearRegression\n",
    "from sklearn.metrics import mean_squared_error\n",
    "from tpot import TPOTRegressor\n",
    "from sklearn.metrics import make_scorer\n",
    "import matplotlib.pyplot as plt\n",
    "from featuresv2 import targets, metadata\n",
    "from position_group_features import features\n",
    "import json\n",
    "import requests\n",
    "%matplotlib inline"
   ]
  },
  {
   "cell_type": "markdown",
   "id": "5ab85414",
   "metadata": {},
   "source": [
    "## Version 4 Model"
   ]
  },
  {
   "cell_type": "code",
   "execution_count": 2,
   "id": "0291af49",
   "metadata": {},
   "outputs": [],
   "source": [
    "data = pd.read_csv('outputs/model_training_data.csv')"
   ]
  },
  {
   "cell_type": "code",
   "execution_count": 3,
   "id": "bd21da9b",
   "metadata": {},
   "outputs": [],
   "source": [
    "data2023 = data[data['round.year'] != 2023]"
   ]
  },
  {
   "cell_type": "code",
   "execution_count": 4,
   "id": "91ee2881",
   "metadata": {},
   "outputs": [],
   "source": [
    "round_matchups = [\n",
    "    ('Sydney Swans','Melbourne'),\n",
    "    ('Brisbane Lions','Carlton'),\n",
    "    ('Gold Coast Suns','Richmond'),\n",
    "    ('GWS Giants','Collingwood')]"
   ]
  },
  {
   "cell_type": "code",
   "execution_count": 5,
   "id": "633b667e",
   "metadata": {},
   "outputs": [],
   "source": [
    "round1 = [('Carlton', 'Richmond'),\n",
    "('Collingwood','Sydney Swans'),\n",
    "('Essendon','Hawthorn'),\n",
    "('GWS Giants','North Melbourne'),\n",
    "('Geelong Cats','St Kilda'),\n",
    "('Gold Coast Suns','Adelaide Crows'),\n",
    "('Melbourne','Western Bulldogs'),\n",
    "('Port Adelaide','West Coast Eagles'),\n",
    "('Fremantle','Brisbane Lions')]"
   ]
  },
  {
   "cell_type": "code",
   "execution_count": 6,
   "id": "4daf2a3b",
   "metadata": {},
   "outputs": [],
   "source": [
    "def generate_test_train_split(data, features, target, test_size=0.1):\n",
    "    X = data[features]\n",
    "    y = data[target]\n",
    "\n",
    "    x_train, x_test, y_train, y_test = train_test_split(X, y, test_size=test_size, random_state=42)\n",
    "    \n",
    "    return {\"x_train\":x_train,\"x_test\":x_test,\"y_train\":y_train,\"y_test\":y_test}"
   ]
  },
  {
   "cell_type": "code",
   "execution_count": 7,
   "id": "a4e669a9",
   "metadata": {},
   "outputs": [],
   "source": [
    "def tpot_pipeline(data, features, target, size=20, scoring='r2'):\n",
    "    data_ = generate_test_train_split(data, features, target)\n",
    "\n",
    "    my_scorer = make_scorer(mean_squared_error, greater_is_better=False)\n",
    "\n",
    "    pipeline_optimizer = TPOTRegressor(generations=5, population_size=size, verbosity=2, scoring=scoring)\n",
    "\n",
    "    pipeline_optimizer.fit(data_['x_train'], data_['y_train'])\n",
    "    \n",
    "    print(pipeline_optimizer.score(data_['x_test'], data_['y_test']))\n",
    "    \n",
    "    return pipeline_optimizer"
   ]
  },
  {
   "cell_type": "code",
   "execution_count": 8,
   "id": "90ca083b",
   "metadata": {},
   "outputs": [],
   "source": [
    "def return_stats_input(data, home_team, away_team, model_inputs, games=5):\n",
    "    '''Take in player_stats and returns aggregated team stats for previous home/away team matchups'''\n",
    "    \n",
    "#     if 'team.name' not in model_inputs:\n",
    "#         model_inputs.append('team.name')\n",
    "        \n",
    "    match_ups = data[(data['match.homeTeam.name']==home_team) & (data['match.awayTeam.name']==away_team)]\n",
    "    weights = range(1,len(match_ups)+1)\n",
    "\n",
    "    stats = match_ups[model_inputs+['match.homeTeam.name']].groupby('match.homeTeam.name').apply(lambda x: np.average(x, weights=weights, axis=0))\n",
    "    \n",
    "    return pd.DataFrame(dict(zip(model_inputs,stats[0])),index=[0])"
   ]
  },
  {
   "cell_type": "code",
   "execution_count": 9,
   "id": "fbe8846d",
   "metadata": {},
   "outputs": [],
   "source": [
    "def generate_margin_tear_off(model, round_matchups, team_stats, model_inputs):\n",
    "    print('-------------------' + str(model.fitted_pipeline_[0]).replace('()','') + ' TEAR-OFF-------------------')\n",
    "    for tup in round_matchups:\n",
    "        predict = model.predict(return_stats_input(team_stats, tup[0], tup[1], model_inputs))[0]\n",
    "        if predict < 0:\n",
    "            winner = tup[1]\n",
    "        else:\n",
    "            winner = tup[0]\n",
    "        print(\"------------------------------------------------\")\n",
    "        print(\"Home: \" + tup[0])\n",
    "        print(\"Away: \" + tup[1])\n",
    "        print(\"Winner: \" + winner + \"\\t       \" + \"Margin: \" + str(abs(round(predict))))"
   ]
  },
  {
   "cell_type": "code",
   "execution_count": 10,
   "id": "3c39ab8b",
   "metadata": {},
   "outputs": [],
   "source": [
    "def generate_score_tear_off(home_model, away_model, round_matchups, team_stats, model_inputs):\n",
    "   # print('-------------------' + str(model.fitted_pipeline_[0]).replace('()','') + ' TEAR-OFF-------------------')\n",
    "    preds = []\n",
    "    for tup in round_matchups:\n",
    "        try:\n",
    "            h_predict = home_model.predict(return_stats_input(team_stats, tup[0], tup[1], model_inputs))[0]\n",
    "            a_predict = away_model.predict(return_stats_input(team_stats, tup[0], tup[1], model_inputs))[0]\n",
    "            if h_predict < a_predict:\n",
    "                winner = tup[1]\n",
    "                margin = round(a_predict) - round(h_predict)\n",
    "            else:\n",
    "                winner = tup[0]\n",
    "                margin = round(h_predict) - round(a_predict)\n",
    "            paddingh = 25 - len(\"Home: \" + tup[0])\n",
    "            paddinga = 25 - len(\"Away: \" + tup[1])\n",
    "            print(\"------------------------------------------------\")\n",
    "            print(\"Home: \" + tup[0] + \" \"*paddingh + str(abs(round(h_predict))))\n",
    "            print(\"Away: \" + tup[1] + \" \"*paddinga + str(abs(round(a_predict))))\n",
    "            print(\"Winner: \" + winner + \" by \"+ str(margin) + \" points\")\n",
    "            print(\"Total Score: \" + str(round(h_predict) + round(a_predict)))\n",
    "            preds.append((h_predict, a_predict, margin))\n",
    "        except:\n",
    "            print(\"No prior game\")\n",
    "            preds.append((0, 0, 0))\n",
    "    return preds"
   ]
  },
  {
   "cell_type": "code",
   "execution_count": 11,
   "id": "6c33b9c8",
   "metadata": {},
   "outputs": [
    {
     "data": {
      "application/vnd.jupyter.widget-view+json": {
       "model_id": "",
       "version_major": 2,
       "version_minor": 0
      },
      "text/plain": [
       "Optimization Progress:   0%|          | 0/60 [00:00<?, ?pipeline/s]"
      ]
     },
     "metadata": {},
     "output_type": "display_data"
    },
    {
     "name": "stdout",
     "output_type": "stream",
     "text": [
      "\n",
      "Generation 1 - Current best internal CV score: 0.9397505031560384\n",
      "\n",
      "Generation 2 - Current best internal CV score: 0.9397505031560384\n",
      "\n",
      "Generation 3 - Current best internal CV score: 0.9397505031560384\n",
      "\n",
      "Generation 4 - Current best internal CV score: 0.9397505031560384\n",
      "\n",
      "Generation 5 - Current best internal CV score: 0.9434867270396335\n",
      "\n",
      "Best pipeline: ElasticNetCV(MinMaxScaler(input_matrix), l1_ratio=0.8, tol=1e-05)\n",
      "0.9197378733312305\n"
     ]
    }
   ],
   "source": [
    "home_model = tpot_pipeline(data, features, targets[0], size=10)"
   ]
  },
  {
   "cell_type": "code",
   "execution_count": 12,
   "id": "36632e61",
   "metadata": {},
   "outputs": [
    {
     "data": {
      "application/vnd.jupyter.widget-view+json": {
       "model_id": "",
       "version_major": 2,
       "version_minor": 0
      },
      "text/plain": [
       "Optimization Progress:   0%|          | 0/60 [00:00<?, ?pipeline/s]"
      ]
     },
     "metadata": {},
     "output_type": "display_data"
    },
    {
     "name": "stdout",
     "output_type": "stream",
     "text": [
      "\n",
      "Generation 1 - Current best internal CV score: 0.9505816855770817\n",
      "\n",
      "Generation 2 - Current best internal CV score: 0.9505816855770817\n",
      "\n",
      "Generation 3 - Current best internal CV score: 0.9505816855770817\n",
      "\n",
      "Generation 4 - Current best internal CV score: 0.9505816855770817\n",
      "\n",
      "Generation 5 - Current best internal CV score: 0.9505816855770817\n",
      "\n",
      "Best pipeline: ElasticNetCV(StandardScaler(input_matrix), l1_ratio=1.0, tol=0.01)\n",
      "0.9391635032790449\n"
     ]
    }
   ],
   "source": [
    "away_model = tpot_pipeline(data, features, targets[1], size=10)"
   ]
  },
  {
   "cell_type": "code",
   "execution_count": 13,
   "id": "27717d30",
   "metadata": {},
   "outputs": [],
   "source": [
    "# margin_model = tpot_pipeline(data, features, targets[2], size=10)"
   ]
  },
  {
   "cell_type": "code",
   "execution_count": 14,
   "id": "15cd3b3d",
   "metadata": {},
   "outputs": [],
   "source": [
    "#generate_score_tear_off(home_model, away_model, round1, data, features)"
   ]
  },
  {
   "cell_type": "code",
   "execution_count": 15,
   "id": "08ff700a",
   "metadata": {},
   "outputs": [],
   "source": [
    "# print(return_stats_inputv3(data, home_team, away_team, features))\n",
    "# generate_margin_tear_off(margin_model, round1, data, features)\n",
    "# data[(data['match.homeTeam.name']==home_team) & (data['match.awayTeam.name']==away_team)][features].head()"
   ]
  },
  {
   "cell_type": "code",
   "execution_count": 16,
   "id": "79b50162",
   "metadata": {},
   "outputs": [
    {
     "name": "stdout",
     "output_type": "stream",
     "text": [
      "------------------------------------------------\n",
      "Home: Sydney Swans       75\n",
      "Away: Melbourne          68\n",
      "Winner: Sydney Swans by 7 points\n",
      "Total Score: 143\n",
      "------------------------------------------------\n",
      "Home: Brisbane Lions     94\n",
      "Away: Carlton            74\n",
      "Winner: Brisbane Lions by 20 points\n",
      "Total Score: 168\n"
     ]
    },
    {
     "name": "stderr",
     "output_type": "stream",
     "text": [
      "C:\\Users\\SeanW\\AppData\\Local\\Temp\\ipykernel_12728\\905886690.py:10: FutureWarning: Not prepending group keys to the result index of transform-like apply. In the future, the group keys will be included in the index, regardless of whether the applied function returns a like-indexed object.\n",
      "To preserve the previous behavior, use\n",
      "\n",
      "\t>>> .groupby(..., group_keys=False)\n",
      "\n",
      "To adopt the future behavior and silence this warning, use \n",
      "\n",
      "\t>>> .groupby(..., group_keys=True)\n",
      "  stats = match_ups[model_inputs+['match.homeTeam.name']].groupby('match.homeTeam.name').apply(lambda x: np.average(x, weights=weights, axis=0))\n"
     ]
    },
    {
     "name": "stdout",
     "output_type": "stream",
     "text": [
      "No prior game\n"
     ]
    },
    {
     "name": "stderr",
     "output_type": "stream",
     "text": [
      "C:\\Users\\SeanW\\AppData\\Local\\Temp\\ipykernel_12728\\905886690.py:10: FutureWarning: Not prepending group keys to the result index of transform-like apply. In the future, the group keys will be included in the index, regardless of whether the applied function returns a like-indexed object.\n",
      "To preserve the previous behavior, use\n",
      "\n",
      "\t>>> .groupby(..., group_keys=False)\n",
      "\n",
      "To adopt the future behavior and silence this warning, use \n",
      "\n",
      "\t>>> .groupby(..., group_keys=True)\n",
      "  stats = match_ups[model_inputs+['match.homeTeam.name']].groupby('match.homeTeam.name').apply(lambda x: np.average(x, weights=weights, axis=0))\n"
     ]
    },
    {
     "name": "stdout",
     "output_type": "stream",
     "text": [
      "No prior game\n",
      "------------------------------------------------\n",
      "Home: Carlton            83\n",
      "Away: Richmond           86\n",
      "Winner: Richmond by 3 points\n",
      "Total Score: 169\n",
      "------------------------------------------------\n",
      "Home: Collingwood        66\n",
      "Away: Sydney Swans       75\n",
      "Winner: Sydney Swans by 9 points\n",
      "Total Score: 141\n",
      "------------------------------------------------\n",
      "Home: Essendon           100\n",
      "Away: Hawthorn           83\n",
      "Winner: Essendon by 17 points\n",
      "Total Score: 183\n"
     ]
    },
    {
     "name": "stderr",
     "output_type": "stream",
     "text": [
      "C:\\Users\\SeanW\\AppData\\Local\\Temp\\ipykernel_12728\\905886690.py:10: FutureWarning: Not prepending group keys to the result index of transform-like apply. In the future, the group keys will be included in the index, regardless of whether the applied function returns a like-indexed object.\n",
      "To preserve the previous behavior, use\n",
      "\n",
      "\t>>> .groupby(..., group_keys=False)\n",
      "\n",
      "To adopt the future behavior and silence this warning, use \n",
      "\n",
      "\t>>> .groupby(..., group_keys=True)\n",
      "  stats = match_ups[model_inputs+['match.homeTeam.name']].groupby('match.homeTeam.name').apply(lambda x: np.average(x, weights=weights, axis=0))\n"
     ]
    },
    {
     "name": "stdout",
     "output_type": "stream",
     "text": [
      "No prior game\n",
      "------------------------------------------------\n",
      "Home: Geelong Cats       94\n",
      "Away: St Kilda           66\n",
      "Winner: Geelong Cats by 28 points\n",
      "Total Score: 160\n"
     ]
    },
    {
     "name": "stderr",
     "output_type": "stream",
     "text": [
      "C:\\Users\\SeanW\\AppData\\Local\\Temp\\ipykernel_12728\\905886690.py:10: FutureWarning: Not prepending group keys to the result index of transform-like apply. In the future, the group keys will be included in the index, regardless of whether the applied function returns a like-indexed object.\n",
      "To preserve the previous behavior, use\n",
      "\n",
      "\t>>> .groupby(..., group_keys=False)\n",
      "\n",
      "To adopt the future behavior and silence this warning, use \n",
      "\n",
      "\t>>> .groupby(..., group_keys=True)\n",
      "  stats = match_ups[model_inputs+['match.homeTeam.name']].groupby('match.homeTeam.name').apply(lambda x: np.average(x, weights=weights, axis=0))\n"
     ]
    },
    {
     "name": "stdout",
     "output_type": "stream",
     "text": [
      "No prior game\n",
      "------------------------------------------------\n",
      "Home: Melbourne          109\n",
      "Away: Western Bulldogs   66\n",
      "Winner: Melbourne by 43 points\n",
      "Total Score: 175\n",
      "------------------------------------------------\n",
      "Home: Port Adelaide      100\n",
      "Away: West Coast Eagles  60\n",
      "Winner: Port Adelaide by 40 points\n",
      "Total Score: 160\n",
      "------------------------------------------------\n",
      "Home: Fremantle          80\n",
      "Away: Brisbane Lions     84\n",
      "Winner: Brisbane Lions by 4 points\n",
      "Total Score: 164\n",
      "------------------------------------------------\n",
      "Home: St Kilda           86\n",
      "Away: Collingwood        89\n",
      "Winner: Collingwood by 3 points\n",
      "Total Score: 175\n",
      "------------------------------------------------\n",
      "Home: Adelaide Crows     85\n",
      "Away: Geelong Cats       89\n",
      "Winner: Geelong Cats by 4 points\n",
      "Total Score: 174\n",
      "------------------------------------------------\n",
      "Home: North Melbourne    64\n",
      "Away: Fremantle          96\n",
      "Winner: Fremantle by 32 points\n",
      "Total Score: 160\n",
      "------------------------------------------------\n",
      "Home: Hawthorn           52\n",
      "Away: Melbourne          98\n",
      "Winner: Melbourne by 46 points\n",
      "Total Score: 150\n",
      "------------------------------------------------\n",
      "Home: Sydney Swans       99\n",
      "Away: Essendon           75\n",
      "Winner: Sydney Swans by 24 points\n",
      "Total Score: 174\n"
     ]
    },
    {
     "name": "stderr",
     "output_type": "stream",
     "text": [
      "C:\\Users\\SeanW\\AppData\\Local\\Temp\\ipykernel_12728\\905886690.py:10: FutureWarning: Not prepending group keys to the result index of transform-like apply. In the future, the group keys will be included in the index, regardless of whether the applied function returns a like-indexed object.\n",
      "To preserve the previous behavior, use\n",
      "\n",
      "\t>>> .groupby(..., group_keys=False)\n",
      "\n",
      "To adopt the future behavior and silence this warning, use \n",
      "\n",
      "\t>>> .groupby(..., group_keys=True)\n",
      "  stats = match_ups[model_inputs+['match.homeTeam.name']].groupby('match.homeTeam.name').apply(lambda x: np.average(x, weights=weights, axis=0))\n"
     ]
    },
    {
     "name": "stdout",
     "output_type": "stream",
     "text": [
      "No prior game\n",
      "------------------------------------------------\n",
      "Home: Richmond           84\n",
      "Away: Port Adelaide      90\n",
      "Winner: Port Adelaide by 6 points\n",
      "Total Score: 174\n"
     ]
    },
    {
     "name": "stderr",
     "output_type": "stream",
     "text": [
      "C:\\Users\\SeanW\\AppData\\Local\\Temp\\ipykernel_12728\\905886690.py:10: FutureWarning: Not prepending group keys to the result index of transform-like apply. In the future, the group keys will be included in the index, regardless of whether the applied function returns a like-indexed object.\n",
      "To preserve the previous behavior, use\n",
      "\n",
      "\t>>> .groupby(..., group_keys=False)\n",
      "\n",
      "To adopt the future behavior and silence this warning, use \n",
      "\n",
      "\t>>> .groupby(..., group_keys=True)\n",
      "  stats = match_ups[model_inputs+['match.homeTeam.name']].groupby('match.homeTeam.name').apply(lambda x: np.average(x, weights=weights, axis=0))\n"
     ]
    },
    {
     "name": "stdout",
     "output_type": "stream",
     "text": [
      "No prior game\n",
      "------------------------------------------------\n",
      "Home: Brisbane Lions     94\n",
      "Away: Collingwood        81\n",
      "Winner: Brisbane Lions by 13 points\n",
      "Total Score: 175\n",
      "------------------------------------------------\n",
      "Home: North Melbourne    83\n",
      "Away: Carlton            100\n",
      "Winner: Carlton by 17 points\n",
      "Total Score: 183\n",
      "------------------------------------------------\n",
      "Home: Fremantle          73\n",
      "Away: Adelaide Crows     49\n",
      "Winner: Fremantle by 24 points\n",
      "Total Score: 122\n",
      "------------------------------------------------\n",
      "Home: Essendon           98\n",
      "Away: St Kilda           73\n",
      "Winner: Essendon by 25 points\n",
      "Total Score: 171\n",
      "------------------------------------------------\n",
      "Home: Port Adelaide      70\n",
      "Away: Melbourne          77\n",
      "Winner: Melbourne by 7 points\n",
      "Total Score: 147\n",
      "------------------------------------------------\n",
      "Home: Western Bulldogs   90\n",
      "Away: West Coast Eagles  75\n",
      "Winner: Western Bulldogs by 15 points\n",
      "Total Score: 165\n",
      "------------------------------------------------\n",
      "Home: Richmond           76\n",
      "Away: Sydney Swans       83\n",
      "Winner: Sydney Swans by 7 points\n",
      "Total Score: 159\n",
      "------------------------------------------------\n",
      "Home: Hawthorn           79\n",
      "Away: Geelong Cats       94\n",
      "Winner: Geelong Cats by 15 points\n",
      "Total Score: 173\n",
      "------------------------------------------------\n",
      "Home: Adelaide Crows     68\n",
      "Away: Melbourne          90\n",
      "Winner: Melbourne by 22 points\n",
      "Total Score: 158\n",
      "------------------------------------------------\n",
      "Home: Brisbane Lions     125\n",
      "Away: North Melbourne    67\n",
      "Winner: Brisbane Lions by 58 points\n",
      "Total Score: 192\n",
      "------------------------------------------------\n",
      "Home: Port Adelaide      95\n",
      "Away: Essendon           62\n",
      "Winner: Port Adelaide by 33 points\n",
      "Total Score: 157\n",
      "------------------------------------------------\n",
      "Home: West Coast Eagles  76\n",
      "Away: Sydney Swans       96\n",
      "Winner: Sydney Swans by 20 points\n",
      "Total Score: 172\n",
      "------------------------------------------------\n",
      "Home: Fremantle          64\n",
      "Away: Carlton            72\n",
      "Winner: Carlton by 8 points\n",
      "Total Score: 136\n",
      "------------------------------------------------\n",
      "Home: Western Bulldogs   79\n",
      "Away: Geelong Cats       86\n",
      "Winner: Geelong Cats by 7 points\n",
      "Total Score: 165\n"
     ]
    },
    {
     "name": "stderr",
     "output_type": "stream",
     "text": [
      "C:\\Users\\SeanW\\AppData\\Local\\Temp\\ipykernel_12728\\905886690.py:10: FutureWarning: Not prepending group keys to the result index of transform-like apply. In the future, the group keys will be included in the index, regardless of whether the applied function returns a like-indexed object.\n",
      "To preserve the previous behavior, use\n",
      "\n",
      "\t>>> .groupby(..., group_keys=False)\n",
      "\n",
      "To adopt the future behavior and silence this warning, use \n",
      "\n",
      "\t>>> .groupby(..., group_keys=True)\n",
      "  stats = match_ups[model_inputs+['match.homeTeam.name']].groupby('match.homeTeam.name').apply(lambda x: np.average(x, weights=weights, axis=0))\n"
     ]
    },
    {
     "name": "stdout",
     "output_type": "stream",
     "text": [
      "No prior game\n",
      "------------------------------------------------\n",
      "Home: Richmond           65\n",
      "Away: St Kilda           74\n",
      "Winner: St Kilda by 9 points\n",
      "Total Score: 139\n",
      "------------------------------------------------\n",
      "Home: Collingwood        78\n",
      "Away: Hawthorn           53\n",
      "Winner: Collingwood by 25 points\n",
      "Total Score: 131\n",
      "------------------------------------------------\n",
      "Home: Melbourne          85\n",
      "Away: Brisbane Lions     79\n",
      "Winner: Melbourne by 6 points\n",
      "Total Score: 164\n",
      "------------------------------------------------\n",
      "Home: Western Bulldogs   87\n",
      "Away: Essendon           79\n",
      "Winner: Western Bulldogs by 8 points\n",
      "Total Score: 166\n",
      "No prior game\n"
     ]
    },
    {
     "name": "stderr",
     "output_type": "stream",
     "text": [
      "C:\\Users\\SeanW\\AppData\\Local\\Temp\\ipykernel_12728\\905886690.py:10: FutureWarning: Not prepending group keys to the result index of transform-like apply. In the future, the group keys will be included in the index, regardless of whether the applied function returns a like-indexed object.\n",
      "To preserve the previous behavior, use\n",
      "\n",
      "\t>>> .groupby(..., group_keys=False)\n",
      "\n",
      "To adopt the future behavior and silence this warning, use \n",
      "\n",
      "\t>>> .groupby(..., group_keys=True)\n",
      "  stats = match_ups[model_inputs+['match.homeTeam.name']].groupby('match.homeTeam.name').apply(lambda x: np.average(x, weights=weights, axis=0))\n"
     ]
    },
    {
     "name": "stdout",
     "output_type": "stream",
     "text": [
      "------------------------------------------------\n",
      "Home: Carlton            89\n",
      "Away: Adelaide Crows     83\n",
      "Winner: Carlton by 6 points\n",
      "Total Score: 172\n",
      "No prior game\n"
     ]
    },
    {
     "name": "stderr",
     "output_type": "stream",
     "text": [
      "C:\\Users\\SeanW\\AppData\\Local\\Temp\\ipykernel_12728\\905886690.py:10: FutureWarning: Not prepending group keys to the result index of transform-like apply. In the future, the group keys will be included in the index, regardless of whether the applied function returns a like-indexed object.\n",
      "To preserve the previous behavior, use\n",
      "\n",
      "\t>>> .groupby(..., group_keys=False)\n",
      "\n",
      "To adopt the future behavior and silence this warning, use \n",
      "\n",
      "\t>>> .groupby(..., group_keys=True)\n",
      "  stats = match_ups[model_inputs+['match.homeTeam.name']].groupby('match.homeTeam.name').apply(lambda x: np.average(x, weights=weights, axis=0))\n"
     ]
    },
    {
     "name": "stdout",
     "output_type": "stream",
     "text": [
      "------------------------------------------------\n",
      "Home: Port Adelaide      99\n",
      "Away: Fremantle          66\n",
      "Winner: Port Adelaide by 33 points\n",
      "Total Score: 165\n",
      "------------------------------------------------\n",
      "Home: Geelong Cats       111\n",
      "Away: North Melbourne    53\n",
      "Winner: Geelong Cats by 58 points\n",
      "Total Score: 164\n",
      "------------------------------------------------\n",
      "Home: West Coast Eagles  83\n",
      "Away: Richmond           101\n",
      "Winner: Richmond by 18 points\n",
      "Total Score: 184\n",
      "------------------------------------------------\n",
      "Home: St Kilda           77\n",
      "Away: Western Bulldogs   83\n",
      "Winner: Western Bulldogs by 6 points\n",
      "Total Score: 160\n",
      "------------------------------------------------\n",
      "Home: Adelaide Crows     75\n",
      "Away: Essendon           76\n",
      "Winner: Essendon by 1 points\n",
      "Total Score: 151\n",
      "------------------------------------------------\n",
      "Home: Collingwood        95\n",
      "Away: Port Adelaide      73\n",
      "Winner: Collingwood by 22 points\n",
      "Total Score: 168\n"
     ]
    },
    {
     "name": "stderr",
     "output_type": "stream",
     "text": [
      "C:\\Users\\SeanW\\AppData\\Local\\Temp\\ipykernel_12728\\905886690.py:10: FutureWarning: Not prepending group keys to the result index of transform-like apply. In the future, the group keys will be included in the index, regardless of whether the applied function returns a like-indexed object.\n",
      "To preserve the previous behavior, use\n",
      "\n",
      "\t>>> .groupby(..., group_keys=False)\n",
      "\n",
      "To adopt the future behavior and silence this warning, use \n",
      "\n",
      "\t>>> .groupby(..., group_keys=True)\n",
      "  stats = match_ups[model_inputs+['match.homeTeam.name']].groupby('match.homeTeam.name').apply(lambda x: np.average(x, weights=weights, axis=0))\n"
     ]
    },
    {
     "name": "stdout",
     "output_type": "stream",
     "text": [
      "No prior game\n",
      "------------------------------------------------\n",
      "Home: Brisbane Lions     60\n",
      "Away: Geelong Cats       65\n",
      "Winner: Geelong Cats by 5 points\n",
      "Total Score: 125\n",
      "------------------------------------------------\n",
      "Home: West Coast Eagles  78\n",
      "Away: Fremantle          88\n",
      "Winner: Fremantle by 10 points\n",
      "Total Score: 166\n"
     ]
    },
    {
     "name": "stderr",
     "output_type": "stream",
     "text": [
      "C:\\Users\\SeanW\\AppData\\Local\\Temp\\ipykernel_12728\\905886690.py:10: FutureWarning: Not prepending group keys to the result index of transform-like apply. In the future, the group keys will be included in the index, regardless of whether the applied function returns a like-indexed object.\n",
      "To preserve the previous behavior, use\n",
      "\n",
      "\t>>> .groupby(..., group_keys=False)\n",
      "\n",
      "To adopt the future behavior and silence this warning, use \n",
      "\n",
      "\t>>> .groupby(..., group_keys=True)\n",
      "  stats = match_ups[model_inputs+['match.homeTeam.name']].groupby('match.homeTeam.name').apply(lambda x: np.average(x, weights=weights, axis=0))\n"
     ]
    },
    {
     "name": "stdout",
     "output_type": "stream",
     "text": [
      "No prior game\n",
      "------------------------------------------------\n",
      "Home: North Melbourne    64\n",
      "Away: Hawthorn           99\n",
      "Winner: Hawthorn by 35 points\n",
      "Total Score: 163\n",
      "------------------------------------------------\n",
      "Home: Richmond           68\n",
      "Away: Melbourne          85\n",
      "Winner: Melbourne by 17 points\n",
      "Total Score: 153\n",
      "------------------------------------------------\n",
      "Home: Essendon           74\n",
      "Away: Collingwood        84\n",
      "Winner: Collingwood by 10 points\n",
      "Total Score: 158\n"
     ]
    },
    {
     "name": "stderr",
     "output_type": "stream",
     "text": [
      "C:\\Users\\SeanW\\AppData\\Local\\Temp\\ipykernel_12728\\905886690.py:10: FutureWarning: Not prepending group keys to the result index of transform-like apply. In the future, the group keys will be included in the index, regardless of whether the applied function returns a like-indexed object.\n",
      "To preserve the previous behavior, use\n",
      "\n",
      "\t>>> .groupby(..., group_keys=False)\n",
      "\n",
      "To adopt the future behavior and silence this warning, use \n",
      "\n",
      "\t>>> .groupby(..., group_keys=True)\n",
      "  stats = match_ups[model_inputs+['match.homeTeam.name']].groupby('match.homeTeam.name').apply(lambda x: np.average(x, weights=weights, axis=0))\n"
     ]
    },
    {
     "name": "stdout",
     "output_type": "stream",
     "text": [
      "No prior game\n",
      "------------------------------------------------\n",
      "Home: Port Adelaide      80\n",
      "Away: St Kilda           58\n",
      "Winner: Port Adelaide by 22 points\n",
      "Total Score: 138\n",
      "------------------------------------------------\n",
      "Home: North Melbourne    76\n",
      "Away: Adelaide Crows     105\n",
      "Winner: Adelaide Crows by 29 points\n",
      "Total Score: 181\n",
      "------------------------------------------------\n",
      "Home: Geelong Cats       100\n",
      "Away: Carlton            81\n",
      "Winner: Geelong Cats by 19 points\n",
      "Total Score: 181\n",
      "------------------------------------------------\n",
      "Home: Fremantle          78\n",
      "Away: Western Bulldogs   79\n",
      "Winner: Western Bulldogs by 1 points\n",
      "Total Score: 157\n"
     ]
    },
    {
     "name": "stderr",
     "output_type": "stream",
     "text": [
      "C:\\Users\\SeanW\\AppData\\Local\\Temp\\ipykernel_12728\\905886690.py:10: FutureWarning: Not prepending group keys to the result index of transform-like apply. In the future, the group keys will be included in the index, regardless of whether the applied function returns a like-indexed object.\n",
      "To preserve the previous behavior, use\n",
      "\n",
      "\t>>> .groupby(..., group_keys=False)\n",
      "\n",
      "To adopt the future behavior and silence this warning, use \n",
      "\n",
      "\t>>> .groupby(..., group_keys=True)\n",
      "  stats = match_ups[model_inputs+['match.homeTeam.name']].groupby('match.homeTeam.name').apply(lambda x: np.average(x, weights=weights, axis=0))\n"
     ]
    },
    {
     "name": "stdout",
     "output_type": "stream",
     "text": [
      "No prior game\n",
      "------------------------------------------------\n",
      "Home: Hawthorn           58\n",
      "Away: Sydney Swans       104\n",
      "Winner: Sydney Swans by 46 points\n",
      "Total Score: 162\n",
      "------------------------------------------------\n",
      "Home: Adelaide Crows     85\n",
      "Away: Port Adelaide      70\n",
      "Winner: Adelaide Crows by 15 points\n",
      "Total Score: 155\n",
      "------------------------------------------------\n",
      "Home: Carlton            70\n",
      "Away: Collingwood        87\n",
      "Winner: Collingwood by 17 points\n",
      "Total Score: 157\n"
     ]
    },
    {
     "name": "stderr",
     "output_type": "stream",
     "text": [
      "C:\\Users\\SeanW\\AppData\\Local\\Temp\\ipykernel_12728\\905886690.py:10: FutureWarning: Not prepending group keys to the result index of transform-like apply. In the future, the group keys will be included in the index, regardless of whether the applied function returns a like-indexed object.\n",
      "To preserve the previous behavior, use\n",
      "\n",
      "\t>>> .groupby(..., group_keys=False)\n",
      "\n",
      "To adopt the future behavior and silence this warning, use \n",
      "\n",
      "\t>>> .groupby(..., group_keys=True)\n",
      "  stats = match_ups[model_inputs+['match.homeTeam.name']].groupby('match.homeTeam.name').apply(lambda x: np.average(x, weights=weights, axis=0))\n"
     ]
    },
    {
     "name": "stdout",
     "output_type": "stream",
     "text": [
      "No prior game\n",
      "------------------------------------------------\n",
      "Home: St Kilda           93\n",
      "Away: North Melbourne    69\n",
      "Winner: St Kilda by 24 points\n",
      "Total Score: 162\n",
      "------------------------------------------------\n",
      "Home: Melbourne          84\n",
      "Away: Geelong Cats       54\n",
      "Winner: Melbourne by 30 points\n",
      "Total Score: 138\n",
      "------------------------------------------------\n",
      "Home: West Coast Eagles  78\n",
      "Away: Essendon           81\n",
      "Winner: Essendon by 3 points\n",
      "Total Score: 159\n",
      "------------------------------------------------\n",
      "Home: Richmond           63\n",
      "Away: Fremantle          61\n",
      "Winner: Richmond by 2 points\n",
      "Total Score: 124\n",
      "------------------------------------------------\n",
      "Home: Western Bulldogs   81\n",
      "Away: Hawthorn           93\n",
      "Winner: Hawthorn by 12 points\n",
      "Total Score: 174\n"
     ]
    },
    {
     "name": "stderr",
     "output_type": "stream",
     "text": [
      "C:\\Users\\SeanW\\AppData\\Local\\Temp\\ipykernel_12728\\905886690.py:10: FutureWarning: Not prepending group keys to the result index of transform-like apply. In the future, the group keys will be included in the index, regardless of whether the applied function returns a like-indexed object.\n",
      "To preserve the previous behavior, use\n",
      "\n",
      "\t>>> .groupby(..., group_keys=False)\n",
      "\n",
      "To adopt the future behavior and silence this warning, use \n",
      "\n",
      "\t>>> .groupby(..., group_keys=True)\n",
      "  stats = match_ups[model_inputs+['match.homeTeam.name']].groupby('match.homeTeam.name').apply(lambda x: np.average(x, weights=weights, axis=0))\n"
     ]
    },
    {
     "name": "stdout",
     "output_type": "stream",
     "text": [
      "No prior game\n",
      "------------------------------------------------\n",
      "Home: Carlton            66\n",
      "Away: Melbourne          81\n",
      "Winner: Melbourne by 15 points\n",
      "Total Score: 147\n",
      "------------------------------------------------\n",
      "Home: Geelong Cats       94\n",
      "Away: Port Adelaide      76\n",
      "Winner: Geelong Cats by 18 points\n",
      "Total Score: 170\n",
      "------------------------------------------------\n",
      "Home: Fremantle          62\n",
      "Away: Sydney Swans       85\n",
      "Winner: Sydney Swans by 23 points\n",
      "Total Score: 147\n",
      "------------------------------------------------\n",
      "Home: Hawthorn           72\n",
      "Away: St Kilda           97\n",
      "Winner: St Kilda by 25 points\n",
      "Total Score: 169\n"
     ]
    },
    {
     "name": "stderr",
     "output_type": "stream",
     "text": [
      "C:\\Users\\SeanW\\AppData\\Local\\Temp\\ipykernel_12728\\905886690.py:10: FutureWarning: Not prepending group keys to the result index of transform-like apply. In the future, the group keys will be included in the index, regardless of whether the applied function returns a like-indexed object.\n",
      "To preserve the previous behavior, use\n",
      "\n",
      "\t>>> .groupby(..., group_keys=False)\n",
      "\n",
      "To adopt the future behavior and silence this warning, use \n",
      "\n",
      "\t>>> .groupby(..., group_keys=True)\n",
      "  stats = match_ups[model_inputs+['match.homeTeam.name']].groupby('match.homeTeam.name').apply(lambda x: np.average(x, weights=weights, axis=0))\n"
     ]
    },
    {
     "name": "stdout",
     "output_type": "stream",
     "text": [
      "No prior game\n",
      "------------------------------------------------\n",
      "Home: Richmond           74\n",
      "Away: Western Bulldogs   92\n",
      "Winner: Western Bulldogs by 18 points\n",
      "Total Score: 166\n"
     ]
    },
    {
     "name": "stderr",
     "output_type": "stream",
     "text": [
      "C:\\Users\\SeanW\\AppData\\Local\\Temp\\ipykernel_12728\\905886690.py:10: FutureWarning: Not prepending group keys to the result index of transform-like apply. In the future, the group keys will be included in the index, regardless of whether the applied function returns a like-indexed object.\n",
      "To preserve the previous behavior, use\n",
      "\n",
      "\t>>> .groupby(..., group_keys=False)\n",
      "\n",
      "To adopt the future behavior and silence this warning, use \n",
      "\n",
      "\t>>> .groupby(..., group_keys=True)\n",
      "  stats = match_ups[model_inputs+['match.homeTeam.name']].groupby('match.homeTeam.name').apply(lambda x: np.average(x, weights=weights, axis=0))\n"
     ]
    },
    {
     "name": "stdout",
     "output_type": "stream",
     "text": [
      "No prior game\n",
      "------------------------------------------------\n",
      "Home: Collingwood        84\n",
      "Away: West Coast Eagles  70\n",
      "Winner: Collingwood by 14 points\n",
      "Total Score: 154\n",
      "------------------------------------------------\n",
      "Home: Adelaide Crows     86\n",
      "Away: Brisbane Lions     89\n",
      "Winner: Brisbane Lions by 3 points\n",
      "Total Score: 175\n"
     ]
    },
    {
     "name": "stderr",
     "output_type": "stream",
     "text": [
      "C:\\Users\\SeanW\\AppData\\Local\\Temp\\ipykernel_12728\\905886690.py:10: FutureWarning: Not prepending group keys to the result index of transform-like apply. In the future, the group keys will be included in the index, regardless of whether the applied function returns a like-indexed object.\n",
      "To preserve the previous behavior, use\n",
      "\n",
      "\t>>> .groupby(..., group_keys=False)\n",
      "\n",
      "To adopt the future behavior and silence this warning, use \n",
      "\n",
      "\t>>> .groupby(..., group_keys=True)\n",
      "  stats = match_ups[model_inputs+['match.homeTeam.name']].groupby('match.homeTeam.name').apply(lambda x: np.average(x, weights=weights, axis=0))\n"
     ]
    },
    {
     "name": "stdout",
     "output_type": "stream",
     "text": [
      "No prior game\n",
      "------------------------------------------------\n",
      "Home: Sydney Swans       97\n",
      "Away: Carlton            65\n",
      "Winner: Sydney Swans by 32 points\n",
      "Total Score: 162\n",
      "------------------------------------------------\n",
      "Home: Collingwood        83\n",
      "Away: Adelaide Crows     77\n",
      "Winner: Collingwood by 6 points\n",
      "Total Score: 160\n"
     ]
    },
    {
     "name": "stderr",
     "output_type": "stream",
     "text": [
      "C:\\Users\\SeanW\\AppData\\Local\\Temp\\ipykernel_12728\\905886690.py:10: FutureWarning: Not prepending group keys to the result index of transform-like apply. In the future, the group keys will be included in the index, regardless of whether the applied function returns a like-indexed object.\n",
      "To preserve the previous behavior, use\n",
      "\n",
      "\t>>> .groupby(..., group_keys=False)\n",
      "\n",
      "To adopt the future behavior and silence this warning, use \n",
      "\n",
      "\t>>> .groupby(..., group_keys=True)\n",
      "  stats = match_ups[model_inputs+['match.homeTeam.name']].groupby('match.homeTeam.name').apply(lambda x: np.average(x, weights=weights, axis=0))\n"
     ]
    },
    {
     "name": "stdout",
     "output_type": "stream",
     "text": [
      "No prior game\n",
      "------------------------------------------------\n",
      "Home: St Kilda           68\n",
      "Away: Fremantle          74\n",
      "Winner: Fremantle by 6 points\n",
      "Total Score: 142\n",
      "------------------------------------------------\n",
      "Home: Brisbane Lions     113\n",
      "Away: Richmond           71\n",
      "Winner: Brisbane Lions by 42 points\n",
      "Total Score: 184\n",
      "------------------------------------------------\n",
      "Home: Essendon           106\n",
      "Away: North Melbourne    76\n",
      "Winner: Essendon by 30 points\n",
      "Total Score: 182\n",
      "------------------------------------------------\n",
      "Home: Port Adelaide      87\n",
      "Away: Hawthorn           84\n",
      "Winner: Port Adelaide by 3 points\n",
      "Total Score: 171\n",
      "------------------------------------------------\n",
      "Home: West Coast Eagles  76\n",
      "Away: Melbourne          88\n",
      "Winner: Melbourne by 12 points\n",
      "Total Score: 164\n",
      "------------------------------------------------\n",
      "Home: Western Bulldogs   76\n",
      "Away: Sydney Swans       77\n",
      "Winner: Sydney Swans by 1 points\n",
      "Total Score: 153\n",
      "------------------------------------------------\n",
      "Home: Fremantle          63\n",
      "Away: Collingwood        74\n",
      "Winner: Collingwood by 11 points\n",
      "Total Score: 137\n",
      "------------------------------------------------\n",
      "Home: North Melbourne    63\n",
      "Away: Port Adelaide      103\n",
      "Winner: Port Adelaide by 40 points\n",
      "Total Score: 166\n"
     ]
    },
    {
     "name": "stderr",
     "output_type": "stream",
     "text": [
      "C:\\Users\\SeanW\\AppData\\Local\\Temp\\ipykernel_12728\\905886690.py:10: FutureWarning: Not prepending group keys to the result index of transform-like apply. In the future, the group keys will be included in the index, regardless of whether the applied function returns a like-indexed object.\n",
      "To preserve the previous behavior, use\n",
      "\n",
      "\t>>> .groupby(..., group_keys=False)\n",
      "\n",
      "To adopt the future behavior and silence this warning, use \n",
      "\n",
      "\t>>> .groupby(..., group_keys=True)\n",
      "  stats = match_ups[model_inputs+['match.homeTeam.name']].groupby('match.homeTeam.name').apply(lambda x: np.average(x, weights=weights, axis=0))\n"
     ]
    },
    {
     "name": "stdout",
     "output_type": "stream",
     "text": [
      "No prior game\n",
      "No prior game\n"
     ]
    },
    {
     "name": "stderr",
     "output_type": "stream",
     "text": [
      "C:\\Users\\SeanW\\AppData\\Local\\Temp\\ipykernel_12728\\905886690.py:10: FutureWarning: Not prepending group keys to the result index of transform-like apply. In the future, the group keys will be included in the index, regardless of whether the applied function returns a like-indexed object.\n",
      "To preserve the previous behavior, use\n",
      "\n",
      "\t>>> .groupby(..., group_keys=False)\n",
      "\n",
      "To adopt the future behavior and silence this warning, use \n",
      "\n",
      "\t>>> .groupby(..., group_keys=True)\n",
      "  stats = match_ups[model_inputs+['match.homeTeam.name']].groupby('match.homeTeam.name').apply(lambda x: np.average(x, weights=weights, axis=0))\n"
     ]
    },
    {
     "name": "stdout",
     "output_type": "stream",
     "text": [
      "------------------------------------------------\n",
      "Home: Richmond           74\n",
      "Away: Essendon           67\n",
      "Winner: Richmond by 7 points\n",
      "Total Score: 141\n",
      "------------------------------------------------\n",
      "Home: Hawthorn           92\n",
      "Away: Brisbane Lions     82\n",
      "Winner: Hawthorn by 10 points\n",
      "Total Score: 174\n",
      "------------------------------------------------\n",
      "Home: Melbourne          79\n",
      "Away: St Kilda           68\n",
      "Winner: Melbourne by 11 points\n",
      "Total Score: 147\n",
      "------------------------------------------------\n",
      "Home: Adelaide Crows     114\n",
      "Away: West Coast Eagles  60\n",
      "Winner: Adelaide Crows by 54 points\n",
      "Total Score: 174\n",
      "------------------------------------------------\n",
      "Home: Port Adelaide      103\n",
      "Away: Carlton            76\n",
      "Winner: Port Adelaide by 27 points\n",
      "Total Score: 179\n",
      "------------------------------------------------\n",
      "Home: Collingwood        70\n",
      "Away: Western Bulldogs   83\n",
      "Winner: Western Bulldogs by 13 points\n",
      "Total Score: 153\n",
      "------------------------------------------------\n",
      "Home: Hawthorn           88\n",
      "Away: Adelaide Crows     74\n",
      "Winner: Hawthorn by 14 points\n",
      "Total Score: 162\n",
      "------------------------------------------------\n",
      "Home: West Coast Eagles  78\n",
      "Away: St Kilda           83\n",
      "Winner: St Kilda by 5 points\n",
      "Total Score: 161\n",
      "------------------------------------------------\n",
      "Home: Geelong Cats       79\n",
      "Away: Richmond           72\n",
      "Winner: Geelong Cats by 7 points\n",
      "Total Score: 151\n",
      "------------------------------------------------\n",
      "Home: Melbourne          66\n",
      "Away: Fremantle          87\n",
      "Winner: Fremantle by 21 points\n",
      "Total Score: 153\n"
     ]
    },
    {
     "name": "stderr",
     "output_type": "stream",
     "text": [
      "C:\\Users\\SeanW\\AppData\\Local\\Temp\\ipykernel_12728\\905886690.py:10: FutureWarning: Not prepending group keys to the result index of transform-like apply. In the future, the group keys will be included in the index, regardless of whether the applied function returns a like-indexed object.\n",
      "To preserve the previous behavior, use\n",
      "\n",
      "\t>>> .groupby(..., group_keys=False)\n",
      "\n",
      "To adopt the future behavior and silence this warning, use \n",
      "\n",
      "\t>>> .groupby(..., group_keys=True)\n",
      "  stats = match_ups[model_inputs+['match.homeTeam.name']].groupby('match.homeTeam.name').apply(lambda x: np.average(x, weights=weights, axis=0))\n"
     ]
    },
    {
     "name": "stdout",
     "output_type": "stream",
     "text": [
      "No prior game\n",
      "------------------------------------------------\n",
      "Home: Adelaide Crows     81\n",
      "Away: Richmond           83\n",
      "Winner: Richmond by 2 points\n",
      "Total Score: 164\n",
      "------------------------------------------------\n",
      "Home: Western Bulldogs   80\n",
      "Away: Brisbane Lions     78\n",
      "Winner: Western Bulldogs by 2 points\n",
      "Total Score: 158\n"
     ]
    },
    {
     "name": "stderr",
     "output_type": "stream",
     "text": [
      "C:\\Users\\SeanW\\AppData\\Local\\Temp\\ipykernel_12728\\905886690.py:10: FutureWarning: Not prepending group keys to the result index of transform-like apply. In the future, the group keys will be included in the index, regardless of whether the applied function returns a like-indexed object.\n",
      "To preserve the previous behavior, use\n",
      "\n",
      "\t>>> .groupby(..., group_keys=False)\n",
      "\n",
      "To adopt the future behavior and silence this warning, use \n",
      "\n",
      "\t>>> .groupby(..., group_keys=True)\n",
      "  stats = match_ups[model_inputs+['match.homeTeam.name']].groupby('match.homeTeam.name').apply(lambda x: np.average(x, weights=weights, axis=0))\n"
     ]
    },
    {
     "name": "stdout",
     "output_type": "stream",
     "text": [
      "No prior game\n",
      "------------------------------------------------\n",
      "Home: West Coast Eagles  67\n",
      "Away: North Melbourne    74\n",
      "Winner: North Melbourne by 7 points\n",
      "Total Score: 141\n"
     ]
    },
    {
     "name": "stderr",
     "output_type": "stream",
     "text": [
      "C:\\Users\\SeanW\\AppData\\Local\\Temp\\ipykernel_12728\\905886690.py:10: FutureWarning: Not prepending group keys to the result index of transform-like apply. In the future, the group keys will be included in the index, regardless of whether the applied function returns a like-indexed object.\n",
      "To preserve the previous behavior, use\n",
      "\n",
      "\t>>> .groupby(..., group_keys=False)\n",
      "\n",
      "To adopt the future behavior and silence this warning, use \n",
      "\n",
      "\t>>> .groupby(..., group_keys=True)\n",
      "  stats = match_ups[model_inputs+['match.homeTeam.name']].groupby('match.homeTeam.name').apply(lambda x: np.average(x, weights=weights, axis=0))\n"
     ]
    },
    {
     "name": "stdout",
     "output_type": "stream",
     "text": [
      "No prior game\n",
      "------------------------------------------------\n",
      "Home: Sydney Swans       88\n",
      "Away: Geelong Cats       76\n",
      "Winner: Sydney Swans by 12 points\n",
      "Total Score: 164\n",
      "------------------------------------------------\n",
      "Home: Essendon           72\n",
      "Away: Carlton            82\n",
      "Winner: Carlton by 10 points\n",
      "Total Score: 154\n",
      "------------------------------------------------\n",
      "Home: Collingwood        81\n",
      "Away: Melbourne          60\n",
      "Winner: Collingwood by 21 points\n",
      "Total Score: 141\n",
      "------------------------------------------------\n",
      "Home: Brisbane Lions     87\n",
      "Away: St Kilda           77\n",
      "Winner: Brisbane Lions by 10 points\n",
      "Total Score: 164\n",
      "------------------------------------------------\n",
      "Home: Western Bulldogs   113\n",
      "Away: Fremantle          84\n",
      "Winner: Western Bulldogs by 29 points\n",
      "Total Score: 197\n",
      "------------------------------------------------\n",
      "Home: Richmond           85\n",
      "Away: Hawthorn           78\n",
      "Winner: Richmond by 7 points\n",
      "Total Score: 163\n",
      "------------------------------------------------\n",
      "Home: Adelaide Crows     70\n",
      "Away: Sydney Swans       88\n",
      "Winner: Sydney Swans by 18 points\n",
      "Total Score: 158\n",
      "------------------------------------------------\n",
      "Home: North Melbourne    95\n",
      "Away: Collingwood        108\n",
      "Winner: Collingwood by 13 points\n",
      "Total Score: 203\n"
     ]
    },
    {
     "name": "stderr",
     "output_type": "stream",
     "text": [
      "C:\\Users\\SeanW\\AppData\\Local\\Temp\\ipykernel_12728\\905886690.py:10: FutureWarning: Not prepending group keys to the result index of transform-like apply. In the future, the group keys will be included in the index, regardless of whether the applied function returns a like-indexed object.\n",
      "To preserve the previous behavior, use\n",
      "\n",
      "\t>>> .groupby(..., group_keys=False)\n",
      "\n",
      "To adopt the future behavior and silence this warning, use \n",
      "\n",
      "\t>>> .groupby(..., group_keys=True)\n",
      "  stats = match_ups[model_inputs+['match.homeTeam.name']].groupby('match.homeTeam.name').apply(lambda x: np.average(x, weights=weights, axis=0))\n"
     ]
    },
    {
     "name": "stdout",
     "output_type": "stream",
     "text": [
      "No prior game\n",
      "------------------------------------------------\n",
      "Home: Carlton            87\n",
      "Away: Geelong Cats       81\n",
      "Winner: Carlton by 6 points\n",
      "Total Score: 168\n",
      "------------------------------------------------\n",
      "Home: Port Adelaide      91\n",
      "Away: Brisbane Lions     101\n",
      "Winner: Brisbane Lions by 10 points\n",
      "Total Score: 192\n"
     ]
    },
    {
     "name": "stderr",
     "output_type": "stream",
     "text": [
      "C:\\Users\\SeanW\\AppData\\Local\\Temp\\ipykernel_12728\\905886690.py:10: FutureWarning: Not prepending group keys to the result index of transform-like apply. In the future, the group keys will be included in the index, regardless of whether the applied function returns a like-indexed object.\n",
      "To preserve the previous behavior, use\n",
      "\n",
      "\t>>> .groupby(..., group_keys=False)\n",
      "\n",
      "To adopt the future behavior and silence this warning, use \n",
      "\n",
      "\t>>> .groupby(..., group_keys=True)\n",
      "  stats = match_ups[model_inputs+['match.homeTeam.name']].groupby('match.homeTeam.name').apply(lambda x: np.average(x, weights=weights, axis=0))\n"
     ]
    },
    {
     "name": "stdout",
     "output_type": "stream",
     "text": [
      "No prior game\n",
      "------------------------------------------------\n",
      "Home: Melbourne          98\n",
      "Away: North Melbourne    62\n",
      "Winner: Melbourne by 36 points\n",
      "Total Score: 160\n",
      "------------------------------------------------\n",
      "Home: Essendon           107\n",
      "Away: West Coast Eagles  82\n",
      "Winner: Essendon by 25 points\n",
      "Total Score: 189\n"
     ]
    },
    {
     "name": "stderr",
     "output_type": "stream",
     "text": [
      "C:\\Users\\SeanW\\AppData\\Local\\Temp\\ipykernel_12728\\905886690.py:10: FutureWarning: Not prepending group keys to the result index of transform-like apply. In the future, the group keys will be included in the index, regardless of whether the applied function returns a like-indexed object.\n",
      "To preserve the previous behavior, use\n",
      "\n",
      "\t>>> .groupby(..., group_keys=False)\n",
      "\n",
      "To adopt the future behavior and silence this warning, use \n",
      "\n",
      "\t>>> .groupby(..., group_keys=True)\n",
      "  stats = match_ups[model_inputs+['match.homeTeam.name']].groupby('match.homeTeam.name').apply(lambda x: np.average(x, weights=weights, axis=0))\n"
     ]
    },
    {
     "name": "stdout",
     "output_type": "stream",
     "text": [
      "No prior game\n",
      "------------------------------------------------\n",
      "Home: Brisbane Lions     83\n",
      "Away: Melbourne          88\n",
      "Winner: Melbourne by 5 points\n",
      "Total Score: 171\n",
      "------------------------------------------------\n",
      "Home: North Melbourne    72\n",
      "Away: Western Bulldogs   113\n",
      "Winner: Western Bulldogs by 41 points\n",
      "Total Score: 185\n",
      "------------------------------------------------\n",
      "Home: Sydney Swans       97\n",
      "Away: Fremantle          82\n",
      "Winner: Sydney Swans by 15 points\n",
      "Total Score: 179\n"
     ]
    },
    {
     "name": "stderr",
     "output_type": "stream",
     "text": [
      "C:\\Users\\SeanW\\AppData\\Local\\Temp\\ipykernel_12728\\905886690.py:10: FutureWarning: Not prepending group keys to the result index of transform-like apply. In the future, the group keys will be included in the index, regardless of whether the applied function returns a like-indexed object.\n",
      "To preserve the previous behavior, use\n",
      "\n",
      "\t>>> .groupby(..., group_keys=False)\n",
      "\n",
      "To adopt the future behavior and silence this warning, use \n",
      "\n",
      "\t>>> .groupby(..., group_keys=True)\n",
      "  stats = match_ups[model_inputs+['match.homeTeam.name']].groupby('match.homeTeam.name').apply(lambda x: np.average(x, weights=weights, axis=0))\n"
     ]
    },
    {
     "name": "stdout",
     "output_type": "stream",
     "text": [
      "No prior game\n",
      "------------------------------------------------\n",
      "Home: Geelong Cats       110\n",
      "Away: Essendon           57\n",
      "Winner: Geelong Cats by 53 points\n",
      "Total Score: 167\n"
     ]
    },
    {
     "name": "stderr",
     "output_type": "stream",
     "text": [
      "C:\\Users\\SeanW\\AppData\\Local\\Temp\\ipykernel_12728\\905886690.py:10: FutureWarning: Not prepending group keys to the result index of transform-like apply. In the future, the group keys will be included in the index, regardless of whether the applied function returns a like-indexed object.\n",
      "To preserve the previous behavior, use\n",
      "\n",
      "\t>>> .groupby(..., group_keys=False)\n",
      "\n",
      "To adopt the future behavior and silence this warning, use \n",
      "\n",
      "\t>>> .groupby(..., group_keys=True)\n",
      "  stats = match_ups[model_inputs+['match.homeTeam.name']].groupby('match.homeTeam.name').apply(lambda x: np.average(x, weights=weights, axis=0))\n"
     ]
    },
    {
     "name": "stdout",
     "output_type": "stream",
     "text": [
      "No prior game\n",
      "------------------------------------------------\n",
      "Home: St Kilda           64\n",
      "Away: Port Adelaide      73\n",
      "Winner: Port Adelaide by 9 points\n",
      "Total Score: 137\n",
      "------------------------------------------------\n",
      "Home: Richmond           82\n",
      "Away: Carlton            81\n",
      "Winner: Richmond by 1 points\n",
      "Total Score: 163\n",
      "------------------------------------------------\n",
      "Home: West Coast Eagles  53\n",
      "Away: Hawthorn           81\n",
      "Winner: Hawthorn by 28 points\n",
      "Total Score: 134\n",
      "------------------------------------------------\n",
      "Home: Collingwood        78\n",
      "Away: Essendon           80\n",
      "Winner: Essendon by 2 points\n",
      "Total Score: 158\n",
      "No prior game\n"
     ]
    },
    {
     "name": "stderr",
     "output_type": "stream",
     "text": [
      "C:\\Users\\SeanW\\AppData\\Local\\Temp\\ipykernel_12728\\905886690.py:10: FutureWarning: Not prepending group keys to the result index of transform-like apply. In the future, the group keys will be included in the index, regardless of whether the applied function returns a like-indexed object.\n",
      "To preserve the previous behavior, use\n",
      "\n",
      "\t>>> .groupby(..., group_keys=False)\n",
      "\n",
      "To adopt the future behavior and silence this warning, use \n",
      "\n",
      "\t>>> .groupby(..., group_keys=True)\n",
      "  stats = match_ups[model_inputs+['match.homeTeam.name']].groupby('match.homeTeam.name').apply(lambda x: np.average(x, weights=weights, axis=0))\n"
     ]
    },
    {
     "name": "stdout",
     "output_type": "stream",
     "text": [
      "------------------------------------------------\n",
      "Home: Port Adelaide      80\n",
      "Away: Western Bulldogs   70\n",
      "Winner: Port Adelaide by 10 points\n",
      "Total Score: 150\n",
      "------------------------------------------------\n",
      "Home: Geelong Cats       99\n",
      "Away: Hawthorn           67\n",
      "Winner: Geelong Cats by 32 points\n",
      "Total Score: 166\n"
     ]
    },
    {
     "name": "stderr",
     "output_type": "stream",
     "text": [
      "C:\\Users\\SeanW\\AppData\\Local\\Temp\\ipykernel_12728\\905886690.py:10: FutureWarning: Not prepending group keys to the result index of transform-like apply. In the future, the group keys will be included in the index, regardless of whether the applied function returns a like-indexed object.\n",
      "To preserve the previous behavior, use\n",
      "\n",
      "\t>>> .groupby(..., group_keys=False)\n",
      "\n",
      "To adopt the future behavior and silence this warning, use \n",
      "\n",
      "\t>>> .groupby(..., group_keys=True)\n",
      "  stats = match_ups[model_inputs+['match.homeTeam.name']].groupby('match.homeTeam.name').apply(lambda x: np.average(x, weights=weights, axis=0))\n"
     ]
    },
    {
     "name": "stdout",
     "output_type": "stream",
     "text": [
      "No prior game\n",
      "------------------------------------------------\n",
      "Home: Fremantle          78\n",
      "Away: Richmond           72\n",
      "Winner: Fremantle by 6 points\n",
      "Total Score: 150\n",
      "------------------------------------------------\n",
      "Home: Melbourne          101\n",
      "Away: West Coast Eagles  69\n",
      "Winner: Melbourne by 32 points\n",
      "Total Score: 170\n",
      "------------------------------------------------\n",
      "Home: St Kilda           81\n",
      "Away: Sydney Swans       81\n",
      "Winner: Sydney Swans by 0 points\n",
      "Total Score: 162\n",
      "------------------------------------------------\n",
      "Home: Brisbane Lions     93\n",
      "Away: Adelaide Crows     82\n",
      "Winner: Brisbane Lions by 11 points\n",
      "Total Score: 175\n",
      "------------------------------------------------\n",
      "Home: Collingwood        76\n",
      "Away: Geelong Cats       88\n",
      "Winner: Geelong Cats by 12 points\n",
      "Total Score: 164\n",
      "------------------------------------------------\n",
      "Home: Hawthorn           69\n",
      "Away: Fremantle          84\n",
      "Winner: Fremantle by 15 points\n",
      "Total Score: 153\n",
      "------------------------------------------------\n",
      "Home: Sydney Swans       110\n",
      "Away: North Melbourne    71\n",
      "Winner: Sydney Swans by 39 points\n",
      "Total Score: 181\n",
      "------------------------------------------------\n",
      "Home: Western Bulldogs   89\n",
      "Away: Carlton            92\n",
      "Winner: Carlton by 3 points\n",
      "Total Score: 181\n",
      "------------------------------------------------\n",
      "Home: Melbourne          97\n",
      "Away: Essendon           78\n",
      "Winner: Melbourne by 19 points\n",
      "Total Score: 175\n",
      "------------------------------------------------\n",
      "Home: Adelaide Crows     81\n",
      "Away: St Kilda           65\n",
      "Winner: Adelaide Crows by 16 points\n",
      "Total Score: 146\n"
     ]
    },
    {
     "name": "stderr",
     "output_type": "stream",
     "text": [
      "C:\\Users\\SeanW\\AppData\\Local\\Temp\\ipykernel_12728\\905886690.py:10: FutureWarning: Not prepending group keys to the result index of transform-like apply. In the future, the group keys will be included in the index, regardless of whether the applied function returns a like-indexed object.\n",
      "To preserve the previous behavior, use\n",
      "\n",
      "\t>>> .groupby(..., group_keys=False)\n",
      "\n",
      "To adopt the future behavior and silence this warning, use \n",
      "\n",
      "\t>>> .groupby(..., group_keys=True)\n",
      "  stats = match_ups[model_inputs+['match.homeTeam.name']].groupby('match.homeTeam.name').apply(lambda x: np.average(x, weights=weights, axis=0))\n"
     ]
    },
    {
     "name": "stdout",
     "output_type": "stream",
     "text": [
      "No prior game\n",
      "No prior game\n"
     ]
    },
    {
     "name": "stderr",
     "output_type": "stream",
     "text": [
      "C:\\Users\\SeanW\\AppData\\Local\\Temp\\ipykernel_12728\\905886690.py:10: FutureWarning: Not prepending group keys to the result index of transform-like apply. In the future, the group keys will be included in the index, regardless of whether the applied function returns a like-indexed object.\n",
      "To preserve the previous behavior, use\n",
      "\n",
      "\t>>> .groupby(..., group_keys=False)\n",
      "\n",
      "To adopt the future behavior and silence this warning, use \n",
      "\n",
      "\t>>> .groupby(..., group_keys=True)\n",
      "  stats = match_ups[model_inputs+['match.homeTeam.name']].groupby('match.homeTeam.name').apply(lambda x: np.average(x, weights=weights, axis=0))\n"
     ]
    },
    {
     "name": "stdout",
     "output_type": "stream",
     "text": [
      "------------------------------------------------\n",
      "Home: West Coast Eagles  98\n",
      "Away: Brisbane Lions     90\n",
      "Winner: West Coast Eagles by 8 points\n",
      "Total Score: 188\n",
      "------------------------------------------------\n",
      "Home: Essendon           104\n",
      "Away: Adelaide Crows     92\n",
      "Winner: Essendon by 12 points\n",
      "Total Score: 196\n"
     ]
    },
    {
     "name": "stderr",
     "output_type": "stream",
     "text": [
      "C:\\Users\\SeanW\\AppData\\Local\\Temp\\ipykernel_12728\\905886690.py:10: FutureWarning: Not prepending group keys to the result index of transform-like apply. In the future, the group keys will be included in the index, regardless of whether the applied function returns a like-indexed object.\n",
      "To preserve the previous behavior, use\n",
      "\n",
      "\t>>> .groupby(..., group_keys=False)\n",
      "\n",
      "To adopt the future behavior and silence this warning, use \n",
      "\n",
      "\t>>> .groupby(..., group_keys=True)\n",
      "  stats = match_ups[model_inputs+['match.homeTeam.name']].groupby('match.homeTeam.name').apply(lambda x: np.average(x, weights=weights, axis=0))\n"
     ]
    },
    {
     "name": "stdout",
     "output_type": "stream",
     "text": [
      "No prior game\n",
      "------------------------------------------------\n",
      "Home: St Kilda           89\n",
      "Away: West Coast Eagles  67\n",
      "Winner: St Kilda by 22 points\n",
      "Total Score: 156\n",
      "------------------------------------------------\n",
      "Home: Hawthorn           99\n",
      "Away: Collingwood        71\n",
      "Winner: Hawthorn by 28 points\n",
      "Total Score: 170\n",
      "------------------------------------------------\n",
      "Home: Geelong Cats       82\n",
      "Away: Western Bulldogs   89\n",
      "Winner: Western Bulldogs by 7 points\n",
      "Total Score: 171\n",
      "------------------------------------------------\n",
      "Home: Port Adelaide      87\n",
      "Away: Richmond           74\n",
      "Winner: Port Adelaide by 13 points\n",
      "Total Score: 161\n",
      "------------------------------------------------\n",
      "Home: Brisbane Lions     86\n",
      "Away: Sydney Swans       87\n",
      "Winner: Sydney Swans by 1 points\n",
      "Total Score: 173\n",
      "------------------------------------------------\n",
      "Home: Fremantle          92\n",
      "Away: Melbourne          71\n",
      "Winner: Fremantle by 21 points\n",
      "Total Score: 163\n",
      "------------------------------------------------\n",
      "Home: Carlton            98\n",
      "Away: North Melbourne    95\n",
      "Winner: Carlton by 3 points\n",
      "Total Score: 193\n",
      "------------------------------------------------\n",
      "Home: Carlton            83\n",
      "Away: Port Adelaide      85\n",
      "Winner: Port Adelaide by 2 points\n",
      "Total Score: 168\n",
      "------------------------------------------------\n",
      "Home: North Melbourne    65\n",
      "Away: Geelong Cats       99\n",
      "Winner: Geelong Cats by 34 points\n",
      "Total Score: 164\n"
     ]
    },
    {
     "name": "stderr",
     "output_type": "stream",
     "text": [
      "C:\\Users\\SeanW\\AppData\\Local\\Temp\\ipykernel_12728\\905886690.py:10: FutureWarning: Not prepending group keys to the result index of transform-like apply. In the future, the group keys will be included in the index, regardless of whether the applied function returns a like-indexed object.\n",
      "To preserve the previous behavior, use\n",
      "\n",
      "\t>>> .groupby(..., group_keys=False)\n",
      "\n",
      "To adopt the future behavior and silence this warning, use \n",
      "\n",
      "\t>>> .groupby(..., group_keys=True)\n",
      "  stats = match_ups[model_inputs+['match.homeTeam.name']].groupby('match.homeTeam.name').apply(lambda x: np.average(x, weights=weights, axis=0))\n"
     ]
    },
    {
     "name": "stdout",
     "output_type": "stream",
     "text": [
      "No prior game\n",
      "------------------------------------------------\n",
      "Home: St Kilda           90\n",
      "Away: Essendon           72\n",
      "Winner: St Kilda by 18 points\n",
      "Total Score: 162\n"
     ]
    },
    {
     "name": "stderr",
     "output_type": "stream",
     "text": [
      "C:\\Users\\SeanW\\AppData\\Local\\Temp\\ipykernel_12728\\905886690.py:10: FutureWarning: Not prepending group keys to the result index of transform-like apply. In the future, the group keys will be included in the index, regardless of whether the applied function returns a like-indexed object.\n",
      "To preserve the previous behavior, use\n",
      "\n",
      "\t>>> .groupby(..., group_keys=False)\n",
      "\n",
      "To adopt the future behavior and silence this warning, use \n",
      "\n",
      "\t>>> .groupby(..., group_keys=True)\n",
      "  stats = match_ups[model_inputs+['match.homeTeam.name']].groupby('match.homeTeam.name').apply(lambda x: np.average(x, weights=weights, axis=0))\n"
     ]
    },
    {
     "name": "stdout",
     "output_type": "stream",
     "text": [
      "No prior game\n",
      "------------------------------------------------\n",
      "Home: Fremantle          81\n",
      "Away: West Coast Eagles  71\n",
      "Winner: Fremantle by 10 points\n",
      "Total Score: 152\n",
      "------------------------------------------------\n",
      "Home: Collingwood        71\n",
      "Away: Richmond           65\n",
      "Winner: Collingwood by 6 points\n",
      "Total Score: 136\n",
      "------------------------------------------------\n",
      "Home: Sydney Swans       74\n",
      "Away: Western Bulldogs   74\n",
      "Winner: Sydney Swans by 0 points\n",
      "Total Score: 148\n",
      "------------------------------------------------\n",
      "Home: Adelaide Crows     74\n",
      "Away: Hawthorn           100\n",
      "Winner: Hawthorn by 26 points\n",
      "Total Score: 174\n",
      "------------------------------------------------\n",
      "Home: Western Bulldogs   88\n",
      "Away: Melbourne          81\n",
      "Winner: Western Bulldogs by 7 points\n",
      "Total Score: 169\n"
     ]
    },
    {
     "name": "stderr",
     "output_type": "stream",
     "text": [
      "C:\\Users\\SeanW\\AppData\\Local\\Temp\\ipykernel_12728\\905886690.py:10: FutureWarning: Not prepending group keys to the result index of transform-like apply. In the future, the group keys will be included in the index, regardless of whether the applied function returns a like-indexed object.\n",
      "To preserve the previous behavior, use\n",
      "\n",
      "\t>>> .groupby(..., group_keys=False)\n",
      "\n",
      "To adopt the future behavior and silence this warning, use \n",
      "\n",
      "\t>>> .groupby(..., group_keys=True)\n",
      "  stats = match_ups[model_inputs+['match.homeTeam.name']].groupby('match.homeTeam.name').apply(lambda x: np.average(x, weights=weights, axis=0))\n"
     ]
    },
    {
     "name": "stdout",
     "output_type": "stream",
     "text": [
      "No prior game\n",
      "------------------------------------------------\n",
      "Home: North Melbourne    94\n",
      "Away: Richmond           80\n",
      "Winner: North Melbourne by 14 points\n",
      "Total Score: 174\n",
      "------------------------------------------------\n",
      "Home: Geelong Cats       93\n",
      "Away: Adelaide Crows     72\n",
      "Winner: Geelong Cats by 21 points\n",
      "Total Score: 165\n",
      "------------------------------------------------\n",
      "Home: Collingwood        75\n",
      "Away: Carlton            82\n",
      "Winner: Carlton by 7 points\n",
      "Total Score: 157\n",
      "------------------------------------------------\n",
      "Home: Port Adelaide      100\n",
      "Away: Sydney Swans       52\n",
      "Winner: Port Adelaide by 48 points\n",
      "Total Score: 152\n"
     ]
    },
    {
     "name": "stderr",
     "output_type": "stream",
     "text": [
      "C:\\Users\\SeanW\\AppData\\Local\\Temp\\ipykernel_12728\\905886690.py:10: FutureWarning: Not prepending group keys to the result index of transform-like apply. In the future, the group keys will be included in the index, regardless of whether the applied function returns a like-indexed object.\n",
      "To preserve the previous behavior, use\n",
      "\n",
      "\t>>> .groupby(..., group_keys=False)\n",
      "\n",
      "To adopt the future behavior and silence this warning, use \n",
      "\n",
      "\t>>> .groupby(..., group_keys=True)\n",
      "  stats = match_ups[model_inputs+['match.homeTeam.name']].groupby('match.homeTeam.name').apply(lambda x: np.average(x, weights=weights, axis=0))\n"
     ]
    },
    {
     "name": "stdout",
     "output_type": "stream",
     "text": [
      "No prior game\n",
      "------------------------------------------------\n",
      "Home: Essendon           75\n",
      "Away: Fremantle          79\n",
      "Winner: Fremantle by 4 points\n",
      "Total Score: 154\n",
      "------------------------------------------------\n",
      "Home: St Kilda           64\n",
      "Away: Brisbane Lions     95\n",
      "Winner: Brisbane Lions by 31 points\n",
      "Total Score: 159\n",
      "------------------------------------------------\n",
      "Home: Sydney Swans       83\n",
      "Away: Collingwood        72\n",
      "Winner: Sydney Swans by 11 points\n",
      "Total Score: 155\n"
     ]
    },
    {
     "name": "stderr",
     "output_type": "stream",
     "text": [
      "C:\\Users\\SeanW\\AppData\\Local\\Temp\\ipykernel_12728\\905886690.py:10: FutureWarning: Not prepending group keys to the result index of transform-like apply. In the future, the group keys will be included in the index, regardless of whether the applied function returns a like-indexed object.\n",
      "To preserve the previous behavior, use\n",
      "\n",
      "\t>>> .groupby(..., group_keys=False)\n",
      "\n",
      "To adopt the future behavior and silence this warning, use \n",
      "\n",
      "\t>>> .groupby(..., group_keys=True)\n",
      "  stats = match_ups[model_inputs+['match.homeTeam.name']].groupby('match.homeTeam.name').apply(lambda x: np.average(x, weights=weights, axis=0))\n"
     ]
    },
    {
     "name": "stdout",
     "output_type": "stream",
     "text": [
      "No prior game\n",
      "------------------------------------------------\n",
      "Home: North Melbourne    82\n",
      "Away: West Coast Eagles  75\n",
      "Winner: North Melbourne by 7 points\n",
      "Total Score: 157\n",
      "------------------------------------------------\n",
      "Home: Fremantle          66\n",
      "Away: Geelong Cats       75\n",
      "Winner: Geelong Cats by 9 points\n",
      "Total Score: 141\n"
     ]
    },
    {
     "name": "stderr",
     "output_type": "stream",
     "text": [
      "C:\\Users\\SeanW\\AppData\\Local\\Temp\\ipykernel_12728\\905886690.py:10: FutureWarning: Not prepending group keys to the result index of transform-like apply. In the future, the group keys will be included in the index, regardless of whether the applied function returns a like-indexed object.\n",
      "To preserve the previous behavior, use\n",
      "\n",
      "\t>>> .groupby(..., group_keys=False)\n",
      "\n",
      "To adopt the future behavior and silence this warning, use \n",
      "\n",
      "\t>>> .groupby(..., group_keys=True)\n",
      "  stats = match_ups[model_inputs+['match.homeTeam.name']].groupby('match.homeTeam.name').apply(lambda x: np.average(x, weights=weights, axis=0))\n"
     ]
    },
    {
     "name": "stdout",
     "output_type": "stream",
     "text": [
      "No prior game\n",
      "------------------------------------------------\n",
      "Home: Melbourne          61\n",
      "Away: Port Adelaide      73\n",
      "Winner: Port Adelaide by 12 points\n",
      "Total Score: 134\n",
      "------------------------------------------------\n",
      "Home: Carlton            65\n",
      "Away: Hawthorn           86\n",
      "Winner: Hawthorn by 21 points\n",
      "Total Score: 151\n",
      "------------------------------------------------\n",
      "Home: Richmond           65\n",
      "Away: St Kilda           74\n",
      "Winner: St Kilda by 9 points\n",
      "Total Score: 139\n",
      "------------------------------------------------\n",
      "Home: Adelaide Crows     94\n",
      "Away: Western Bulldogs   53\n",
      "Winner: Adelaide Crows by 41 points\n",
      "Total Score: 147\n",
      "------------------------------------------------\n",
      "Home: Essendon           87\n",
      "Away: Sydney Swans       96\n",
      "Winner: Sydney Swans by 9 points\n",
      "Total Score: 183\n"
     ]
    },
    {
     "name": "stderr",
     "output_type": "stream",
     "text": [
      "C:\\Users\\SeanW\\AppData\\Local\\Temp\\ipykernel_12728\\905886690.py:10: FutureWarning: Not prepending group keys to the result index of transform-like apply. In the future, the group keys will be included in the index, regardless of whether the applied function returns a like-indexed object.\n",
      "To preserve the previous behavior, use\n",
      "\n",
      "\t>>> .groupby(..., group_keys=False)\n",
      "\n",
      "To adopt the future behavior and silence this warning, use \n",
      "\n",
      "\t>>> .groupby(..., group_keys=True)\n",
      "  stats = match_ups[model_inputs+['match.homeTeam.name']].groupby('match.homeTeam.name').apply(lambda x: np.average(x, weights=weights, axis=0))\n"
     ]
    },
    {
     "name": "stdout",
     "output_type": "stream",
     "text": [
      "No prior game\n",
      "No prior game\n"
     ]
    },
    {
     "name": "stderr",
     "output_type": "stream",
     "text": [
      "C:\\Users\\SeanW\\AppData\\Local\\Temp\\ipykernel_12728\\905886690.py:10: FutureWarning: Not prepending group keys to the result index of transform-like apply. In the future, the group keys will be included in the index, regardless of whether the applied function returns a like-indexed object.\n",
      "To preserve the previous behavior, use\n",
      "\n",
      "\t>>> .groupby(..., group_keys=False)\n",
      "\n",
      "To adopt the future behavior and silence this warning, use \n",
      "\n",
      "\t>>> .groupby(..., group_keys=True)\n",
      "  stats = match_ups[model_inputs+['match.homeTeam.name']].groupby('match.homeTeam.name').apply(lambda x: np.average(x, weights=weights, axis=0))\n"
     ]
    },
    {
     "name": "stdout",
     "output_type": "stream",
     "text": [
      "------------------------------------------------\n",
      "Home: Collingwood        93\n",
      "Away: Brisbane Lions     86\n",
      "Winner: Collingwood by 7 points\n",
      "Total Score: 179\n",
      "------------------------------------------------\n",
      "Home: St Kilda           86\n",
      "Away: Geelong Cats       75\n",
      "Winner: St Kilda by 11 points\n",
      "Total Score: 161\n",
      "------------------------------------------------\n",
      "Home: Port Adelaide      93\n",
      "Away: Adelaide Crows     67\n",
      "Winner: Port Adelaide by 26 points\n",
      "Total Score: 160\n",
      "------------------------------------------------\n",
      "Home: Western Bulldogs   107\n",
      "Away: North Melbourne    65\n",
      "Winner: Western Bulldogs by 42 points\n",
      "Total Score: 172\n",
      "------------------------------------------------\n",
      "Home: Hawthorn           103\n",
      "Away: Richmond           85\n",
      "Winner: Hawthorn by 18 points\n",
      "Total Score: 188\n",
      "------------------------------------------------\n",
      "Home: West Coast Eagles  51\n",
      "Away: Carlton            103\n",
      "Winner: Carlton by 52 points\n",
      "Total Score: 154\n",
      "------------------------------------------------\n",
      "Home: Melbourne          71\n",
      "Away: Collingwood        81\n",
      "Winner: Collingwood by 10 points\n",
      "Total Score: 152\n",
      "------------------------------------------------\n",
      "Home: Hawthorn           101\n",
      "Away: North Melbourne    62\n",
      "Winner: Hawthorn by 39 points\n",
      "Total Score: 163\n",
      "------------------------------------------------\n",
      "Home: Geelong Cats       136\n",
      "Away: West Coast Eagles  69\n",
      "Winner: Geelong Cats by 67 points\n",
      "Total Score: 205\n"
     ]
    },
    {
     "name": "stderr",
     "output_type": "stream",
     "text": [
      "C:\\Users\\SeanW\\AppData\\Local\\Temp\\ipykernel_12728\\905886690.py:10: FutureWarning: Not prepending group keys to the result index of transform-like apply. In the future, the group keys will be included in the index, regardless of whether the applied function returns a like-indexed object.\n",
      "To preserve the previous behavior, use\n",
      "\n",
      "\t>>> .groupby(..., group_keys=False)\n",
      "\n",
      "To adopt the future behavior and silence this warning, use \n",
      "\n",
      "\t>>> .groupby(..., group_keys=True)\n",
      "  stats = match_ups[model_inputs+['match.homeTeam.name']].groupby('match.homeTeam.name').apply(lambda x: np.average(x, weights=weights, axis=0))\n"
     ]
    },
    {
     "name": "stdout",
     "output_type": "stream",
     "text": [
      "No prior game\n",
      "------------------------------------------------\n",
      "Home: Brisbane Lions     91\n",
      "Away: Essendon           68\n",
      "Winner: Brisbane Lions by 23 points\n",
      "Total Score: 159\n",
      "------------------------------------------------\n",
      "Home: Sydney Swans       109\n",
      "Away: Adelaide Crows     86\n",
      "Winner: Sydney Swans by 23 points\n",
      "Total Score: 195\n"
     ]
    },
    {
     "name": "stderr",
     "output_type": "stream",
     "text": [
      "C:\\Users\\SeanW\\AppData\\Local\\Temp\\ipykernel_12728\\905886690.py:10: FutureWarning: Not prepending group keys to the result index of transform-like apply. In the future, the group keys will be included in the index, regardless of whether the applied function returns a like-indexed object.\n",
      "To preserve the previous behavior, use\n",
      "\n",
      "\t>>> .groupby(..., group_keys=False)\n",
      "\n",
      "To adopt the future behavior and silence this warning, use \n",
      "\n",
      "\t>>> .groupby(..., group_keys=True)\n",
      "  stats = match_ups[model_inputs+['match.homeTeam.name']].groupby('match.homeTeam.name').apply(lambda x: np.average(x, weights=weights, axis=0))\n"
     ]
    },
    {
     "name": "stdout",
     "output_type": "stream",
     "text": [
      "No prior game\n",
      "------------------------------------------------\n",
      "Home: Carlton            75\n",
      "Away: St Kilda           79\n",
      "Winner: St Kilda by 4 points\n",
      "Total Score: 154\n",
      "------------------------------------------------\n",
      "Home: Fremantle          71\n",
      "Away: Port Adelaide      80\n",
      "Winner: Port Adelaide by 9 points\n",
      "Total Score: 151\n",
      "------------------------------------------------\n",
      "Home: Port Adelaide      83\n",
      "Away: Geelong Cats       91\n",
      "Winner: Geelong Cats by 8 points\n",
      "Total Score: 174\n",
      "------------------------------------------------\n",
      "Home: Western Bulldogs   81\n",
      "Away: Hawthorn           93\n",
      "Winner: Hawthorn by 12 points\n",
      "Total Score: 174\n"
     ]
    },
    {
     "name": "stderr",
     "output_type": "stream",
     "text": [
      "C:\\Users\\SeanW\\AppData\\Local\\Temp\\ipykernel_12728\\905886690.py:10: FutureWarning: Not prepending group keys to the result index of transform-like apply. In the future, the group keys will be included in the index, regardless of whether the applied function returns a like-indexed object.\n",
      "To preserve the previous behavior, use\n",
      "\n",
      "\t>>> .groupby(..., group_keys=False)\n",
      "\n",
      "To adopt the future behavior and silence this warning, use \n",
      "\n",
      "\t>>> .groupby(..., group_keys=True)\n",
      "  stats = match_ups[model_inputs+['match.homeTeam.name']].groupby('match.homeTeam.name').apply(lambda x: np.average(x, weights=weights, axis=0))\n"
     ]
    },
    {
     "name": "stdout",
     "output_type": "stream",
     "text": [
      "No prior game\n",
      "------------------------------------------------\n",
      "Home: Brisbane Lions     94\n",
      "Away: Carlton            74\n",
      "Winner: Brisbane Lions by 20 points\n",
      "Total Score: 168\n",
      "------------------------------------------------\n",
      "Home: Port Adelaide      87\n",
      "Away: Hawthorn           84\n",
      "Winner: Port Adelaide by 3 points\n",
      "Total Score: 171\n",
      "No prior game\n"
     ]
    },
    {
     "name": "stderr",
     "output_type": "stream",
     "text": [
      "C:\\Users\\SeanW\\AppData\\Local\\Temp\\ipykernel_12728\\905886690.py:10: FutureWarning: Not prepending group keys to the result index of transform-like apply. In the future, the group keys will be included in the index, regardless of whether the applied function returns a like-indexed object.\n",
      "To preserve the previous behavior, use\n",
      "\n",
      "\t>>> .groupby(..., group_keys=False)\n",
      "\n",
      "To adopt the future behavior and silence this warning, use \n",
      "\n",
      "\t>>> .groupby(..., group_keys=True)\n",
      "  stats = match_ups[model_inputs+['match.homeTeam.name']].groupby('match.homeTeam.name').apply(lambda x: np.average(x, weights=weights, axis=0))\n"
     ]
    },
    {
     "name": "stdout",
     "output_type": "stream",
     "text": [
      "------------------------------------------------\n",
      "Home: Sydney Swans       82\n",
      "Away: Port Adelaide      73\n",
      "Winner: Sydney Swans by 9 points\n",
      "Total Score: 155\n",
      "------------------------------------------------\n",
      "Home: Geelong Cats       96\n",
      "Away: Brisbane Lions     73\n",
      "Winner: Geelong Cats by 23 points\n",
      "Total Score: 169\n",
      "------------------------------------------------\n",
      "Home: Sydney Swans       82\n",
      "Away: Brisbane Lions     88\n",
      "Winner: Brisbane Lions by 6 points\n",
      "Total Score: 170\n"
     ]
    }
   ],
   "source": [
    "fix_data_2024 = json.loads(requests.get('https://fixturedownload.com/feed/json/afl-2024').content)\n",
    "\n",
    "fix_data_2023 = json.loads(requests.get('https://fixturedownload.com/feed/json/afl-2023').content)\n",
    "\n",
    "fixtures2024 = pd.DataFrame(fix_data_2024)\n",
    "games2024 = list(zip(fixtures2024.HomeTeam, fixtures2024.AwayTeam))\n",
    "\n",
    "fixtures2023 = pd.DataFrame(fix_data_2023)\n",
    "games2023 = list(zip(fixtures2023.HomeTeam, fixtures2023.AwayTeam))\n",
    "\n",
    "predicted_season = generate_score_tear_off(home_model, away_model, games2024, data, features)\n",
    "\n",
    "fixtures2024['predicted_home'] = [round(i[0]) for i in predicted_season]\n",
    "fixtures2024['predicted_away'] = [round(i[1]) for i in predicted_season]\n",
    "\n",
    "pred_winner = []\n",
    "winner = []\n",
    "for i, row in fixtures2024.iterrows():\n",
    "\n",
    "    if row[7] > row[8]:\n",
    "        winner.append(row[4])\n",
    "    elif row[8] > row[7]:\n",
    "        winner.append(row[5])\n",
    "    else:\n",
    "        winner.append('Draw')\n",
    "\n",
    "\n",
    "    if row[9] > row[10]:\n",
    "        pred_winner.append(row[4])\n",
    "    elif row[10] > row[9]:\n",
    "        pred_winner.append(row[5])\n",
    "    else:\n",
    "        pred_winner.append('Draw')\n",
    "\n",
    "fixtures2024['predicted_winner'] = pred_winner\n",
    "fixtures2024['winner'] = winner\n",
    "fixtures2024['predicted_margin'] = fixtures2024['predicted_home'] - fixtures2024['predicted_away']\n",
    "fixtures2024['actual_margin'] = fixtures2024['HomeTeamScore'] - fixtures2024['AwayTeamScore']\n",
    "fixtures2024['correct'] = [1 if row[11]==row[12] else 0 for i,row in fixtures2024.iterrows()]\n",
    "# fixtures2023['odds'] = [2.3 if abs(row[13]) < 40 else 2.6 for i,row in fixtures2023.iterrows()]\n",
    "\n",
    "\n",
    "fixtures2024.to_csv('outputs/predictions_and_results_2024_.csv', index=False)"
   ]
  },
  {
   "cell_type": "code",
   "execution_count": 17,
   "id": "54ef0a1d",
   "metadata": {},
   "outputs": [],
   "source": [
    "# backtest_data = pd.read_csv('outputs/predictions_and_results_2024.csv')\n",
    "# backtest_data.columns"
   ]
  },
  {
   "cell_type": "code",
   "execution_count": 18,
   "id": "351c69e9",
   "metadata": {},
   "outputs": [],
   "source": [
    "# profit_curve_no_geelong = []\n",
    "# bankroll = 100\n",
    "# stake = 0\n",
    "# profit = 0\n",
    "# for i, row in backtest_data.iterrows():\n",
    "    \n",
    "#     if (backtest_data['predicted_winner'][i] != 'Geelong Cats') and (backtest_data['predicted_winner'][i] != 'Richmond'):\n",
    "#         stake = -1 * 0.1 * bankroll\n",
    "#         profit = -stake * backtest_data['odds'][i] * backtest_data['win '][i]\n",
    "        \n",
    "#         bankroll+=stake+profit\n",
    "\n",
    "#         profit_curve_no_geelong.append(bankroll)\n",
    "#     else:\n",
    "#         bankroll+=0\n",
    "\n",
    "#         profit_curve_no_geelong.append(bankroll)"
   ]
  },
  {
   "cell_type": "code",
   "execution_count": 19,
   "id": "2e76ab0a",
   "metadata": {},
   "outputs": [],
   "source": [
    "# profit_curve = []\n",
    "# bankroll = 100\n",
    "# stake = 0\n",
    "# profit = 0\n",
    "# for i, row in backtest_data.iterrows():\n",
    "    \n",
    "#     stake = -1 * 0.1 * bankroll\n",
    "#     profit = -stake * backtest_data['odds'][i] * backtest_data['win '][i]\n",
    "\n",
    "#     bankroll+=stake+profit\n",
    "\n",
    "#     profit_curve.append(bankroll)"
   ]
  },
  {
   "cell_type": "code",
   "execution_count": 20,
   "id": "39274fbb",
   "metadata": {},
   "outputs": [],
   "source": [
    "# plt.plot(profit_curve, color='b')\n",
    "# plt.plot(profit_curve_no_geelong, color='r')"
   ]
  },
  {
   "cell_type": "code",
   "execution_count": null,
   "id": "96369245",
   "metadata": {},
   "outputs": [],
   "source": []
  }
 ],
 "metadata": {
  "kernelspec": {
   "display_name": "Python 3 (ipykernel)",
   "language": "python",
   "name": "python3"
  },
  "language_info": {
   "codemirror_mode": {
    "name": "ipython",
    "version": 3
   },
   "file_extension": ".py",
   "mimetype": "text/x-python",
   "name": "python",
   "nbconvert_exporter": "python",
   "pygments_lexer": "ipython3",
   "version": "3.10.9"
  }
 },
 "nbformat": 4,
 "nbformat_minor": 5
}
