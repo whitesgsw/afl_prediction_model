{
 "cells": [
  {
   "cell_type": "code",
   "execution_count": 1,
   "id": "b4a94d59",
   "metadata": {},
   "outputs": [],
   "source": [
    "import pandas as pd\n",
    "import numpy as np\n",
    "from sklearn.model_selection import train_test_split\n",
    "from sklearn.linear_model import LinearRegression\n",
    "from sklearn.metrics import mean_squared_error\n",
    "from tpot import TPOTRegressor\n",
    "from sklearn.metrics import make_scorer\n",
    "import matplotlib.pyplot as plt\n",
    "from featuresv2 import targets, metadata\n",
    "from position_group_features import features\n",
    "import json\n",
    "import requests\n",
    "%matplotlib inline"
   ]
  },
  {
   "cell_type": "markdown",
   "id": "5ab85414",
   "metadata": {},
   "source": [
    "## Version 4 Model"
   ]
  },
  {
   "cell_type": "code",
   "execution_count": 2,
   "id": "0291af49",
   "metadata": {},
   "outputs": [],
   "source": [
    "data = pd.read_csv('outputs/model_training_data.csv')"
   ]
  },
  {
   "cell_type": "code",
   "execution_count": 3,
   "id": "bd21da9b",
   "metadata": {},
   "outputs": [],
   "source": [
    "data2023 = data[data['round.year'] != 2023]"
   ]
  },
  {
   "cell_type": "code",
   "execution_count": 4,
   "id": "91ee2881",
   "metadata": {},
   "outputs": [],
   "source": [
    "round_matchups = [\n",
    "    ('Sydney Swans','Melbourne'),\n",
    "    ('Brisbane Lions','Carlton'),\n",
    "    ('Gold Coast Suns','Richmond'),\n",
    "    ('GWS Giants','Collingwood')]"
   ]
  },
  {
   "cell_type": "code",
   "execution_count": 5,
   "id": "633b667e",
   "metadata": {},
   "outputs": [],
   "source": [
    "round1 = [('Carlton', 'Richmond'),\n",
    "('Collingwood','Sydney Swans'),\n",
    "('Essendon','Hawthorn'),\n",
    "('GWS Giants','North Melbourne'),\n",
    "('Geelong Cats','St Kilda'),\n",
    "('Gold Coast Suns','Adelaide Crows'),\n",
    "('Melbourne','Western Bulldogs'),\n",
    "('Port Adelaide','West Coast Eagles'),\n",
    "('Fremantle','Brisbane Lions')]"
   ]
  },
  {
   "cell_type": "code",
   "execution_count": 6,
   "id": "4daf2a3b",
   "metadata": {},
   "outputs": [],
   "source": [
    "def generate_test_train_split(data, features, target, test_size=0.1):\n",
    "    X = data[features]\n",
    "    y = data[target]\n",
    "\n",
    "    x_train, x_test, y_train, y_test = train_test_split(X, y, test_size=test_size, random_state=42)\n",
    "    \n",
    "    return {\"x_train\":x_train,\"x_test\":x_test,\"y_train\":y_train,\"y_test\":y_test}"
   ]
  },
  {
   "cell_type": "code",
   "execution_count": 7,
   "id": "a4e669a9",
   "metadata": {},
   "outputs": [],
   "source": [
    "def tpot_pipeline(data, features, target, size=20, scoring='r2'):\n",
    "    data_ = generate_test_train_split(data, features, target)\n",
    "\n",
    "    my_scorer = make_scorer(mean_squared_error, greater_is_better=False)\n",
    "\n",
    "    pipeline_optimizer = TPOTRegressor(generations=5, population_size=size, verbosity=2, scoring=scoring)\n",
    "\n",
    "    pipeline_optimizer.fit(data_['x_train'], data_['y_train'])\n",
    "    \n",
    "    print(pipeline_optimizer.score(data_['x_test'], data_['y_test']))\n",
    "    \n",
    "    return pipeline_optimizer"
   ]
  },
  {
   "cell_type": "code",
   "execution_count": 8,
   "id": "90ca083b",
   "metadata": {},
   "outputs": [],
   "source": [
    "def return_stats_input(data, home_team, away_team, model_inputs, games=5):\n",
    "    '''Take in player_stats and returns aggregated team stats for previous home/away team matchups'''\n",
    "    \n",
    "#     if 'team.name' not in model_inputs:\n",
    "#         model_inputs.append('team.name')\n",
    "        \n",
    "    match_ups = data[(data['match.homeTeam.name']==home_team) & (data['match.awayTeam.name']==away_team)]\n",
    "    weights = range(1,len(match_ups)+1)\n",
    "\n",
    "    stats = match_ups[model_inputs+['match.homeTeam.name']].groupby('match.homeTeam.name').apply(lambda x: np.average(x, weights=weights, axis=0))\n",
    "    \n",
    "    return pd.DataFrame(dict(zip(model_inputs,stats[0])),index=[0])"
   ]
  },
  {
   "cell_type": "code",
   "execution_count": 9,
   "id": "fbe8846d",
   "metadata": {},
   "outputs": [],
   "source": [
    "def generate_margin_tear_off(model, round_matchups, team_stats, model_inputs):\n",
    "    print('-------------------' + str(model.fitted_pipeline_[0]).replace('()','') + ' TEAR-OFF-------------------')\n",
    "    for tup in round_matchups:\n",
    "        predict = model.predict(return_stats_input(team_stats, tup[0], tup[1], model_inputs))[0]\n",
    "        if predict < 0:\n",
    "            winner = tup[1]\n",
    "        else:\n",
    "            winner = tup[0]\n",
    "        print(\"------------------------------------------------\")\n",
    "        print(\"Home: \" + tup[0])\n",
    "        print(\"Away: \" + tup[1])\n",
    "        print(\"Winner: \" + winner + \"\\t       \" + \"Margin: \" + str(abs(round(predict))))"
   ]
  },
  {
   "cell_type": "code",
   "execution_count": 10,
   "id": "3c39ab8b",
   "metadata": {},
   "outputs": [],
   "source": [
    "def generate_score_tear_off(home_model, away_model, round_matchups, team_stats, model_inputs):\n",
    "   # print('-------------------' + str(model.fitted_pipeline_[0]).replace('()','') + ' TEAR-OFF-------------------')\n",
    "    preds = []\n",
    "    for tup in round_matchups:\n",
    "        try:\n",
    "            h_predict = home_model.predict(return_stats_input(team_stats, tup[0], tup[1], model_inputs))[0]\n",
    "            a_predict = away_model.predict(return_stats_input(team_stats, tup[0], tup[1], model_inputs))[0]\n",
    "            if h_predict < a_predict:\n",
    "                winner = tup[1]\n",
    "                margin = round(a_predict) - round(h_predict)\n",
    "            else:\n",
    "                winner = tup[0]\n",
    "                margin = round(h_predict) - round(a_predict)\n",
    "            paddingh = 25 - len(\"Home: \" + tup[0])\n",
    "            paddinga = 25 - len(\"Away: \" + tup[1])\n",
    "            print(\"------------------------------------------------\")\n",
    "            print(\"Home: \" + tup[0] + \" \"*paddingh + str(abs(round(h_predict))))\n",
    "            print(\"Away: \" + tup[1] + \" \"*paddinga + str(abs(round(a_predict))))\n",
    "            print(\"Winner: \" + winner + \" by \"+ str(margin) + \" points\")\n",
    "            print(\"Total Score: \" + str(round(h_predict) + round(a_predict)))\n",
    "            preds.append((h_predict, a_predict, margin))\n",
    "        except:\n",
    "            print(\"No prior game\")\n",
    "            preds.append((0, 0, 0))\n",
    "    return preds"
   ]
  },
  {
   "cell_type": "code",
   "execution_count": 11,
   "id": "6c33b9c8",
   "metadata": {},
   "outputs": [
    {
     "data": {
      "application/vnd.jupyter.widget-view+json": {
       "model_id": "",
       "version_major": 2,
       "version_minor": 0
      },
      "text/plain": [
       "Optimization Progress:   0%|          | 0/60 [00:00<?, ?pipeline/s]"
      ]
     },
     "metadata": {},
     "output_type": "display_data"
    },
    {
     "name": "stdout",
     "output_type": "stream",
     "text": [
      "\n",
      "Generation 1 - Current best internal CV score: 0.9564781414408232\n",
      "\n",
      "Generation 2 - Current best internal CV score: 0.9568565963742085\n",
      "\n",
      "Generation 3 - Current best internal CV score: 0.9568565963742085\n",
      "\n",
      "Generation 4 - Current best internal CV score: 0.9568565963742085\n",
      "\n",
      "Generation 5 - Current best internal CV score: 0.9568721904459769\n",
      "\n",
      "Best pipeline: ElasticNetCV(RidgeCV(input_matrix), l1_ratio=0.6000000000000001, tol=1e-05)\n",
      "0.9622897824040335\n"
     ]
    },
    {
     "name": "stderr",
     "output_type": "stream",
     "text": [
      "C:\\Users\\SeanW\\anaconda3\\lib\\site-packages\\sklearn\\base.py:493: UserWarning: X does not have valid feature names, but RidgeCV was fitted with feature names\n",
      "  warnings.warn(\n"
     ]
    }
   ],
   "source": [
    "home_model = tpot_pipeline(data, features, targets[0], size=10)"
   ]
  },
  {
   "cell_type": "code",
   "execution_count": 12,
   "id": "36632e61",
   "metadata": {},
   "outputs": [
    {
     "data": {
      "application/vnd.jupyter.widget-view+json": {
       "model_id": "",
       "version_major": 2,
       "version_minor": 0
      },
      "text/plain": [
       "Optimization Progress:   0%|          | 0/60 [00:00<?, ?pipeline/s]"
      ]
     },
     "metadata": {},
     "output_type": "display_data"
    },
    {
     "name": "stdout",
     "output_type": "stream",
     "text": [
      "\n",
      "Generation 1 - Current best internal CV score: 0.9505056401580216\n",
      "\n",
      "Generation 2 - Current best internal CV score: 0.9554718937655299\n",
      "\n",
      "Generation 3 - Current best internal CV score: 0.9554718937655299\n",
      "\n",
      "Generation 4 - Current best internal CV score: 0.9554718937655299\n",
      "\n",
      "Generation 5 - Current best internal CV score: 0.9557734004960876\n",
      "\n",
      "Best pipeline: RidgeCV(XGBRegressor(input_matrix, learning_rate=0.1, max_depth=1, min_child_weight=5, n_estimators=100, n_jobs=1, objective=reg:squarederror, subsample=0.2, verbosity=0))\n",
      "0.9526817937744666\n"
     ]
    }
   ],
   "source": [
    "away_model = tpot_pipeline(data, features, targets[1], size=10)"
   ]
  },
  {
   "cell_type": "code",
   "execution_count": 13,
   "id": "27717d30",
   "metadata": {},
   "outputs": [],
   "source": [
    "# margin_model = tpot_pipeline(data, features, targets[2], size=10)"
   ]
  },
  {
   "cell_type": "code",
   "execution_count": 14,
   "id": "15cd3b3d",
   "metadata": {},
   "outputs": [],
   "source": [
    "#generate_score_tear_off(home_model, away_model, round1, data, features)"
   ]
  },
  {
   "cell_type": "code",
   "execution_count": 15,
   "id": "08ff700a",
   "metadata": {},
   "outputs": [],
   "source": [
    "# print(return_stats_inputv3(data, home_team, away_team, features))\n",
    "# generate_margin_tear_off(margin_model, round1, data, features)\n",
    "# data[(data['match.homeTeam.name']==home_team) & (data['match.awayTeam.name']==away_team)][features].head()"
   ]
  },
  {
   "cell_type": "code",
   "execution_count": 16,
   "id": "79b50162",
   "metadata": {},
   "outputs": [
    {
     "name": "stderr",
     "output_type": "stream",
     "text": [
      "C:\\Users\\SeanW\\anaconda3\\lib\\site-packages\\sklearn\\base.py:493: UserWarning: X does not have valid feature names, but RidgeCV was fitted with feature names\n",
      "  warnings.warn(\n",
      "C:\\Users\\SeanW\\anaconda3\\lib\\site-packages\\sklearn\\base.py:493: UserWarning: X does not have valid feature names, but RidgeCV was fitted with feature names\n",
      "  warnings.warn(\n",
      "C:\\Users\\SeanW\\anaconda3\\lib\\site-packages\\sklearn\\base.py:493: UserWarning: X does not have valid feature names, but RidgeCV was fitted with feature names\n",
      "  warnings.warn(\n",
      "C:\\Users\\SeanW\\anaconda3\\lib\\site-packages\\sklearn\\base.py:493: UserWarning: X does not have valid feature names, but RidgeCV was fitted with feature names\n",
      "  warnings.warn(\n"
     ]
    },
    {
     "name": "stdout",
     "output_type": "stream",
     "text": [
      "------------------------------------------------\n",
      "Home: Sydney Swans       66\n",
      "Away: Melbourne          70\n",
      "Winner: Melbourne by 4 points\n",
      "Total Score: 136\n",
      "------------------------------------------------\n",
      "Home: Brisbane Lions     93\n",
      "Away: Carlton            67\n",
      "Winner: Brisbane Lions by 26 points\n",
      "Total Score: 160\n",
      "------------------------------------------------\n",
      "Home: Gold Coast Suns    77\n",
      "Away: Richmond           91\n",
      "Winner: Richmond by 14 points\n",
      "Total Score: 168\n",
      "------------------------------------------------\n",
      "Home: GWS Giants         83\n",
      "Away: Collingwood        69\n",
      "Winner: GWS Giants by 14 points\n",
      "Total Score: 152\n",
      "------------------------------------------------\n",
      "Home: Carlton            89\n",
      "Away: Richmond           83\n",
      "Winner: Carlton by 6 points\n",
      "Total Score: 172\n",
      "------------------------------------------------\n",
      "Home: Collingwood        67\n",
      "Away: Sydney Swans       46\n",
      "Winner: Collingwood by 21 points\n",
      "Total Score: 113\n",
      "------------------------------------------------\n",
      "Home: Essendon           99\n",
      "Away: Hawthorn           82\n",
      "Winner: Essendon by 17 points\n",
      "Total Score: 181\n",
      "------------------------------------------------\n",
      "Home: GWS Giants         57\n",
      "Away: North Melbourne    82\n",
      "Winner: North Melbourne by 25 points\n",
      "Total Score: 139\n"
     ]
    },
    {
     "name": "stderr",
     "output_type": "stream",
     "text": [
      "C:\\Users\\SeanW\\anaconda3\\lib\\site-packages\\sklearn\\base.py:493: UserWarning: X does not have valid feature names, but RidgeCV was fitted with feature names\n",
      "  warnings.warn(\n",
      "C:\\Users\\SeanW\\anaconda3\\lib\\site-packages\\sklearn\\base.py:493: UserWarning: X does not have valid feature names, but RidgeCV was fitted with feature names\n",
      "  warnings.warn(\n",
      "C:\\Users\\SeanW\\anaconda3\\lib\\site-packages\\sklearn\\base.py:493: UserWarning: X does not have valid feature names, but RidgeCV was fitted with feature names\n",
      "  warnings.warn(\n",
      "C:\\Users\\SeanW\\anaconda3\\lib\\site-packages\\sklearn\\base.py:493: UserWarning: X does not have valid feature names, but RidgeCV was fitted with feature names\n",
      "  warnings.warn(\n",
      "C:\\Users\\SeanW\\anaconda3\\lib\\site-packages\\sklearn\\base.py:493: UserWarning: X does not have valid feature names, but RidgeCV was fitted with feature names\n",
      "  warnings.warn(\n"
     ]
    },
    {
     "name": "stdout",
     "output_type": "stream",
     "text": [
      "------------------------------------------------\n",
      "Home: Geelong Cats       98\n",
      "Away: St Kilda           65\n",
      "Winner: Geelong Cats by 33 points\n",
      "Total Score: 163\n",
      "------------------------------------------------\n",
      "Home: Gold Coast Suns    100\n",
      "Away: Adelaide Crows     78\n",
      "Winner: Gold Coast Suns by 22 points\n",
      "Total Score: 178\n",
      "------------------------------------------------\n",
      "Home: Melbourne          107\n",
      "Away: Western Bulldogs   67\n",
      "Winner: Melbourne by 40 points\n",
      "Total Score: 174\n",
      "------------------------------------------------\n",
      "Home: Port Adelaide      109\n",
      "Away: West Coast Eagles  52\n",
      "Winner: Port Adelaide by 57 points\n",
      "Total Score: 161\n",
      "------------------------------------------------\n",
      "Home: Fremantle          80\n",
      "Away: Brisbane Lions     89\n",
      "Winner: Brisbane Lions by 9 points\n",
      "Total Score: 169\n"
     ]
    },
    {
     "name": "stderr",
     "output_type": "stream",
     "text": [
      "C:\\Users\\SeanW\\anaconda3\\lib\\site-packages\\sklearn\\base.py:493: UserWarning: X does not have valid feature names, but RidgeCV was fitted with feature names\n",
      "  warnings.warn(\n",
      "C:\\Users\\SeanW\\anaconda3\\lib\\site-packages\\sklearn\\base.py:493: UserWarning: X does not have valid feature names, but RidgeCV was fitted with feature names\n",
      "  warnings.warn(\n",
      "C:\\Users\\SeanW\\anaconda3\\lib\\site-packages\\sklearn\\base.py:493: UserWarning: X does not have valid feature names, but RidgeCV was fitted with feature names\n",
      "  warnings.warn(\n",
      "C:\\Users\\SeanW\\anaconda3\\lib\\site-packages\\sklearn\\base.py:493: UserWarning: X does not have valid feature names, but RidgeCV was fitted with feature names\n",
      "  warnings.warn(\n",
      "C:\\Users\\SeanW\\anaconda3\\lib\\site-packages\\sklearn\\base.py:493: UserWarning: X does not have valid feature names, but RidgeCV was fitted with feature names\n",
      "  warnings.warn(\n"
     ]
    },
    {
     "name": "stdout",
     "output_type": "stream",
     "text": [
      "------------------------------------------------\n",
      "Home: St Kilda           83\n",
      "Away: Collingwood        105\n",
      "Winner: Collingwood by 22 points\n",
      "Total Score: 188\n",
      "------------------------------------------------\n",
      "Home: Adelaide Crows     77\n",
      "Away: Geelong Cats       86\n",
      "Winner: Geelong Cats by 9 points\n",
      "Total Score: 163\n",
      "------------------------------------------------\n",
      "Home: North Melbourne    38\n",
      "Away: Fremantle          96\n",
      "Winner: Fremantle by 58 points\n",
      "Total Score: 134\n",
      "------------------------------------------------\n",
      "Home: Hawthorn           49\n",
      "Away: Melbourne          102\n",
      "Winner: Melbourne by 53 points\n",
      "Total Score: 151\n",
      "------------------------------------------------\n",
      "Home: Sydney Swans       89\n",
      "Away: Essendon           67\n",
      "Winner: Sydney Swans by 22 points\n",
      "Total Score: 156\n"
     ]
    },
    {
     "name": "stderr",
     "output_type": "stream",
     "text": [
      "C:\\Users\\SeanW\\anaconda3\\lib\\site-packages\\sklearn\\base.py:493: UserWarning: X does not have valid feature names, but RidgeCV was fitted with feature names\n",
      "  warnings.warn(\n",
      "C:\\Users\\SeanW\\anaconda3\\lib\\site-packages\\sklearn\\base.py:493: UserWarning: X does not have valid feature names, but RidgeCV was fitted with feature names\n",
      "  warnings.warn(\n",
      "C:\\Users\\SeanW\\anaconda3\\lib\\site-packages\\sklearn\\base.py:493: UserWarning: X does not have valid feature names, but RidgeCV was fitted with feature names\n",
      "  warnings.warn(\n",
      "C:\\Users\\SeanW\\anaconda3\\lib\\site-packages\\sklearn\\base.py:493: UserWarning: X does not have valid feature names, but RidgeCV was fitted with feature names\n",
      "  warnings.warn(\n",
      "C:\\Users\\SeanW\\anaconda3\\lib\\site-packages\\sklearn\\base.py:493: UserWarning: X does not have valid feature names, but RidgeCV was fitted with feature names\n",
      "  warnings.warn(\n"
     ]
    },
    {
     "name": "stdout",
     "output_type": "stream",
     "text": [
      "------------------------------------------------\n",
      "Home: Western Bulldogs   105\n",
      "Away: Gold Coast Suns    71\n",
      "Winner: Western Bulldogs by 34 points\n",
      "Total Score: 176\n",
      "------------------------------------------------\n",
      "Home: Richmond           78\n",
      "Away: Port Adelaide      68\n",
      "Winner: Richmond by 10 points\n",
      "Total Score: 146\n",
      "------------------------------------------------\n",
      "Home: West Coast Eagles  87\n",
      "Away: GWS Giants         67\n",
      "Winner: West Coast Eagles by 20 points\n",
      "Total Score: 154\n",
      "------------------------------------------------\n",
      "Home: Brisbane Lions     103\n",
      "Away: Collingwood        74\n",
      "Winner: Brisbane Lions by 29 points\n",
      "Total Score: 177\n",
      "------------------------------------------------\n",
      "Home: North Melbourne    77\n",
      "Away: Carlton            92\n",
      "Winner: Carlton by 15 points\n",
      "Total Score: 169\n"
     ]
    },
    {
     "name": "stderr",
     "output_type": "stream",
     "text": [
      "C:\\Users\\SeanW\\anaconda3\\lib\\site-packages\\sklearn\\base.py:493: UserWarning: X does not have valid feature names, but RidgeCV was fitted with feature names\n",
      "  warnings.warn(\n",
      "C:\\Users\\SeanW\\anaconda3\\lib\\site-packages\\sklearn\\base.py:493: UserWarning: X does not have valid feature names, but RidgeCV was fitted with feature names\n",
      "  warnings.warn(\n",
      "C:\\Users\\SeanW\\anaconda3\\lib\\site-packages\\sklearn\\base.py:493: UserWarning: X does not have valid feature names, but RidgeCV was fitted with feature names\n",
      "  warnings.warn(\n",
      "C:\\Users\\SeanW\\anaconda3\\lib\\site-packages\\sklearn\\base.py:493: UserWarning: X does not have valid feature names, but RidgeCV was fitted with feature names\n",
      "  warnings.warn(\n",
      "C:\\Users\\SeanW\\AppData\\Local\\Temp\\ipykernel_17320\\905886690.py:10: FutureWarning: Not prepending group keys to the result index of transform-like apply. In the future, the group keys will be included in the index, regardless of whether the applied function returns a like-indexed object.\n",
      "To preserve the previous behavior, use\n",
      "\n",
      "\t>>> .groupby(..., group_keys=False)\n",
      "\n",
      "To adopt the future behavior and silence this warning, use \n",
      "\n",
      "\t>>> .groupby(..., group_keys=True)\n",
      "  stats = match_ups[model_inputs+['match.homeTeam.name']].groupby('match.homeTeam.name').apply(lambda x: np.average(x, weights=weights, axis=0))\n"
     ]
    },
    {
     "name": "stdout",
     "output_type": "stream",
     "text": [
      "No prior game\n",
      "------------------------------------------------\n",
      "Home: Essendon           116\n",
      "Away: St Kilda           69\n",
      "Winner: Essendon by 47 points\n",
      "Total Score: 185\n",
      "------------------------------------------------\n",
      "Home: Port Adelaide      58\n",
      "Away: Melbourne          70\n",
      "Winner: Melbourne by 12 points\n",
      "Total Score: 128\n",
      "------------------------------------------------\n",
      "Home: Western Bulldogs   84\n",
      "Away: West Coast Eagles  86\n",
      "Winner: West Coast Eagles by 2 points\n",
      "Total Score: 170\n",
      "------------------------------------------------\n",
      "Home: Richmond           75\n",
      "Away: Sydney Swans       87\n",
      "Winner: Sydney Swans by 12 points\n",
      "Total Score: 162\n"
     ]
    },
    {
     "name": "stderr",
     "output_type": "stream",
     "text": [
      "C:\\Users\\SeanW\\anaconda3\\lib\\site-packages\\sklearn\\base.py:493: UserWarning: X does not have valid feature names, but RidgeCV was fitted with feature names\n",
      "  warnings.warn(\n",
      "C:\\Users\\SeanW\\anaconda3\\lib\\site-packages\\sklearn\\base.py:493: UserWarning: X does not have valid feature names, but RidgeCV was fitted with feature names\n",
      "  warnings.warn(\n",
      "C:\\Users\\SeanW\\anaconda3\\lib\\site-packages\\sklearn\\base.py:493: UserWarning: X does not have valid feature names, but RidgeCV was fitted with feature names\n",
      "  warnings.warn(\n",
      "C:\\Users\\SeanW\\anaconda3\\lib\\site-packages\\sklearn\\base.py:493: UserWarning: X does not have valid feature names, but RidgeCV was fitted with feature names\n",
      "  warnings.warn(\n",
      "C:\\Users\\SeanW\\anaconda3\\lib\\site-packages\\sklearn\\base.py:493: UserWarning: X does not have valid feature names, but RidgeCV was fitted with feature names\n",
      "  warnings.warn(\n",
      "C:\\Users\\SeanW\\anaconda3\\lib\\site-packages\\sklearn\\base.py:493: UserWarning: X does not have valid feature names, but RidgeCV was fitted with feature names\n",
      "  warnings.warn(\n",
      "C:\\Users\\SeanW\\anaconda3\\lib\\site-packages\\sklearn\\base.py:493: UserWarning: X does not have valid feature names, but RidgeCV was fitted with feature names\n",
      "  warnings.warn(\n",
      "C:\\Users\\SeanW\\anaconda3\\lib\\site-packages\\sklearn\\base.py:493: UserWarning: X does not have valid feature names, but RidgeCV was fitted with feature names\n",
      "  warnings.warn(\n",
      "C:\\Users\\SeanW\\anaconda3\\lib\\site-packages\\sklearn\\base.py:493: UserWarning: X does not have valid feature names, but RidgeCV was fitted with feature names\n",
      "  warnings.warn(\n",
      "C:\\Users\\SeanW\\anaconda3\\lib\\site-packages\\sklearn\\base.py:493: UserWarning: X does not have valid feature names, but RidgeCV was fitted with feature names\n",
      "  warnings.warn(\n"
     ]
    },
    {
     "name": "stdout",
     "output_type": "stream",
     "text": [
      "------------------------------------------------\n",
      "Home: Hawthorn           89\n",
      "Away: Geelong Cats       89\n",
      "Winner: Geelong Cats by 0 points\n",
      "Total Score: 178\n",
      "------------------------------------------------\n",
      "Home: Adelaide Crows     71\n",
      "Away: Melbourne          95\n",
      "Winner: Melbourne by 24 points\n",
      "Total Score: 166\n",
      "------------------------------------------------\n",
      "Home: Brisbane Lions     145\n",
      "Away: North Melbourne    66\n",
      "Winner: Brisbane Lions by 79 points\n",
      "Total Score: 211\n",
      "------------------------------------------------\n",
      "Home: Port Adelaide      89\n",
      "Away: Essendon           64\n",
      "Winner: Port Adelaide by 25 points\n",
      "Total Score: 153\n",
      "------------------------------------------------\n",
      "Home: West Coast Eagles  64\n",
      "Away: Sydney Swans       96\n",
      "Winner: Sydney Swans by 32 points\n",
      "Total Score: 160\n",
      "------------------------------------------------\n",
      "Home: Fremantle          64\n",
      "Away: Carlton            74\n",
      "Winner: Carlton by 10 points\n",
      "Total Score: 138\n",
      "------------------------------------------------\n",
      "Home: Western Bulldogs   73\n",
      "Away: Geelong Cats       84\n",
      "Winner: Geelong Cats by 11 points\n",
      "Total Score: 157\n",
      "------------------------------------------------\n",
      "Home: Gold Coast Suns    41\n",
      "Away: GWS Giants         85\n",
      "Winner: GWS Giants by 44 points\n",
      "Total Score: 126\n",
      "------------------------------------------------\n",
      "Home: Richmond           65\n",
      "Away: St Kilda           63\n",
      "Winner: Richmond by 2 points\n",
      "Total Score: 128\n",
      "------------------------------------------------\n",
      "Home: Collingwood        61\n",
      "Away: Hawthorn           25\n",
      "Winner: Collingwood by 36 points\n",
      "Total Score: 86\n"
     ]
    },
    {
     "name": "stderr",
     "output_type": "stream",
     "text": [
      "C:\\Users\\SeanW\\anaconda3\\lib\\site-packages\\sklearn\\base.py:493: UserWarning: X does not have valid feature names, but RidgeCV was fitted with feature names\n",
      "  warnings.warn(\n",
      "C:\\Users\\SeanW\\anaconda3\\lib\\site-packages\\sklearn\\base.py:493: UserWarning: X does not have valid feature names, but RidgeCV was fitted with feature names\n",
      "  warnings.warn(\n",
      "C:\\Users\\SeanW\\anaconda3\\lib\\site-packages\\sklearn\\base.py:493: UserWarning: X does not have valid feature names, but RidgeCV was fitted with feature names\n",
      "  warnings.warn(\n",
      "C:\\Users\\SeanW\\anaconda3\\lib\\site-packages\\sklearn\\base.py:493: UserWarning: X does not have valid feature names, but RidgeCV was fitted with feature names\n",
      "  warnings.warn(\n",
      "C:\\Users\\SeanW\\anaconda3\\lib\\site-packages\\sklearn\\base.py:493: UserWarning: X does not have valid feature names, but RidgeCV was fitted with feature names\n",
      "  warnings.warn(\n"
     ]
    },
    {
     "name": "stdout",
     "output_type": "stream",
     "text": [
      "------------------------------------------------\n",
      "Home: Melbourne          96\n",
      "Away: Brisbane Lions     79\n",
      "Winner: Melbourne by 17 points\n",
      "Total Score: 175\n",
      "------------------------------------------------\n",
      "Home: Western Bulldogs   93\n",
      "Away: Essendon           65\n",
      "Winner: Western Bulldogs by 28 points\n",
      "Total Score: 158\n",
      "------------------------------------------------\n",
      "Home: GWS Giants         78\n",
      "Away: St Kilda           86\n",
      "Winner: St Kilda by 8 points\n",
      "Total Score: 164\n",
      "------------------------------------------------\n",
      "Home: Carlton            89\n",
      "Away: Adelaide Crows     70\n",
      "Winner: Carlton by 19 points\n",
      "Total Score: 159\n",
      "------------------------------------------------\n",
      "Home: Gold Coast Suns    109\n",
      "Away: Hawthorn           47\n",
      "Winner: Gold Coast Suns by 62 points\n",
      "Total Score: 156\n"
     ]
    },
    {
     "name": "stderr",
     "output_type": "stream",
     "text": [
      "C:\\Users\\SeanW\\anaconda3\\lib\\site-packages\\sklearn\\base.py:493: UserWarning: X does not have valid feature names, but RidgeCV was fitted with feature names\n",
      "  warnings.warn(\n",
      "C:\\Users\\SeanW\\anaconda3\\lib\\site-packages\\sklearn\\base.py:493: UserWarning: X does not have valid feature names, but RidgeCV was fitted with feature names\n",
      "  warnings.warn(\n",
      "C:\\Users\\SeanW\\anaconda3\\lib\\site-packages\\sklearn\\base.py:493: UserWarning: X does not have valid feature names, but RidgeCV was fitted with feature names\n",
      "  warnings.warn(\n",
      "C:\\Users\\SeanW\\anaconda3\\lib\\site-packages\\sklearn\\base.py:493: UserWarning: X does not have valid feature names, but RidgeCV was fitted with feature names\n",
      "  warnings.warn(\n",
      "C:\\Users\\SeanW\\anaconda3\\lib\\site-packages\\sklearn\\base.py:493: UserWarning: X does not have valid feature names, but RidgeCV was fitted with feature names\n",
      "  warnings.warn(\n"
     ]
    },
    {
     "name": "stdout",
     "output_type": "stream",
     "text": [
      "------------------------------------------------\n",
      "Home: Port Adelaide      115\n",
      "Away: Fremantle          67\n",
      "Winner: Port Adelaide by 48 points\n",
      "Total Score: 182\n",
      "------------------------------------------------\n",
      "Home: Geelong Cats       110\n",
      "Away: North Melbourne    47\n",
      "Winner: Geelong Cats by 63 points\n",
      "Total Score: 157\n",
      "------------------------------------------------\n",
      "Home: West Coast Eagles  59\n",
      "Away: Richmond           121\n",
      "Winner: Richmond by 62 points\n",
      "Total Score: 180\n",
      "------------------------------------------------\n",
      "Home: St Kilda           81\n",
      "Away: Western Bulldogs   63\n",
      "Winner: St Kilda by 18 points\n",
      "Total Score: 144\n"
     ]
    },
    {
     "name": "stderr",
     "output_type": "stream",
     "text": [
      "C:\\Users\\SeanW\\anaconda3\\lib\\site-packages\\sklearn\\base.py:493: UserWarning: X does not have valid feature names, but RidgeCV was fitted with feature names\n",
      "  warnings.warn(\n",
      "C:\\Users\\SeanW\\anaconda3\\lib\\site-packages\\sklearn\\base.py:493: UserWarning: X does not have valid feature names, but RidgeCV was fitted with feature names\n",
      "  warnings.warn(\n",
      "C:\\Users\\SeanW\\anaconda3\\lib\\site-packages\\sklearn\\base.py:493: UserWarning: X does not have valid feature names, but RidgeCV was fitted with feature names\n",
      "  warnings.warn(\n",
      "C:\\Users\\SeanW\\anaconda3\\lib\\site-packages\\sklearn\\base.py:493: UserWarning: X does not have valid feature names, but RidgeCV was fitted with feature names\n",
      "  warnings.warn(\n",
      "C:\\Users\\SeanW\\anaconda3\\lib\\site-packages\\sklearn\\base.py:493: UserWarning: X does not have valid feature names, but RidgeCV was fitted with feature names\n",
      "  warnings.warn(\n"
     ]
    },
    {
     "name": "stdout",
     "output_type": "stream",
     "text": [
      "------------------------------------------------\n",
      "Home: Adelaide Crows     66\n",
      "Away: Essendon           70\n",
      "Winner: Essendon by 4 points\n",
      "Total Score: 136\n",
      "------------------------------------------------\n",
      "Home: Collingwood        91\n",
      "Away: Port Adelaide      66\n",
      "Winner: Collingwood by 25 points\n",
      "Total Score: 157\n",
      "------------------------------------------------\n",
      "Home: Carlton            82\n",
      "Away: GWS Giants         82\n",
      "Winner: GWS Giants by 0 points\n",
      "Total Score: 164\n",
      "------------------------------------------------\n",
      "Home: Brisbane Lions     68\n",
      "Away: Geelong Cats       60\n",
      "Winner: Brisbane Lions by 8 points\n",
      "Total Score: 128\n",
      "------------------------------------------------\n",
      "Home: West Coast Eagles  62\n",
      "Away: Fremantle          104\n",
      "Winner: Fremantle by 42 points\n",
      "Total Score: 166\n"
     ]
    },
    {
     "name": "stderr",
     "output_type": "stream",
     "text": [
      "C:\\Users\\SeanW\\anaconda3\\lib\\site-packages\\sklearn\\base.py:493: UserWarning: X does not have valid feature names, but RidgeCV was fitted with feature names\n",
      "  warnings.warn(\n",
      "C:\\Users\\SeanW\\anaconda3\\lib\\site-packages\\sklearn\\base.py:493: UserWarning: X does not have valid feature names, but RidgeCV was fitted with feature names\n",
      "  warnings.warn(\n",
      "C:\\Users\\SeanW\\anaconda3\\lib\\site-packages\\sklearn\\base.py:493: UserWarning: X does not have valid feature names, but RidgeCV was fitted with feature names\n",
      "  warnings.warn(\n",
      "C:\\Users\\SeanW\\anaconda3\\lib\\site-packages\\sklearn\\base.py:493: UserWarning: X does not have valid feature names, but RidgeCV was fitted with feature names\n",
      "  warnings.warn(\n",
      "C:\\Users\\SeanW\\anaconda3\\lib\\site-packages\\sklearn\\base.py:493: UserWarning: X does not have valid feature names, but RidgeCV was fitted with feature names\n",
      "  warnings.warn(\n"
     ]
    },
    {
     "name": "stdout",
     "output_type": "stream",
     "text": [
      "------------------------------------------------\n",
      "Home: Sydney Swans       96\n",
      "Away: Gold Coast Suns    76\n",
      "Winner: Sydney Swans by 20 points\n",
      "Total Score: 172\n",
      "------------------------------------------------\n",
      "Home: North Melbourne    58\n",
      "Away: Hawthorn           95\n",
      "Winner: Hawthorn by 37 points\n",
      "Total Score: 153\n",
      "------------------------------------------------\n",
      "Home: Richmond           80\n",
      "Away: Melbourne          92\n",
      "Winner: Melbourne by 12 points\n",
      "Total Score: 172\n",
      "------------------------------------------------\n",
      "Home: Essendon           62\n",
      "Away: Collingwood        86\n",
      "Winner: Collingwood by 24 points\n",
      "Total Score: 148\n"
     ]
    },
    {
     "name": "stderr",
     "output_type": "stream",
     "text": [
      "C:\\Users\\SeanW\\anaconda3\\lib\\site-packages\\sklearn\\base.py:493: UserWarning: X does not have valid feature names, but RidgeCV was fitted with feature names\n",
      "  warnings.warn(\n",
      "C:\\Users\\SeanW\\anaconda3\\lib\\site-packages\\sklearn\\base.py:493: UserWarning: X does not have valid feature names, but RidgeCV was fitted with feature names\n",
      "  warnings.warn(\n",
      "C:\\Users\\SeanW\\anaconda3\\lib\\site-packages\\sklearn\\base.py:493: UserWarning: X does not have valid feature names, but RidgeCV was fitted with feature names\n",
      "  warnings.warn(\n",
      "C:\\Users\\SeanW\\anaconda3\\lib\\site-packages\\sklearn\\base.py:493: UserWarning: X does not have valid feature names, but RidgeCV was fitted with feature names\n",
      "  warnings.warn(\n"
     ]
    },
    {
     "name": "stdout",
     "output_type": "stream",
     "text": [
      "------------------------------------------------\n",
      "Home: GWS Giants         74\n",
      "Away: Brisbane Lions     97\n",
      "Winner: Brisbane Lions by 23 points\n",
      "Total Score: 171\n",
      "------------------------------------------------\n",
      "Home: Port Adelaide      76\n",
      "Away: St Kilda           53\n",
      "Winner: Port Adelaide by 23 points\n",
      "Total Score: 129\n",
      "------------------------------------------------\n",
      "Home: North Melbourne    71\n",
      "Away: Adelaide Crows     94\n",
      "Winner: Adelaide Crows by 23 points\n",
      "Total Score: 165\n",
      "------------------------------------------------\n",
      "Home: Geelong Cats       93\n",
      "Away: Carlton            72\n",
      "Winner: Geelong Cats by 21 points\n",
      "Total Score: 165\n"
     ]
    },
    {
     "name": "stderr",
     "output_type": "stream",
     "text": [
      "C:\\Users\\SeanW\\anaconda3\\lib\\site-packages\\sklearn\\base.py:493: UserWarning: X does not have valid feature names, but RidgeCV was fitted with feature names\n",
      "  warnings.warn(\n",
      "C:\\Users\\SeanW\\anaconda3\\lib\\site-packages\\sklearn\\base.py:493: UserWarning: X does not have valid feature names, but RidgeCV was fitted with feature names\n",
      "  warnings.warn(\n",
      "C:\\Users\\SeanW\\anaconda3\\lib\\site-packages\\sklearn\\base.py:493: UserWarning: X does not have valid feature names, but RidgeCV was fitted with feature names\n",
      "  warnings.warn(\n",
      "C:\\Users\\SeanW\\anaconda3\\lib\\site-packages\\sklearn\\base.py:493: UserWarning: X does not have valid feature names, but RidgeCV was fitted with feature names\n",
      "  warnings.warn(\n"
     ]
    },
    {
     "name": "stdout",
     "output_type": "stream",
     "text": [
      "------------------------------------------------\n",
      "Home: Fremantle          67\n",
      "Away: Western Bulldogs   88\n",
      "Winner: Western Bulldogs by 21 points\n",
      "Total Score: 155\n",
      "------------------------------------------------\n",
      "Home: Gold Coast Suns    105\n",
      "Away: West Coast Eagles  88\n",
      "Winner: Gold Coast Suns by 17 points\n",
      "Total Score: 193\n",
      "------------------------------------------------\n",
      "Home: Hawthorn           69\n",
      "Away: Sydney Swans       108\n",
      "Winner: Sydney Swans by 39 points\n",
      "Total Score: 177\n",
      "------------------------------------------------\n",
      "Home: Adelaide Crows     89\n",
      "Away: Port Adelaide      75\n",
      "Winner: Adelaide Crows by 14 points\n",
      "Total Score: 164\n"
     ]
    },
    {
     "name": "stderr",
     "output_type": "stream",
     "text": [
      "C:\\Users\\SeanW\\anaconda3\\lib\\site-packages\\sklearn\\base.py:493: UserWarning: X does not have valid feature names, but RidgeCV was fitted with feature names\n",
      "  warnings.warn(\n",
      "C:\\Users\\SeanW\\anaconda3\\lib\\site-packages\\sklearn\\base.py:493: UserWarning: X does not have valid feature names, but RidgeCV was fitted with feature names\n",
      "  warnings.warn(\n",
      "C:\\Users\\SeanW\\anaconda3\\lib\\site-packages\\sklearn\\base.py:493: UserWarning: X does not have valid feature names, but RidgeCV was fitted with feature names\n",
      "  warnings.warn(\n",
      "C:\\Users\\SeanW\\anaconda3\\lib\\site-packages\\sklearn\\base.py:493: UserWarning: X does not have valid feature names, but RidgeCV was fitted with feature names\n",
      "  warnings.warn(\n",
      "C:\\Users\\SeanW\\anaconda3\\lib\\site-packages\\sklearn\\base.py:493: UserWarning: X does not have valid feature names, but RidgeCV was fitted with feature names\n",
      "  warnings.warn(\n"
     ]
    },
    {
     "name": "stdout",
     "output_type": "stream",
     "text": [
      "------------------------------------------------\n",
      "Home: Carlton            67\n",
      "Away: Collingwood        85\n",
      "Winner: Collingwood by 18 points\n",
      "Total Score: 152\n",
      "------------------------------------------------\n",
      "Home: Sydney Swans       90\n",
      "Away: GWS Giants         71\n",
      "Winner: Sydney Swans by 19 points\n",
      "Total Score: 161\n",
      "------------------------------------------------\n",
      "Home: St Kilda           83\n",
      "Away: North Melbourne    61\n",
      "Winner: St Kilda by 22 points\n",
      "Total Score: 144\n",
      "------------------------------------------------\n",
      "Home: Melbourne          97\n",
      "Away: Geelong Cats       48\n",
      "Winner: Melbourne by 49 points\n",
      "Total Score: 145\n"
     ]
    },
    {
     "name": "stderr",
     "output_type": "stream",
     "text": [
      "C:\\Users\\SeanW\\anaconda3\\lib\\site-packages\\sklearn\\base.py:493: UserWarning: X does not have valid feature names, but RidgeCV was fitted with feature names\n",
      "  warnings.warn(\n",
      "C:\\Users\\SeanW\\anaconda3\\lib\\site-packages\\sklearn\\base.py:493: UserWarning: X does not have valid feature names, but RidgeCV was fitted with feature names\n",
      "  warnings.warn(\n",
      "C:\\Users\\SeanW\\anaconda3\\lib\\site-packages\\sklearn\\base.py:493: UserWarning: X does not have valid feature names, but RidgeCV was fitted with feature names\n",
      "  warnings.warn(\n",
      "C:\\Users\\SeanW\\anaconda3\\lib\\site-packages\\sklearn\\base.py:493: UserWarning: X does not have valid feature names, but RidgeCV was fitted with feature names\n",
      "  warnings.warn(\n",
      "C:\\Users\\SeanW\\anaconda3\\lib\\site-packages\\sklearn\\base.py:493: UserWarning: X does not have valid feature names, but RidgeCV was fitted with feature names\n",
      "  warnings.warn(\n"
     ]
    },
    {
     "name": "stdout",
     "output_type": "stream",
     "text": [
      "------------------------------------------------\n",
      "Home: West Coast Eagles  77\n",
      "Away: Essendon           82\n",
      "Winner: Essendon by 5 points\n",
      "Total Score: 159\n",
      "------------------------------------------------\n",
      "Home: Richmond           53\n",
      "Away: Fremantle          42\n",
      "Winner: Richmond by 11 points\n",
      "Total Score: 95\n",
      "------------------------------------------------\n",
      "Home: Western Bulldogs   100\n",
      "Away: Hawthorn           71\n",
      "Winner: Western Bulldogs by 29 points\n",
      "Total Score: 171\n",
      "------------------------------------------------\n",
      "Home: Brisbane Lions     112\n",
      "Away: Gold Coast Suns    69\n",
      "Winner: Brisbane Lions by 43 points\n",
      "Total Score: 181\n"
     ]
    },
    {
     "name": "stderr",
     "output_type": "stream",
     "text": [
      "C:\\Users\\SeanW\\anaconda3\\lib\\site-packages\\sklearn\\base.py:493: UserWarning: X does not have valid feature names, but RidgeCV was fitted with feature names\n",
      "  warnings.warn(\n",
      "C:\\Users\\SeanW\\anaconda3\\lib\\site-packages\\sklearn\\base.py:493: UserWarning: X does not have valid feature names, but RidgeCV was fitted with feature names\n",
      "  warnings.warn(\n",
      "C:\\Users\\SeanW\\anaconda3\\lib\\site-packages\\sklearn\\base.py:493: UserWarning: X does not have valid feature names, but RidgeCV was fitted with feature names\n",
      "  warnings.warn(\n",
      "C:\\Users\\SeanW\\anaconda3\\lib\\site-packages\\sklearn\\base.py:493: UserWarning: X does not have valid feature names, but RidgeCV was fitted with feature names\n",
      "  warnings.warn(\n"
     ]
    },
    {
     "name": "stdout",
     "output_type": "stream",
     "text": [
      "------------------------------------------------\n",
      "Home: Carlton            63\n",
      "Away: Melbourne          65\n",
      "Winner: Melbourne by 2 points\n",
      "Total Score: 128\n",
      "------------------------------------------------\n",
      "Home: Geelong Cats       93\n",
      "Away: Port Adelaide      63\n",
      "Winner: Geelong Cats by 30 points\n",
      "Total Score: 156\n",
      "------------------------------------------------\n",
      "Home: Fremantle          68\n",
      "Away: Sydney Swans       79\n",
      "Winner: Sydney Swans by 11 points\n",
      "Total Score: 147\n",
      "------------------------------------------------\n",
      "Home: Hawthorn           86\n",
      "Away: St Kilda           131\n",
      "Winner: St Kilda by 45 points\n",
      "Total Score: 217\n"
     ]
    },
    {
     "name": "stderr",
     "output_type": "stream",
     "text": [
      "C:\\Users\\SeanW\\anaconda3\\lib\\site-packages\\sklearn\\base.py:493: UserWarning: X does not have valid feature names, but RidgeCV was fitted with feature names\n",
      "  warnings.warn(\n",
      "C:\\Users\\SeanW\\anaconda3\\lib\\site-packages\\sklearn\\base.py:493: UserWarning: X does not have valid feature names, but RidgeCV was fitted with feature names\n",
      "  warnings.warn(\n",
      "C:\\Users\\SeanW\\anaconda3\\lib\\site-packages\\sklearn\\base.py:493: UserWarning: X does not have valid feature names, but RidgeCV was fitted with feature names\n",
      "  warnings.warn(\n",
      "C:\\Users\\SeanW\\anaconda3\\lib\\site-packages\\sklearn\\base.py:493: UserWarning: X does not have valid feature names, but RidgeCV was fitted with feature names\n",
      "  warnings.warn(\n"
     ]
    },
    {
     "name": "stdout",
     "output_type": "stream",
     "text": [
      "------------------------------------------------\n",
      "Home: Essendon           71\n",
      "Away: GWS Giants         68\n",
      "Winner: Essendon by 3 points\n",
      "Total Score: 139\n",
      "------------------------------------------------\n",
      "Home: Richmond           89\n",
      "Away: Western Bulldogs   73\n",
      "Winner: Richmond by 16 points\n",
      "Total Score: 162\n",
      "------------------------------------------------\n",
      "Home: Gold Coast Suns    98\n",
      "Away: North Melbourne    47\n",
      "Winner: Gold Coast Suns by 51 points\n",
      "Total Score: 145\n",
      "------------------------------------------------\n",
      "Home: Collingwood        78\n",
      "Away: West Coast Eagles  72\n",
      "Winner: Collingwood by 6 points\n",
      "Total Score: 150\n",
      "------------------------------------------------\n",
      "Home: Adelaide Crows     81\n",
      "Away: Brisbane Lions     92\n",
      "Winner: Brisbane Lions by 11 points\n",
      "Total Score: 173\n",
      "------------------------------------------------\n",
      "Home: Gold Coast Suns    67\n",
      "Away: Geelong Cats       80\n",
      "Winner: Geelong Cats by 13 points\n",
      "Total Score: 147\n",
      "------------------------------------------------\n",
      "Home: Sydney Swans       82\n",
      "Away: Carlton            63\n",
      "Winner: Sydney Swans by 19 points\n",
      "Total Score: 145\n",
      "------------------------------------------------\n",
      "Home: Collingwood        86\n",
      "Away: Adelaide Crows     71\n",
      "Winner: Collingwood by 15 points\n",
      "Total Score: 157\n"
     ]
    },
    {
     "name": "stderr",
     "output_type": "stream",
     "text": [
      "C:\\Users\\SeanW\\anaconda3\\lib\\site-packages\\sklearn\\base.py:493: UserWarning: X does not have valid feature names, but RidgeCV was fitted with feature names\n",
      "  warnings.warn(\n",
      "C:\\Users\\SeanW\\anaconda3\\lib\\site-packages\\sklearn\\base.py:493: UserWarning: X does not have valid feature names, but RidgeCV was fitted with feature names\n",
      "  warnings.warn(\n",
      "C:\\Users\\SeanW\\anaconda3\\lib\\site-packages\\sklearn\\base.py:493: UserWarning: X does not have valid feature names, but RidgeCV was fitted with feature names\n",
      "  warnings.warn(\n",
      "C:\\Users\\SeanW\\anaconda3\\lib\\site-packages\\sklearn\\base.py:493: UserWarning: X does not have valid feature names, but RidgeCV was fitted with feature names\n",
      "  warnings.warn(\n",
      "C:\\Users\\SeanW\\anaconda3\\lib\\site-packages\\sklearn\\base.py:493: UserWarning: X does not have valid feature names, but RidgeCV was fitted with feature names\n",
      "  warnings.warn(\n",
      "C:\\Users\\SeanW\\anaconda3\\lib\\site-packages\\sklearn\\base.py:493: UserWarning: X does not have valid feature names, but RidgeCV was fitted with feature names\n",
      "  warnings.warn(\n",
      "C:\\Users\\SeanW\\anaconda3\\lib\\site-packages\\sklearn\\base.py:493: UserWarning: X does not have valid feature names, but RidgeCV was fitted with feature names\n",
      "  warnings.warn(\n",
      "C:\\Users\\SeanW\\anaconda3\\lib\\site-packages\\sklearn\\base.py:493: UserWarning: X does not have valid feature names, but RidgeCV was fitted with feature names\n",
      "  warnings.warn(\n",
      "C:\\Users\\SeanW\\anaconda3\\lib\\site-packages\\sklearn\\base.py:493: UserWarning: X does not have valid feature names, but RidgeCV was fitted with feature names\n",
      "  warnings.warn(\n"
     ]
    },
    {
     "name": "stdout",
     "output_type": "stream",
     "text": [
      "------------------------------------------------\n",
      "Home: GWS Giants         83\n",
      "Away: Western Bulldogs   97\n",
      "Winner: Western Bulldogs by 14 points\n",
      "Total Score: 180\n",
      "------------------------------------------------\n",
      "Home: St Kilda           75\n",
      "Away: Fremantle          67\n",
      "Winner: St Kilda by 8 points\n",
      "Total Score: 142\n",
      "------------------------------------------------\n",
      "Home: Brisbane Lions     108\n",
      "Away: Richmond           73\n",
      "Winner: Brisbane Lions by 35 points\n",
      "Total Score: 181\n",
      "------------------------------------------------\n",
      "Home: Essendon           109\n",
      "Away: North Melbourne    76\n",
      "Winner: Essendon by 33 points\n",
      "Total Score: 185\n",
      "------------------------------------------------\n",
      "Home: Port Adelaide      104\n",
      "Away: Hawthorn           98\n",
      "Winner: Port Adelaide by 6 points\n",
      "Total Score: 202\n"
     ]
    },
    {
     "name": "stderr",
     "output_type": "stream",
     "text": [
      "C:\\Users\\SeanW\\anaconda3\\lib\\site-packages\\sklearn\\base.py:493: UserWarning: X does not have valid feature names, but RidgeCV was fitted with feature names\n",
      "  warnings.warn(\n",
      "C:\\Users\\SeanW\\anaconda3\\lib\\site-packages\\sklearn\\base.py:493: UserWarning: X does not have valid feature names, but RidgeCV was fitted with feature names\n",
      "  warnings.warn(\n",
      "C:\\Users\\SeanW\\anaconda3\\lib\\site-packages\\sklearn\\base.py:493: UserWarning: X does not have valid feature names, but RidgeCV was fitted with feature names\n",
      "  warnings.warn(\n",
      "C:\\Users\\SeanW\\anaconda3\\lib\\site-packages\\sklearn\\base.py:493: UserWarning: X does not have valid feature names, but RidgeCV was fitted with feature names\n",
      "  warnings.warn(\n",
      "C:\\Users\\SeanW\\anaconda3\\lib\\site-packages\\sklearn\\base.py:493: UserWarning: X does not have valid feature names, but RidgeCV was fitted with feature names\n",
      "  warnings.warn(\n"
     ]
    },
    {
     "name": "stdout",
     "output_type": "stream",
     "text": [
      "------------------------------------------------\n",
      "Home: West Coast Eagles  60\n",
      "Away: Melbourne          98\n",
      "Winner: Melbourne by 38 points\n",
      "Total Score: 158\n",
      "------------------------------------------------\n",
      "Home: Western Bulldogs   68\n",
      "Away: Sydney Swans       66\n",
      "Winner: Western Bulldogs by 2 points\n",
      "Total Score: 134\n",
      "------------------------------------------------\n",
      "Home: Fremantle          49\n",
      "Away: Collingwood        67\n",
      "Winner: Collingwood by 18 points\n",
      "Total Score: 116\n",
      "------------------------------------------------\n",
      "Home: North Melbourne    63\n",
      "Away: Port Adelaide      111\n",
      "Winner: Port Adelaide by 48 points\n",
      "Total Score: 174\n",
      "------------------------------------------------\n",
      "Home: Carlton            91\n",
      "Away: Gold Coast Suns    71\n",
      "Winner: Carlton by 20 points\n",
      "Total Score: 162\n"
     ]
    },
    {
     "name": "stderr",
     "output_type": "stream",
     "text": [
      "C:\\Users\\SeanW\\anaconda3\\lib\\site-packages\\sklearn\\base.py:493: UserWarning: X does not have valid feature names, but RidgeCV was fitted with feature names\n",
      "  warnings.warn(\n",
      "C:\\Users\\SeanW\\anaconda3\\lib\\site-packages\\sklearn\\base.py:493: UserWarning: X does not have valid feature names, but RidgeCV was fitted with feature names\n",
      "  warnings.warn(\n",
      "C:\\Users\\SeanW\\anaconda3\\lib\\site-packages\\sklearn\\base.py:493: UserWarning: X does not have valid feature names, but RidgeCV was fitted with feature names\n",
      "  warnings.warn(\n",
      "C:\\Users\\SeanW\\anaconda3\\lib\\site-packages\\sklearn\\base.py:493: UserWarning: X does not have valid feature names, but RidgeCV was fitted with feature names\n",
      "  warnings.warn(\n",
      "C:\\Users\\SeanW\\anaconda3\\lib\\site-packages\\sklearn\\base.py:493: UserWarning: X does not have valid feature names, but RidgeCV was fitted with feature names\n",
      "  warnings.warn(\n"
     ]
    },
    {
     "name": "stdout",
     "output_type": "stream",
     "text": [
      "------------------------------------------------\n",
      "Home: Geelong Cats       80\n",
      "Away: GWS Giants         77\n",
      "Winner: Geelong Cats by 3 points\n",
      "Total Score: 157\n",
      "------------------------------------------------\n",
      "Home: Richmond           76\n",
      "Away: Essendon           52\n",
      "Winner: Richmond by 24 points\n",
      "Total Score: 128\n",
      "------------------------------------------------\n",
      "Home: Hawthorn           96\n",
      "Away: Brisbane Lions     84\n",
      "Winner: Hawthorn by 12 points\n",
      "Total Score: 180\n",
      "------------------------------------------------\n",
      "Home: Melbourne          71\n",
      "Away: St Kilda           58\n",
      "Winner: Melbourne by 13 points\n",
      "Total Score: 129\n",
      "------------------------------------------------\n",
      "Home: Adelaide Crows     114\n",
      "Away: West Coast Eagles  64\n",
      "Winner: Adelaide Crows by 50 points\n",
      "Total Score: 178\n",
      "------------------------------------------------\n",
      "Home: Port Adelaide      123\n",
      "Away: Carlton            53\n",
      "Winner: Port Adelaide by 70 points\n",
      "Total Score: 176\n",
      "------------------------------------------------\n",
      "Home: Collingwood        57\n",
      "Away: Western Bulldogs   82\n",
      "Winner: Western Bulldogs by 25 points\n",
      "Total Score: 139\n",
      "------------------------------------------------\n",
      "Home: Hawthorn           82\n",
      "Away: Adelaide Crows     76\n",
      "Winner: Hawthorn by 6 points\n",
      "Total Score: 158\n"
     ]
    },
    {
     "name": "stderr",
     "output_type": "stream",
     "text": [
      "C:\\Users\\SeanW\\anaconda3\\lib\\site-packages\\sklearn\\base.py:493: UserWarning: X does not have valid feature names, but RidgeCV was fitted with feature names\n",
      "  warnings.warn(\n",
      "C:\\Users\\SeanW\\anaconda3\\lib\\site-packages\\sklearn\\base.py:493: UserWarning: X does not have valid feature names, but RidgeCV was fitted with feature names\n",
      "  warnings.warn(\n",
      "C:\\Users\\SeanW\\anaconda3\\lib\\site-packages\\sklearn\\base.py:493: UserWarning: X does not have valid feature names, but RidgeCV was fitted with feature names\n",
      "  warnings.warn(\n",
      "C:\\Users\\SeanW\\anaconda3\\lib\\site-packages\\sklearn\\base.py:493: UserWarning: X does not have valid feature names, but RidgeCV was fitted with feature names\n",
      "  warnings.warn(\n"
     ]
    },
    {
     "name": "stdout",
     "output_type": "stream",
     "text": [
      "------------------------------------------------\n",
      "Home: West Coast Eagles  77\n",
      "Away: St Kilda           85\n",
      "Winner: St Kilda by 8 points\n",
      "Total Score: 162\n",
      "------------------------------------------------\n",
      "Home: Geelong Cats       80\n",
      "Away: Richmond           70\n",
      "Winner: Geelong Cats by 10 points\n",
      "Total Score: 150\n",
      "------------------------------------------------\n",
      "Home: Melbourne          66\n",
      "Away: Fremantle          73\n",
      "Winner: Fremantle by 7 points\n",
      "Total Score: 139\n"
     ]
    },
    {
     "name": "stderr",
     "output_type": "stream",
     "text": [
      "C:\\Users\\SeanW\\anaconda3\\lib\\site-packages\\sklearn\\base.py:493: UserWarning: X does not have valid feature names, but RidgeCV was fitted with feature names\n",
      "  warnings.warn(\n",
      "C:\\Users\\SeanW\\anaconda3\\lib\\site-packages\\sklearn\\base.py:493: UserWarning: X does not have valid feature names, but RidgeCV was fitted with feature names\n",
      "  warnings.warn(\n",
      "C:\\Users\\SeanW\\anaconda3\\lib\\site-packages\\sklearn\\base.py:493: UserWarning: X does not have valid feature names, but RidgeCV was fitted with feature names\n",
      "  warnings.warn(\n",
      "C:\\Users\\SeanW\\anaconda3\\lib\\site-packages\\sklearn\\base.py:493: UserWarning: X does not have valid feature names, but RidgeCV was fitted with feature names\n",
      "  warnings.warn(\n"
     ]
    },
    {
     "name": "stdout",
     "output_type": "stream",
     "text": [
      "------------------------------------------------\n",
      "Home: Gold Coast Suns    53\n",
      "Away: Essendon           91\n",
      "Winner: Essendon by 38 points\n",
      "Total Score: 144\n",
      "------------------------------------------------\n",
      "Home: Adelaide Crows     79\n",
      "Away: Richmond           88\n",
      "Winner: Richmond by 9 points\n",
      "Total Score: 167\n",
      "------------------------------------------------\n",
      "Home: Western Bulldogs   75\n",
      "Away: Brisbane Lions     59\n",
      "Winner: Western Bulldogs by 16 points\n",
      "Total Score: 134\n",
      "------------------------------------------------\n",
      "Home: Hawthorn           71\n",
      "Away: GWS Giants         38\n",
      "Winner: Hawthorn by 33 points\n",
      "Total Score: 109\n",
      "------------------------------------------------\n",
      "Home: West Coast Eagles  75\n",
      "Away: North Melbourne    68\n",
      "Winner: West Coast Eagles by 7 points\n",
      "Total Score: 143\n"
     ]
    },
    {
     "name": "stderr",
     "output_type": "stream",
     "text": [
      "C:\\Users\\SeanW\\anaconda3\\lib\\site-packages\\sklearn\\base.py:493: UserWarning: X does not have valid feature names, but RidgeCV was fitted with feature names\n",
      "  warnings.warn(\n",
      "C:\\Users\\SeanW\\anaconda3\\lib\\site-packages\\sklearn\\base.py:493: UserWarning: X does not have valid feature names, but RidgeCV was fitted with feature names\n",
      "  warnings.warn(\n",
      "C:\\Users\\SeanW\\anaconda3\\lib\\site-packages\\sklearn\\base.py:493: UserWarning: X does not have valid feature names, but RidgeCV was fitted with feature names\n",
      "  warnings.warn(\n",
      "C:\\Users\\SeanW\\anaconda3\\lib\\site-packages\\sklearn\\base.py:493: UserWarning: X does not have valid feature names, but RidgeCV was fitted with feature names\n",
      "  warnings.warn(\n",
      "C:\\Users\\SeanW\\anaconda3\\lib\\site-packages\\sklearn\\base.py:493: UserWarning: X does not have valid feature names, but RidgeCV was fitted with feature names\n",
      "  warnings.warn(\n"
     ]
    },
    {
     "name": "stdout",
     "output_type": "stream",
     "text": [
      "------------------------------------------------\n",
      "Home: St Kilda           101\n",
      "Away: Gold Coast Suns    64\n",
      "Winner: St Kilda by 37 points\n",
      "Total Score: 165\n",
      "------------------------------------------------\n",
      "Home: Sydney Swans       78\n",
      "Away: Geelong Cats       73\n",
      "Winner: Sydney Swans by 5 points\n",
      "Total Score: 151\n",
      "------------------------------------------------\n",
      "Home: Essendon           72\n",
      "Away: Carlton            80\n",
      "Winner: Carlton by 8 points\n",
      "Total Score: 152\n",
      "------------------------------------------------\n",
      "Home: Collingwood        73\n",
      "Away: Melbourne          57\n",
      "Winner: Collingwood by 16 points\n",
      "Total Score: 130\n",
      "------------------------------------------------\n",
      "Home: Brisbane Lions     70\n",
      "Away: St Kilda           65\n",
      "Winner: Brisbane Lions by 5 points\n",
      "Total Score: 135\n"
     ]
    },
    {
     "name": "stderr",
     "output_type": "stream",
     "text": [
      "C:\\Users\\SeanW\\anaconda3\\lib\\site-packages\\sklearn\\base.py:493: UserWarning: X does not have valid feature names, but RidgeCV was fitted with feature names\n",
      "  warnings.warn(\n",
      "C:\\Users\\SeanW\\anaconda3\\lib\\site-packages\\sklearn\\base.py:493: UserWarning: X does not have valid feature names, but RidgeCV was fitted with feature names\n",
      "  warnings.warn(\n",
      "C:\\Users\\SeanW\\anaconda3\\lib\\site-packages\\sklearn\\base.py:493: UserWarning: X does not have valid feature names, but RidgeCV was fitted with feature names\n",
      "  warnings.warn(\n",
      "C:\\Users\\SeanW\\anaconda3\\lib\\site-packages\\sklearn\\base.py:493: UserWarning: X does not have valid feature names, but RidgeCV was fitted with feature names\n",
      "  warnings.warn(\n",
      "C:\\Users\\SeanW\\anaconda3\\lib\\site-packages\\sklearn\\base.py:493: UserWarning: X does not have valid feature names, but RidgeCV was fitted with feature names\n",
      "  warnings.warn(\n"
     ]
    },
    {
     "name": "stdout",
     "output_type": "stream",
     "text": [
      "------------------------------------------------\n",
      "Home: Western Bulldogs   95\n",
      "Away: Fremantle          78\n",
      "Winner: Western Bulldogs by 17 points\n",
      "Total Score: 173\n",
      "------------------------------------------------\n",
      "Home: Richmond           96\n",
      "Away: Hawthorn           77\n",
      "Winner: Richmond by 19 points\n",
      "Total Score: 173\n",
      "------------------------------------------------\n",
      "Home: Adelaide Crows     74\n",
      "Away: Sydney Swans       73\n",
      "Winner: Adelaide Crows by 1 points\n",
      "Total Score: 147\n",
      "------------------------------------------------\n",
      "Home: North Melbourne    75\n",
      "Away: Collingwood        94\n",
      "Winner: Collingwood by 19 points\n",
      "Total Score: 169\n"
     ]
    },
    {
     "name": "stderr",
     "output_type": "stream",
     "text": [
      "C:\\Users\\SeanW\\anaconda3\\lib\\site-packages\\sklearn\\base.py:493: UserWarning: X does not have valid feature names, but RidgeCV was fitted with feature names\n",
      "  warnings.warn(\n",
      "C:\\Users\\SeanW\\anaconda3\\lib\\site-packages\\sklearn\\base.py:493: UserWarning: X does not have valid feature names, but RidgeCV was fitted with feature names\n",
      "  warnings.warn(\n",
      "C:\\Users\\SeanW\\anaconda3\\lib\\site-packages\\sklearn\\base.py:493: UserWarning: X does not have valid feature names, but RidgeCV was fitted with feature names\n",
      "  warnings.warn(\n",
      "C:\\Users\\SeanW\\anaconda3\\lib\\site-packages\\sklearn\\base.py:493: UserWarning: X does not have valid feature names, but RidgeCV was fitted with feature names\n",
      "  warnings.warn(\n"
     ]
    },
    {
     "name": "stdout",
     "output_type": "stream",
     "text": [
      "------------------------------------------------\n",
      "Home: GWS Giants         73\n",
      "Away: Port Adelaide      93\n",
      "Winner: Port Adelaide by 20 points\n",
      "Total Score: 166\n",
      "------------------------------------------------\n",
      "Home: Carlton            70\n",
      "Away: Geelong Cats       80\n",
      "Winner: Geelong Cats by 10 points\n",
      "Total Score: 150\n",
      "------------------------------------------------\n",
      "Home: Port Adelaide      100\n",
      "Away: Brisbane Lions     78\n",
      "Winner: Port Adelaide by 22 points\n",
      "Total Score: 178\n"
     ]
    },
    {
     "name": "stderr",
     "output_type": "stream",
     "text": [
      "C:\\Users\\SeanW\\anaconda3\\lib\\site-packages\\sklearn\\base.py:493: UserWarning: X does not have valid feature names, but RidgeCV was fitted with feature names\n",
      "  warnings.warn(\n",
      "C:\\Users\\SeanW\\anaconda3\\lib\\site-packages\\sklearn\\base.py:493: UserWarning: X does not have valid feature names, but RidgeCV was fitted with feature names\n",
      "  warnings.warn(\n",
      "C:\\Users\\SeanW\\anaconda3\\lib\\site-packages\\sklearn\\base.py:493: UserWarning: X does not have valid feature names, but RidgeCV was fitted with feature names\n",
      "  warnings.warn(\n"
     ]
    },
    {
     "name": "stdout",
     "output_type": "stream",
     "text": [
      "------------------------------------------------\n",
      "Home: GWS Giants         83\n",
      "Away: Sydney Swans       99\n",
      "Winner: Sydney Swans by 16 points\n",
      "Total Score: 182\n",
      "------------------------------------------------\n",
      "Home: Melbourne          121\n",
      "Away: North Melbourne    44\n",
      "Winner: Melbourne by 77 points\n",
      "Total Score: 165\n",
      "------------------------------------------------\n",
      "Home: Essendon           78\n",
      "Away: West Coast Eagles  68\n",
      "Winner: Essendon by 10 points\n",
      "Total Score: 146\n",
      "------------------------------------------------\n",
      "Home: Fremantle          94\n",
      "Away: Gold Coast Suns    74\n",
      "Winner: Fremantle by 20 points\n",
      "Total Score: 168\n"
     ]
    },
    {
     "name": "stderr",
     "output_type": "stream",
     "text": [
      "C:\\Users\\SeanW\\anaconda3\\lib\\site-packages\\sklearn\\base.py:493: UserWarning: X does not have valid feature names, but RidgeCV was fitted with feature names\n",
      "  warnings.warn(\n",
      "C:\\Users\\SeanW\\anaconda3\\lib\\site-packages\\sklearn\\base.py:493: UserWarning: X does not have valid feature names, but RidgeCV was fitted with feature names\n",
      "  warnings.warn(\n",
      "C:\\Users\\SeanW\\anaconda3\\lib\\site-packages\\sklearn\\base.py:493: UserWarning: X does not have valid feature names, but RidgeCV was fitted with feature names\n",
      "  warnings.warn(\n"
     ]
    },
    {
     "name": "stdout",
     "output_type": "stream",
     "text": [
      "------------------------------------------------\n",
      "Home: Brisbane Lions     81\n",
      "Away: Melbourne          97\n",
      "Winner: Melbourne by 16 points\n",
      "Total Score: 178\n",
      "------------------------------------------------\n",
      "Home: Geelong Cats       114\n",
      "Away: Essendon           54\n",
      "Winner: Geelong Cats by 60 points\n",
      "Total Score: 168\n",
      "------------------------------------------------\n",
      "Home: Gold Coast Suns    55\n",
      "Away: Collingwood        97\n",
      "Winner: Collingwood by 42 points\n",
      "Total Score: 152\n"
     ]
    },
    {
     "name": "stderr",
     "output_type": "stream",
     "text": [
      "C:\\Users\\SeanW\\anaconda3\\lib\\site-packages\\sklearn\\base.py:493: UserWarning: X does not have valid feature names, but RidgeCV was fitted with feature names\n",
      "  warnings.warn(\n",
      "C:\\Users\\SeanW\\anaconda3\\lib\\site-packages\\sklearn\\base.py:493: UserWarning: X does not have valid feature names, but RidgeCV was fitted with feature names\n",
      "  warnings.warn(\n",
      "C:\\Users\\SeanW\\anaconda3\\lib\\site-packages\\sklearn\\base.py:493: UserWarning: X does not have valid feature names, but RidgeCV was fitted with feature names\n",
      "  warnings.warn(\n"
     ]
    },
    {
     "name": "stdout",
     "output_type": "stream",
     "text": [
      "------------------------------------------------\n",
      "Home: North Melbourne    74\n",
      "Away: Western Bulldogs   131\n",
      "Winner: Western Bulldogs by 57 points\n",
      "Total Score: 205\n",
      "------------------------------------------------\n",
      "Home: Richmond           81\n",
      "Away: Carlton            67\n",
      "Winner: Richmond by 14 points\n",
      "Total Score: 148\n"
     ]
    },
    {
     "name": "stderr",
     "output_type": "stream",
     "text": [
      "C:\\Users\\SeanW\\anaconda3\\lib\\site-packages\\sklearn\\base.py:493: UserWarning: X does not have valid feature names, but RidgeCV was fitted with feature names\n",
      "  warnings.warn(\n",
      "C:\\Users\\SeanW\\anaconda3\\lib\\site-packages\\sklearn\\base.py:493: UserWarning: X does not have valid feature names, but RidgeCV was fitted with feature names\n",
      "  warnings.warn(\n"
     ]
    },
    {
     "name": "stdout",
     "output_type": "stream",
     "text": [
      "------------------------------------------------\n",
      "Home: St Kilda           63\n",
      "Away: Port Adelaide      75\n",
      "Winner: Port Adelaide by 12 points\n",
      "Total Score: 138\n",
      "------------------------------------------------\n",
      "Home: Sydney Swans       86\n",
      "Away: Fremantle          86\n",
      "Winner: Fremantle by 0 points\n",
      "Total Score: 172\n",
      "------------------------------------------------\n",
      "Home: Adelaide Crows     54\n",
      "Away: GWS Giants         87\n",
      "Winner: GWS Giants by 33 points\n",
      "Total Score: 141\n"
     ]
    },
    {
     "name": "stderr",
     "output_type": "stream",
     "text": [
      "C:\\Users\\SeanW\\anaconda3\\lib\\site-packages\\sklearn\\base.py:493: UserWarning: X does not have valid feature names, but RidgeCV was fitted with feature names\n",
      "  warnings.warn(\n",
      "C:\\Users\\SeanW\\anaconda3\\lib\\site-packages\\sklearn\\base.py:493: UserWarning: X does not have valid feature names, but RidgeCV was fitted with feature names\n",
      "  warnings.warn(\n",
      "C:\\Users\\SeanW\\anaconda3\\lib\\site-packages\\sklearn\\base.py:493: UserWarning: X does not have valid feature names, but RidgeCV was fitted with feature names\n",
      "  warnings.warn(\n",
      "C:\\Users\\SeanW\\anaconda3\\lib\\site-packages\\sklearn\\base.py:493: UserWarning: X does not have valid feature names, but RidgeCV was fitted with feature names\n",
      "  warnings.warn(\n"
     ]
    },
    {
     "name": "stdout",
     "output_type": "stream",
     "text": [
      "------------------------------------------------\n",
      "Home: West Coast Eagles  74\n",
      "Away: Hawthorn           65\n",
      "Winner: West Coast Eagles by 9 points\n",
      "Total Score: 139\n",
      "------------------------------------------------\n",
      "Home: Brisbane Lions     95\n",
      "Away: Adelaide Crows     77\n",
      "Winner: Brisbane Lions by 18 points\n",
      "Total Score: 172\n",
      "------------------------------------------------\n",
      "Home: Collingwood        80\n",
      "Away: Essendon           77\n",
      "Winner: Collingwood by 3 points\n",
      "Total Score: 157\n"
     ]
    },
    {
     "name": "stderr",
     "output_type": "stream",
     "text": [
      "C:\\Users\\SeanW\\anaconda3\\lib\\site-packages\\sklearn\\base.py:493: UserWarning: X does not have valid feature names, but RidgeCV was fitted with feature names\n",
      "  warnings.warn(\n",
      "C:\\Users\\SeanW\\anaconda3\\lib\\site-packages\\sklearn\\base.py:493: UserWarning: X does not have valid feature names, but RidgeCV was fitted with feature names\n",
      "  warnings.warn(\n",
      "C:\\Users\\SeanW\\anaconda3\\lib\\site-packages\\sklearn\\base.py:493: UserWarning: X does not have valid feature names, but RidgeCV was fitted with feature names\n",
      "  warnings.warn(\n"
     ]
    },
    {
     "name": "stdout",
     "output_type": "stream",
     "text": [
      "------------------------------------------------\n",
      "Home: Geelong Cats       98\n",
      "Away: Hawthorn           55\n",
      "Winner: Geelong Cats by 43 points\n",
      "Total Score: 153\n",
      "------------------------------------------------\n",
      "Home: GWS Giants         78\n",
      "Away: Carlton            74\n",
      "Winner: GWS Giants by 4 points\n",
      "Total Score: 152\n",
      "------------------------------------------------\n",
      "Home: Melbourne          77\n",
      "Away: West Coast Eagles  88\n",
      "Winner: West Coast Eagles by 11 points\n",
      "Total Score: 165\n"
     ]
    },
    {
     "name": "stderr",
     "output_type": "stream",
     "text": [
      "C:\\Users\\SeanW\\anaconda3\\lib\\site-packages\\sklearn\\base.py:493: UserWarning: X does not have valid feature names, but RidgeCV was fitted with feature names\n",
      "  warnings.warn(\n",
      "C:\\Users\\SeanW\\anaconda3\\lib\\site-packages\\sklearn\\base.py:493: UserWarning: X does not have valid feature names, but RidgeCV was fitted with feature names\n",
      "  warnings.warn(\n",
      "C:\\Users\\SeanW\\anaconda3\\lib\\site-packages\\sklearn\\base.py:493: UserWarning: X does not have valid feature names, but RidgeCV was fitted with feature names\n",
      "  warnings.warn(\n"
     ]
    },
    {
     "name": "stdout",
     "output_type": "stream",
     "text": [
      "------------------------------------------------\n",
      "Home: North Melbourne    94\n",
      "Away: Gold Coast Suns    98\n",
      "Winner: Gold Coast Suns by 4 points\n",
      "Total Score: 192\n",
      "------------------------------------------------\n",
      "Home: St Kilda           84\n",
      "Away: Sydney Swans       71\n",
      "Winner: St Kilda by 13 points\n",
      "Total Score: 155\n",
      "------------------------------------------------\n",
      "Home: Port Adelaide      70\n",
      "Away: Western Bulldogs   77\n",
      "Winner: Western Bulldogs by 7 points\n",
      "Total Score: 147\n",
      "------------------------------------------------\n",
      "Home: Fremantle          67\n",
      "Away: Richmond           74\n",
      "Winner: Richmond by 7 points\n",
      "Total Score: 141\n"
     ]
    },
    {
     "name": "stderr",
     "output_type": "stream",
     "text": [
      "C:\\Users\\SeanW\\anaconda3\\lib\\site-packages\\sklearn\\base.py:493: UserWarning: X does not have valid feature names, but RidgeCV was fitted with feature names\n",
      "  warnings.warn(\n",
      "C:\\Users\\SeanW\\anaconda3\\lib\\site-packages\\sklearn\\base.py:493: UserWarning: X does not have valid feature names, but RidgeCV was fitted with feature names\n",
      "  warnings.warn(\n",
      "C:\\Users\\SeanW\\anaconda3\\lib\\site-packages\\sklearn\\base.py:493: UserWarning: X does not have valid feature names, but RidgeCV was fitted with feature names\n",
      "  warnings.warn(\n",
      "C:\\Users\\SeanW\\anaconda3\\lib\\site-packages\\sklearn\\base.py:493: UserWarning: X does not have valid feature names, but RidgeCV was fitted with feature names\n",
      "  warnings.warn(\n"
     ]
    },
    {
     "name": "stdout",
     "output_type": "stream",
     "text": [
      "------------------------------------------------\n",
      "Home: Collingwood        88\n",
      "Away: Geelong Cats       90\n",
      "Winner: Geelong Cats by 2 points\n",
      "Total Score: 178\n",
      "------------------------------------------------\n",
      "Home: Gold Coast Suns    33\n",
      "Away: Port Adelaide      79\n",
      "Winner: Port Adelaide by 46 points\n",
      "Total Score: 112\n",
      "------------------------------------------------\n",
      "Home: Hawthorn           57\n",
      "Away: Fremantle          92\n",
      "Winner: Fremantle by 35 points\n",
      "Total Score: 149\n"
     ]
    },
    {
     "name": "stderr",
     "output_type": "stream",
     "text": [
      "C:\\Users\\SeanW\\anaconda3\\lib\\site-packages\\sklearn\\base.py:493: UserWarning: X does not have valid feature names, but RidgeCV was fitted with feature names\n",
      "  warnings.warn(\n",
      "C:\\Users\\SeanW\\anaconda3\\lib\\site-packages\\sklearn\\base.py:493: UserWarning: X does not have valid feature names, but RidgeCV was fitted with feature names\n",
      "  warnings.warn(\n",
      "C:\\Users\\SeanW\\anaconda3\\lib\\site-packages\\sklearn\\base.py:493: UserWarning: X does not have valid feature names, but RidgeCV was fitted with feature names\n",
      "  warnings.warn(\n"
     ]
    },
    {
     "name": "stdout",
     "output_type": "stream",
     "text": [
      "------------------------------------------------\n",
      "Home: Melbourne          100\n",
      "Away: Essendon           85\n",
      "Winner: Melbourne by 15 points\n",
      "Total Score: 185\n",
      "------------------------------------------------\n",
      "Home: Richmond           103\n",
      "Away: GWS Giants         65\n",
      "Winner: Richmond by 38 points\n",
      "Total Score: 168\n",
      "------------------------------------------------\n",
      "Home: Sydney Swans       85\n",
      "Away: North Melbourne    77\n",
      "Winner: Sydney Swans by 8 points\n",
      "Total Score: 162\n"
     ]
    },
    {
     "name": "stderr",
     "output_type": "stream",
     "text": [
      "C:\\Users\\SeanW\\anaconda3\\lib\\site-packages\\sklearn\\base.py:493: UserWarning: X does not have valid feature names, but RidgeCV was fitted with feature names\n",
      "  warnings.warn(\n",
      "C:\\Users\\SeanW\\anaconda3\\lib\\site-packages\\sklearn\\base.py:493: UserWarning: X does not have valid feature names, but RidgeCV was fitted with feature names\n",
      "  warnings.warn(\n",
      "C:\\Users\\SeanW\\anaconda3\\lib\\site-packages\\sklearn\\base.py:493: UserWarning: X does not have valid feature names, but RidgeCV was fitted with feature names\n",
      "  warnings.warn(\n",
      "C:\\Users\\SeanW\\AppData\\Local\\Temp\\ipykernel_17320\\905886690.py:10: FutureWarning: Not prepending group keys to the result index of transform-like apply. In the future, the group keys will be included in the index, regardless of whether the applied function returns a like-indexed object.\n",
      "To preserve the previous behavior, use\n",
      "\n",
      "\t>>> .groupby(..., group_keys=False)\n",
      "\n",
      "To adopt the future behavior and silence this warning, use \n",
      "\n",
      "\t>>> .groupby(..., group_keys=True)\n",
      "  stats = match_ups[model_inputs+['match.homeTeam.name']].groupby('match.homeTeam.name').apply(lambda x: np.average(x, weights=weights, axis=0))\n"
     ]
    },
    {
     "name": "stdout",
     "output_type": "stream",
     "text": [
      "------------------------------------------------\n",
      "Home: Western Bulldogs   89\n",
      "Away: Carlton            95\n",
      "Winner: Carlton by 6 points\n",
      "Total Score: 184\n",
      "------------------------------------------------\n",
      "Home: Adelaide Crows     88\n",
      "Away: St Kilda           76\n",
      "Winner: Adelaide Crows by 12 points\n",
      "Total Score: 164\n",
      "No prior game\n"
     ]
    },
    {
     "name": "stderr",
     "output_type": "stream",
     "text": [
      "C:\\Users\\SeanW\\anaconda3\\lib\\site-packages\\sklearn\\base.py:493: UserWarning: X does not have valid feature names, but RidgeCV was fitted with feature names\n",
      "  warnings.warn(\n",
      "C:\\Users\\SeanW\\anaconda3\\lib\\site-packages\\sklearn\\base.py:493: UserWarning: X does not have valid feature names, but RidgeCV was fitted with feature names\n",
      "  warnings.warn(\n",
      "C:\\Users\\SeanW\\anaconda3\\lib\\site-packages\\sklearn\\base.py:493: UserWarning: X does not have valid feature names, but RidgeCV was fitted with feature names\n",
      "  warnings.warn(\n"
     ]
    },
    {
     "name": "stdout",
     "output_type": "stream",
     "text": [
      "------------------------------------------------\n",
      "Home: Brisbane Lions     95\n",
      "Away: Sydney Swans       96\n",
      "Winner: Sydney Swans by 1 points\n",
      "Total Score: 191\n",
      "------------------------------------------------\n",
      "Home: Carlton            92\n",
      "Away: North Melbourne    93\n",
      "Winner: North Melbourne by 1 points\n",
      "Total Score: 185\n",
      "------------------------------------------------\n",
      "Home: Essendon           102\n",
      "Away: Adelaide Crows     85\n",
      "Winner: Essendon by 17 points\n",
      "Total Score: 187\n"
     ]
    },
    {
     "name": "stderr",
     "output_type": "stream",
     "text": [
      "C:\\Users\\SeanW\\anaconda3\\lib\\site-packages\\sklearn\\base.py:493: UserWarning: X does not have valid feature names, but RidgeCV was fitted with feature names\n",
      "  warnings.warn(\n",
      "C:\\Users\\SeanW\\anaconda3\\lib\\site-packages\\sklearn\\base.py:493: UserWarning: X does not have valid feature names, but RidgeCV was fitted with feature names\n",
      "  warnings.warn(\n",
      "C:\\Users\\SeanW\\anaconda3\\lib\\site-packages\\sklearn\\base.py:493: UserWarning: X does not have valid feature names, but RidgeCV was fitted with feature names\n",
      "  warnings.warn(\n",
      "C:\\Users\\SeanW\\anaconda3\\lib\\site-packages\\sklearn\\base.py:493: UserWarning: X does not have valid feature names, but RidgeCV was fitted with feature names\n",
      "  warnings.warn(\n"
     ]
    },
    {
     "name": "stdout",
     "output_type": "stream",
     "text": [
      "------------------------------------------------\n",
      "Home: Geelong Cats       91\n",
      "Away: Western Bulldogs   87\n",
      "Winner: Geelong Cats by 4 points\n",
      "Total Score: 178\n",
      "------------------------------------------------\n",
      "Home: GWS Giants         94\n",
      "Away: Gold Coast Suns    61\n",
      "Winner: GWS Giants by 33 points\n",
      "Total Score: 155\n",
      "------------------------------------------------\n",
      "Home: Hawthorn           89\n",
      "Away: Collingwood        71\n",
      "Winner: Hawthorn by 18 points\n",
      "Total Score: 160\n",
      "------------------------------------------------\n",
      "Home: St Kilda           78\n",
      "Away: West Coast Eagles  81\n",
      "Winner: West Coast Eagles by 3 points\n",
      "Total Score: 159\n",
      "------------------------------------------------\n",
      "Home: Port Adelaide      78\n",
      "Away: Richmond           75\n",
      "Winner: Port Adelaide by 3 points\n",
      "Total Score: 153\n",
      "------------------------------------------------\n",
      "Home: Fremantle          41\n",
      "Away: Melbourne          84\n",
      "Winner: Melbourne by 43 points\n",
      "Total Score: 125\n"
     ]
    },
    {
     "name": "stderr",
     "output_type": "stream",
     "text": [
      "C:\\Users\\SeanW\\anaconda3\\lib\\site-packages\\sklearn\\base.py:493: UserWarning: X does not have valid feature names, but RidgeCV was fitted with feature names\n",
      "  warnings.warn(\n",
      "C:\\Users\\SeanW\\anaconda3\\lib\\site-packages\\sklearn\\base.py:493: UserWarning: X does not have valid feature names, but RidgeCV was fitted with feature names\n",
      "  warnings.warn(\n",
      "C:\\Users\\SeanW\\anaconda3\\lib\\site-packages\\sklearn\\base.py:493: UserWarning: X does not have valid feature names, but RidgeCV was fitted with feature names\n",
      "  warnings.warn(\n"
     ]
    },
    {
     "name": "stdout",
     "output_type": "stream",
     "text": [
      "------------------------------------------------\n",
      "Home: Carlton            95\n",
      "Away: Port Adelaide      81\n",
      "Winner: Carlton by 14 points\n",
      "Total Score: 176\n",
      "------------------------------------------------\n",
      "Home: Collingwood        56\n",
      "Away: Richmond           52\n",
      "Winner: Collingwood by 4 points\n",
      "Total Score: 108\n",
      "------------------------------------------------\n",
      "Home: Gold Coast Suns    79\n",
      "Away: Brisbane Lions     96\n",
      "Winner: Brisbane Lions by 17 points\n",
      "Total Score: 175\n",
      "------------------------------------------------\n",
      "Home: Melbourne          73\n",
      "Away: GWS Giants         56\n",
      "Winner: Melbourne by 17 points\n",
      "Total Score: 129\n"
     ]
    },
    {
     "name": "stderr",
     "output_type": "stream",
     "text": [
      "C:\\Users\\SeanW\\anaconda3\\lib\\site-packages\\sklearn\\base.py:493: UserWarning: X does not have valid feature names, but RidgeCV was fitted with feature names\n",
      "  warnings.warn(\n",
      "C:\\Users\\SeanW\\anaconda3\\lib\\site-packages\\sklearn\\base.py:493: UserWarning: X does not have valid feature names, but RidgeCV was fitted with feature names\n",
      "  warnings.warn(\n",
      "C:\\Users\\SeanW\\anaconda3\\lib\\site-packages\\sklearn\\base.py:493: UserWarning: X does not have valid feature names, but RidgeCV was fitted with feature names\n",
      "  warnings.warn(\n",
      "C:\\Users\\SeanW\\anaconda3\\lib\\site-packages\\sklearn\\base.py:493: UserWarning: X does not have valid feature names, but RidgeCV was fitted with feature names\n",
      "  warnings.warn(\n"
     ]
    },
    {
     "name": "stdout",
     "output_type": "stream",
     "text": [
      "------------------------------------------------\n",
      "Home: North Melbourne    62\n",
      "Away: Geelong Cats       96\n",
      "Winner: Geelong Cats by 34 points\n",
      "Total Score: 158\n",
      "------------------------------------------------\n",
      "Home: St Kilda           83\n",
      "Away: Essendon           76\n",
      "Winner: St Kilda by 7 points\n",
      "Total Score: 159\n",
      "------------------------------------------------\n",
      "Home: Sydney Swans       84\n",
      "Away: Western Bulldogs   71\n",
      "Winner: Sydney Swans by 13 points\n",
      "Total Score: 155\n",
      "------------------------------------------------\n",
      "Home: Adelaide Crows     85\n",
      "Away: Hawthorn           84\n",
      "Winner: Adelaide Crows by 1 points\n",
      "Total Score: 169\n"
     ]
    },
    {
     "name": "stderr",
     "output_type": "stream",
     "text": [
      "C:\\Users\\SeanW\\anaconda3\\lib\\site-packages\\sklearn\\base.py:493: UserWarning: X does not have valid feature names, but RidgeCV was fitted with feature names\n",
      "  warnings.warn(\n",
      "C:\\Users\\SeanW\\anaconda3\\lib\\site-packages\\sklearn\\base.py:493: UserWarning: X does not have valid feature names, but RidgeCV was fitted with feature names\n",
      "  warnings.warn(\n",
      "C:\\Users\\SeanW\\anaconda3\\lib\\site-packages\\sklearn\\base.py:493: UserWarning: X does not have valid feature names, but RidgeCV was fitted with feature names\n",
      "  warnings.warn(\n",
      "C:\\Users\\SeanW\\anaconda3\\lib\\site-packages\\sklearn\\base.py:493: UserWarning: X does not have valid feature names, but RidgeCV was fitted with feature names\n",
      "  warnings.warn(\n"
     ]
    },
    {
     "name": "stdout",
     "output_type": "stream",
     "text": [
      "------------------------------------------------\n",
      "Home: Fremantle          77\n",
      "Away: West Coast Eagles  64\n",
      "Winner: Fremantle by 13 points\n",
      "Total Score: 141\n",
      "------------------------------------------------\n",
      "Home: Collingwood        73\n",
      "Away: Carlton            86\n",
      "Winner: Carlton by 13 points\n",
      "Total Score: 159\n",
      "------------------------------------------------\n",
      "Home: Essendon           64\n",
      "Away: Fremantle          78\n",
      "Winner: Fremantle by 14 points\n",
      "Total Score: 142\n",
      "------------------------------------------------\n",
      "Home: Geelong Cats       97\n",
      "Away: Adelaide Crows     65\n",
      "Winner: Geelong Cats by 32 points\n",
      "Total Score: 162\n",
      "------------------------------------------------\n",
      "Home: GWS Giants         75\n",
      "Away: Hawthorn           70\n",
      "Winner: GWS Giants by 5 points\n",
      "Total Score: 145\n"
     ]
    },
    {
     "name": "stderr",
     "output_type": "stream",
     "text": [
      "C:\\Users\\SeanW\\anaconda3\\lib\\site-packages\\sklearn\\base.py:493: UserWarning: X does not have valid feature names, but RidgeCV was fitted with feature names\n",
      "  warnings.warn(\n",
      "C:\\Users\\SeanW\\anaconda3\\lib\\site-packages\\sklearn\\base.py:493: UserWarning: X does not have valid feature names, but RidgeCV was fitted with feature names\n",
      "  warnings.warn(\n",
      "C:\\Users\\SeanW\\anaconda3\\lib\\site-packages\\sklearn\\base.py:493: UserWarning: X does not have valid feature names, but RidgeCV was fitted with feature names\n",
      "  warnings.warn(\n",
      "C:\\Users\\SeanW\\anaconda3\\lib\\site-packages\\sklearn\\base.py:493: UserWarning: X does not have valid feature names, but RidgeCV was fitted with feature names\n",
      "  warnings.warn(\n",
      "C:\\Users\\SeanW\\anaconda3\\lib\\site-packages\\sklearn\\base.py:493: UserWarning: X does not have valid feature names, but RidgeCV was fitted with feature names\n",
      "  warnings.warn(\n"
     ]
    },
    {
     "name": "stdout",
     "output_type": "stream",
     "text": [
      "------------------------------------------------\n",
      "Home: North Melbourne    97\n",
      "Away: Richmond           80\n",
      "Winner: North Melbourne by 17 points\n",
      "Total Score: 177\n",
      "------------------------------------------------\n",
      "Home: St Kilda           58\n",
      "Away: Brisbane Lions     87\n",
      "Winner: Brisbane Lions by 29 points\n",
      "Total Score: 145\n",
      "------------------------------------------------\n",
      "Home: Western Bulldogs   87\n",
      "Away: Melbourne          84\n",
      "Winner: Western Bulldogs by 3 points\n",
      "Total Score: 171\n",
      "------------------------------------------------\n",
      "Home: Port Adelaide      79\n",
      "Away: Sydney Swans       58\n",
      "Winner: Port Adelaide by 21 points\n",
      "Total Score: 137\n"
     ]
    },
    {
     "name": "stderr",
     "output_type": "stream",
     "text": [
      "C:\\Users\\SeanW\\anaconda3\\lib\\site-packages\\sklearn\\base.py:493: UserWarning: X does not have valid feature names, but RidgeCV was fitted with feature names\n",
      "  warnings.warn(\n",
      "C:\\Users\\SeanW\\anaconda3\\lib\\site-packages\\sklearn\\base.py:493: UserWarning: X does not have valid feature names, but RidgeCV was fitted with feature names\n",
      "  warnings.warn(\n",
      "C:\\Users\\SeanW\\anaconda3\\lib\\site-packages\\sklearn\\base.py:493: UserWarning: X does not have valid feature names, but RidgeCV was fitted with feature names\n",
      "  warnings.warn(\n",
      "C:\\Users\\SeanW\\anaconda3\\lib\\site-packages\\sklearn\\base.py:493: UserWarning: X does not have valid feature names, but RidgeCV was fitted with feature names\n",
      "  warnings.warn(\n"
     ]
    },
    {
     "name": "stdout",
     "output_type": "stream",
     "text": [
      "------------------------------------------------\n",
      "Home: West Coast Eagles  66\n",
      "Away: Gold Coast Suns    93\n",
      "Winner: Gold Coast Suns by 27 points\n",
      "Total Score: 159\n",
      "------------------------------------------------\n",
      "Home: Brisbane Lions     108\n",
      "Away: GWS Giants         82\n",
      "Winner: Brisbane Lions by 26 points\n",
      "Total Score: 190\n",
      "------------------------------------------------\n",
      "Home: Carlton            76\n",
      "Away: Hawthorn           72\n",
      "Winner: Carlton by 4 points\n",
      "Total Score: 148\n",
      "------------------------------------------------\n",
      "Home: Essendon           103\n",
      "Away: Gold Coast Suns    75\n",
      "Winner: Essendon by 28 points\n",
      "Total Score: 178\n",
      "------------------------------------------------\n",
      "Home: Melbourne          66\n",
      "Away: Port Adelaide      77\n",
      "Winner: Port Adelaide by 11 points\n",
      "Total Score: 143\n"
     ]
    },
    {
     "name": "stderr",
     "output_type": "stream",
     "text": [
      "C:\\Users\\SeanW\\anaconda3\\lib\\site-packages\\sklearn\\base.py:493: UserWarning: X does not have valid feature names, but RidgeCV was fitted with feature names\n",
      "  warnings.warn(\n",
      "C:\\Users\\SeanW\\anaconda3\\lib\\site-packages\\sklearn\\base.py:493: UserWarning: X does not have valid feature names, but RidgeCV was fitted with feature names\n",
      "  warnings.warn(\n",
      "C:\\Users\\SeanW\\anaconda3\\lib\\site-packages\\sklearn\\base.py:493: UserWarning: X does not have valid feature names, but RidgeCV was fitted with feature names\n",
      "  warnings.warn(\n",
      "C:\\Users\\SeanW\\anaconda3\\lib\\site-packages\\sklearn\\base.py:493: UserWarning: X does not have valid feature names, but RidgeCV was fitted with feature names\n",
      "  warnings.warn(\n",
      "C:\\Users\\SeanW\\anaconda3\\lib\\site-packages\\sklearn\\base.py:493: UserWarning: X does not have valid feature names, but RidgeCV was fitted with feature names\n",
      "  warnings.warn(\n"
     ]
    },
    {
     "name": "stdout",
     "output_type": "stream",
     "text": [
      "------------------------------------------------\n",
      "Home: North Melbourne    75\n",
      "Away: West Coast Eagles  65\n",
      "Winner: North Melbourne by 10 points\n",
      "Total Score: 140\n",
      "------------------------------------------------\n",
      "Home: Richmond           65\n",
      "Away: St Kilda           63\n",
      "Winner: Richmond by 2 points\n",
      "Total Score: 128\n",
      "------------------------------------------------\n",
      "Home: Sydney Swans       83\n",
      "Away: Collingwood        68\n",
      "Winner: Sydney Swans by 15 points\n",
      "Total Score: 151\n",
      "No prior game\n",
      "------------------------------------------------\n",
      "Home: Fremantle          64\n",
      "Away: Geelong Cats       75\n",
      "Winner: Geelong Cats by 11 points\n",
      "Total Score: 139\n"
     ]
    },
    {
     "name": "stderr",
     "output_type": "stream",
     "text": [
      "C:\\Users\\SeanW\\anaconda3\\lib\\site-packages\\sklearn\\base.py:493: UserWarning: X does not have valid feature names, but RidgeCV was fitted with feature names\n",
      "  warnings.warn(\n",
      "C:\\Users\\SeanW\\anaconda3\\lib\\site-packages\\sklearn\\base.py:493: UserWarning: X does not have valid feature names, but RidgeCV was fitted with feature names\n",
      "  warnings.warn(\n",
      "C:\\Users\\SeanW\\AppData\\Local\\Temp\\ipykernel_17320\\905886690.py:10: FutureWarning: Not prepending group keys to the result index of transform-like apply. In the future, the group keys will be included in the index, regardless of whether the applied function returns a like-indexed object.\n",
      "To preserve the previous behavior, use\n",
      "\n",
      "\t>>> .groupby(..., group_keys=False)\n",
      "\n",
      "To adopt the future behavior and silence this warning, use \n",
      "\n",
      "\t>>> .groupby(..., group_keys=True)\n",
      "  stats = match_ups[model_inputs+['match.homeTeam.name']].groupby('match.homeTeam.name').apply(lambda x: np.average(x, weights=weights, axis=0))\n",
      "C:\\Users\\SeanW\\anaconda3\\lib\\site-packages\\sklearn\\base.py:493: UserWarning: X does not have valid feature names, but RidgeCV was fitted with feature names\n",
      "  warnings.warn(\n",
      "C:\\Users\\SeanW\\anaconda3\\lib\\site-packages\\sklearn\\base.py:493: UserWarning: X does not have valid feature names, but RidgeCV was fitted with feature names\n",
      "  warnings.warn(\n"
     ]
    },
    {
     "name": "stdout",
     "output_type": "stream",
     "text": [
      "------------------------------------------------\n",
      "Home: Collingwood        91\n",
      "Away: Brisbane Lions     95\n",
      "Winner: Brisbane Lions by 4 points\n",
      "Total Score: 186\n",
      "------------------------------------------------\n",
      "Home: Essendon           96\n",
      "Away: Sydney Swans       97\n",
      "Winner: Sydney Swans by 1 points\n",
      "Total Score: 193\n",
      "------------------------------------------------\n",
      "Home: Gold Coast Suns    67\n",
      "Away: Melbourne          91\n",
      "Winner: Melbourne by 24 points\n",
      "Total Score: 158\n",
      "------------------------------------------------\n",
      "Home: GWS Giants         89\n",
      "Away: Fremantle          66\n",
      "Winner: GWS Giants by 23 points\n",
      "Total Score: 155\n",
      "------------------------------------------------\n",
      "Home: Hawthorn           86\n",
      "Away: Richmond           104\n",
      "Winner: Richmond by 18 points\n",
      "Total Score: 190\n"
     ]
    },
    {
     "name": "stderr",
     "output_type": "stream",
     "text": [
      "C:\\Users\\SeanW\\anaconda3\\lib\\site-packages\\sklearn\\base.py:493: UserWarning: X does not have valid feature names, but RidgeCV was fitted with feature names\n",
      "  warnings.warn(\n",
      "C:\\Users\\SeanW\\anaconda3\\lib\\site-packages\\sklearn\\base.py:493: UserWarning: X does not have valid feature names, but RidgeCV was fitted with feature names\n",
      "  warnings.warn(\n",
      "C:\\Users\\SeanW\\anaconda3\\lib\\site-packages\\sklearn\\base.py:493: UserWarning: X does not have valid feature names, but RidgeCV was fitted with feature names\n",
      "  warnings.warn(\n",
      "C:\\Users\\SeanW\\anaconda3\\lib\\site-packages\\sklearn\\base.py:493: UserWarning: X does not have valid feature names, but RidgeCV was fitted with feature names\n",
      "  warnings.warn(\n",
      "C:\\Users\\SeanW\\anaconda3\\lib\\site-packages\\sklearn\\base.py:493: UserWarning: X does not have valid feature names, but RidgeCV was fitted with feature names\n",
      "  warnings.warn(\n"
     ]
    },
    {
     "name": "stdout",
     "output_type": "stream",
     "text": [
      "------------------------------------------------\n",
      "Home: St Kilda           75\n",
      "Away: Geelong Cats       67\n",
      "Winner: St Kilda by 8 points\n",
      "Total Score: 142\n",
      "------------------------------------------------\n",
      "Home: Western Bulldogs   99\n",
      "Away: North Melbourne    69\n",
      "Winner: Western Bulldogs by 30 points\n",
      "Total Score: 168\n",
      "------------------------------------------------\n",
      "Home: Port Adelaide      94\n",
      "Away: Adelaide Crows     70\n",
      "Winner: Port Adelaide by 24 points\n",
      "Total Score: 164\n",
      "------------------------------------------------\n",
      "Home: West Coast Eagles  55\n",
      "Away: Carlton            117\n",
      "Winner: Carlton by 62 points\n",
      "Total Score: 172\n",
      "------------------------------------------------\n",
      "Home: Brisbane Lions     91\n",
      "Away: Essendon           64\n",
      "Winner: Brisbane Lions by 27 points\n",
      "Total Score: 155\n"
     ]
    },
    {
     "name": "stderr",
     "output_type": "stream",
     "text": [
      "C:\\Users\\SeanW\\anaconda3\\lib\\site-packages\\sklearn\\base.py:493: UserWarning: X does not have valid feature names, but RidgeCV was fitted with feature names\n",
      "  warnings.warn(\n",
      "C:\\Users\\SeanW\\anaconda3\\lib\\site-packages\\sklearn\\base.py:493: UserWarning: X does not have valid feature names, but RidgeCV was fitted with feature names\n",
      "  warnings.warn(\n",
      "C:\\Users\\SeanW\\anaconda3\\lib\\site-packages\\sklearn\\base.py:493: UserWarning: X does not have valid feature names, but RidgeCV was fitted with feature names\n",
      "  warnings.warn(\n",
      "C:\\Users\\SeanW\\anaconda3\\lib\\site-packages\\sklearn\\base.py:493: UserWarning: X does not have valid feature names, but RidgeCV was fitted with feature names\n",
      "  warnings.warn(\n",
      "C:\\Users\\SeanW\\anaconda3\\lib\\site-packages\\sklearn\\base.py:493: UserWarning: X does not have valid feature names, but RidgeCV was fitted with feature names\n",
      "  warnings.warn(\n"
     ]
    },
    {
     "name": "stdout",
     "output_type": "stream",
     "text": [
      "------------------------------------------------\n",
      "Home: Carlton            68\n",
      "Away: St Kilda           80\n",
      "Winner: St Kilda by 12 points\n",
      "Total Score: 148\n",
      "------------------------------------------------\n",
      "Home: Geelong Cats       127\n",
      "Away: West Coast Eagles  60\n",
      "Winner: Geelong Cats by 67 points\n",
      "Total Score: 187\n",
      "------------------------------------------------\n",
      "Home: Hawthorn           77\n",
      "Away: North Melbourne    65\n",
      "Winner: Hawthorn by 12 points\n",
      "Total Score: 142\n",
      "------------------------------------------------\n",
      "Home: Melbourne          77\n",
      "Away: Collingwood        71\n",
      "Winner: Melbourne by 6 points\n",
      "Total Score: 148\n",
      "------------------------------------------------\n",
      "Home: Richmond           51\n",
      "Away: Gold Coast Suns    61\n",
      "Winner: Gold Coast Suns by 10 points\n",
      "Total Score: 112\n"
     ]
    },
    {
     "name": "stderr",
     "output_type": "stream",
     "text": [
      "C:\\Users\\SeanW\\anaconda3\\lib\\site-packages\\sklearn\\base.py:493: UserWarning: X does not have valid feature names, but RidgeCV was fitted with feature names\n",
      "  warnings.warn(\n",
      "C:\\Users\\SeanW\\anaconda3\\lib\\site-packages\\sklearn\\base.py:493: UserWarning: X does not have valid feature names, but RidgeCV was fitted with feature names\n",
      "  warnings.warn(\n",
      "C:\\Users\\SeanW\\anaconda3\\lib\\site-packages\\sklearn\\base.py:493: UserWarning: X does not have valid feature names, but RidgeCV was fitted with feature names\n",
      "  warnings.warn(\n",
      "C:\\Users\\SeanW\\anaconda3\\lib\\site-packages\\sklearn\\base.py:493: UserWarning: X does not have valid feature names, but RidgeCV was fitted with feature names\n",
      "  warnings.warn(\n"
     ]
    },
    {
     "name": "stdout",
     "output_type": "stream",
     "text": [
      "------------------------------------------------\n",
      "Home: Sydney Swans       107\n",
      "Away: Adelaide Crows     88\n",
      "Winner: Sydney Swans by 19 points\n",
      "Total Score: 195\n",
      "------------------------------------------------\n",
      "Home: Western Bulldogs   67\n",
      "Away: GWS Giants         65\n",
      "Winner: Western Bulldogs by 2 points\n",
      "Total Score: 132\n",
      "------------------------------------------------\n",
      "Home: Fremantle          71\n",
      "Away: Port Adelaide      78\n",
      "Winner: Port Adelaide by 7 points\n",
      "Total Score: 149\n"
     ]
    },
    {
     "name": "stderr",
     "output_type": "stream",
     "text": [
      "C:\\Users\\SeanW\\anaconda3\\lib\\site-packages\\sklearn\\base.py:493: UserWarning: X does not have valid feature names, but RidgeCV was fitted with feature names\n",
      "  warnings.warn(\n",
      "C:\\Users\\SeanW\\anaconda3\\lib\\site-packages\\sklearn\\base.py:493: UserWarning: X does not have valid feature names, but RidgeCV was fitted with feature names\n",
      "  warnings.warn(\n",
      "C:\\Users\\SeanW\\anaconda3\\lib\\site-packages\\sklearn\\base.py:493: UserWarning: X does not have valid feature names, but RidgeCV was fitted with feature names\n",
      "  warnings.warn(\n"
     ]
    }
   ],
   "source": [
    "fix_data_2024 = json.loads(requests.get('https://fixturedownload.com/feed/json/afl-2024').content)\n",
    "\n",
    "fix_data_2023 = json.loads(requests.get('https://fixturedownload.com/feed/json/afl-2023').content)\n",
    "\n",
    "fixtures2024 = pd.DataFrame(fix_data_2024)\n",
    "games2024 = list(zip(fixtures2024.HomeTeam, fixtures2024.AwayTeam))\n",
    "\n",
    "fixtures2023 = pd.DataFrame(fix_data_2023)\n",
    "games2023 = list(zip(fixtures2023.HomeTeam, fixtures2023.AwayTeam))\n",
    "\n",
    "predicted_season = generate_score_tear_off(home_model, away_model, games2024, data, features)\n",
    "\n",
    "fixtures2024['predicted_home'] = [round(i[0]) for i in predicted_season]\n",
    "fixtures2024['predicted_away'] = [round(i[1]) for i in predicted_season]\n",
    "\n",
    "pred_winner = []\n",
    "winner = []\n",
    "for i, row in fixtures2024.iterrows():\n",
    "\n",
    "    if row[7] > row[8]:\n",
    "        winner.append(row[4])\n",
    "    elif row[8] > row[7]:\n",
    "        winner.append(row[5])\n",
    "    else:\n",
    "        winner.append('Draw')\n",
    "\n",
    "\n",
    "    if row[9] > row[10]:\n",
    "        pred_winner.append(row[4])\n",
    "    elif row[10] > row[9]:\n",
    "        pred_winner.append(row[5])\n",
    "    else:\n",
    "        pred_winner.append('Draw')\n",
    "\n",
    "fixtures2024['predicted_winner'] = pred_winner\n",
    "fixtures2024['winner'] = winner\n",
    "fixtures2024['predicted_margin'] = fixtures2024['predicted_home'] - fixtures2024['predicted_away']\n",
    "fixtures2024['actual_margin'] = fixtures2024['HomeTeamScore'] - fixtures2024['AwayTeamScore']\n",
    "fixtures2024['correct'] = [1 if row[11]==row[12] else 0 for i,row in fixtures2024.iterrows()]\n",
    "# fixtures2023['odds'] = [2.3 if abs(row[13]) < 40 else 2.6 for i,row in fixtures2023.iterrows()]\n",
    "\n",
    "\n",
    "fixtures2024.to_csv('outputs/predictions_and_results_2024_.csv', index=False)"
   ]
  },
  {
   "cell_type": "code",
   "execution_count": 17,
   "id": "54ef0a1d",
   "metadata": {},
   "outputs": [],
   "source": [
    "# backtest_data = pd.read_csv('outputs/predictions_and_results_2024.csv')\n",
    "# backtest_data.columns"
   ]
  },
  {
   "cell_type": "code",
   "execution_count": 18,
   "id": "351c69e9",
   "metadata": {},
   "outputs": [],
   "source": [
    "# profit_curve_no_geelong = []\n",
    "# bankroll = 100\n",
    "# stake = 0\n",
    "# profit = 0\n",
    "# for i, row in backtest_data.iterrows():\n",
    "    \n",
    "#     if (backtest_data['predicted_winner'][i] != 'Geelong Cats') and (backtest_data['predicted_winner'][i] != 'Richmond'):\n",
    "#         stake = -1 * 0.1 * bankroll\n",
    "#         profit = -stake * backtest_data['odds'][i] * backtest_data['win '][i]\n",
    "        \n",
    "#         bankroll+=stake+profit\n",
    "\n",
    "#         profit_curve_no_geelong.append(bankroll)\n",
    "#     else:\n",
    "#         bankroll+=0\n",
    "\n",
    "#         profit_curve_no_geelong.append(bankroll)"
   ]
  },
  {
   "cell_type": "code",
   "execution_count": 19,
   "id": "2e76ab0a",
   "metadata": {},
   "outputs": [],
   "source": [
    "# profit_curve = []\n",
    "# bankroll = 100\n",
    "# stake = 0\n",
    "# profit = 0\n",
    "# for i, row in backtest_data.iterrows():\n",
    "    \n",
    "#     stake = -1 * 0.1 * bankroll\n",
    "#     profit = -stake * backtest_data['odds'][i] * backtest_data['win '][i]\n",
    "\n",
    "#     bankroll+=stake+profit\n",
    "\n",
    "#     profit_curve.append(bankroll)"
   ]
  },
  {
   "cell_type": "code",
   "execution_count": 20,
   "id": "39274fbb",
   "metadata": {},
   "outputs": [],
   "source": [
    "# plt.plot(profit_curve, color='b')\n",
    "# plt.plot(profit_curve_no_geelong, color='r')"
   ]
  },
  {
   "cell_type": "code",
   "execution_count": null,
   "id": "96369245",
   "metadata": {},
   "outputs": [],
   "source": []
  }
 ],
 "metadata": {
  "kernelspec": {
   "display_name": "Python 3 (ipykernel)",
   "language": "python",
   "name": "python3"
  },
  "language_info": {
   "codemirror_mode": {
    "name": "ipython",
    "version": 3
   },
   "file_extension": ".py",
   "mimetype": "text/x-python",
   "name": "python",
   "nbconvert_exporter": "python",
   "pygments_lexer": "ipython3",
   "version": "3.10.9"
  }
 },
 "nbformat": 4,
 "nbformat_minor": 5
}
