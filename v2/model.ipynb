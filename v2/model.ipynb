{
 "cells": [
  {
   "cell_type": "code",
   "execution_count": 3,
   "id": "b4a94d59",
   "metadata": {},
   "outputs": [],
   "source": [
    "import pandas as pd\n",
    "import numpy as np\n",
    "from sklearn.model_selection import train_test_split\n",
    "from sklearn.linear_model import LinearRegression\n",
    "from sklearn.metrics import mean_squared_error\n",
    "from tpot import TPOTRegressor\n",
    "from sklearn.metrics import make_scorer\n",
    "import matplotlib.pyplot as plt\n",
    "from featuresv2 import features, targets, metadata\n",
    "%matplotlib inline"
   ]
  },
  {
   "cell_type": "markdown",
   "id": "5ab85414",
   "metadata": {},
   "source": [
    "## Version 2 Model"
   ]
  },
  {
   "cell_type": "code",
   "execution_count": 4,
   "id": "0291af49",
   "metadata": {},
   "outputs": [],
   "source": [
    "data = pd.read_csv('outputs/model_training_data_v2.csv')"
   ]
  },
  {
   "cell_type": "code",
   "execution_count": 5,
   "id": "91ee2881",
   "metadata": {},
   "outputs": [],
   "source": [
    "round_matchups = [\n",
    "    ('Sydney Swans','Melbourne'),\n",
    "    ('Brisbane Lions','Carlton'),\n",
    "    ('Gold Coast Suns','Richmond'),\n",
    "    ('GWS Giants','Collingwood')]"
   ]
  },
  {
   "cell_type": "code",
   "execution_count": 6,
   "id": "633b667e",
   "metadata": {},
   "outputs": [],
   "source": [
    "round1 = [('Carlton', 'Richmond'),\n",
    "('Collingwood','Sydney Swans'),\n",
    "('Essendon','Hawthorn'),\n",
    "('GWS Giants','North Melbourne'),\n",
    "('Geelong Cats','St Kilda'),\n",
    "('Gold Coast Suns','Adelaide Crows'),\n",
    "('Melbourne','Western Bulldogs'),\n",
    "('Port Adelaide','West Coast Eagles'),\n",
    "('Fremantle','Brisbane Lions')]"
   ]
  },
  {
   "cell_type": "code",
   "execution_count": 7,
   "id": "31cfafa2",
   "metadata": {},
   "outputs": [
    {
     "data": {
      "text/plain": [
       "['homeTeamScore.matchScore.totalScore',\n",
       " 'awayTeamScore.matchScore.totalScore',\n",
       " 'score_diff']"
      ]
     },
     "execution_count": 7,
     "metadata": {},
     "output_type": "execute_result"
    }
   ],
   "source": [
    "targets"
   ]
  },
  {
   "cell_type": "code",
   "execution_count": 8,
   "id": "4daf2a3b",
   "metadata": {},
   "outputs": [],
   "source": [
    "def generate_test_train_split(data, features, target, test_size=0.3):\n",
    "    X = data[features]\n",
    "    y = data[target]\n",
    "\n",
    "    x_train, x_test, y_train, y_test = train_test_split(X, y, test_size=test_size, random_state=42)\n",
    "    \n",
    "    return {\"x_train\":x_train,\"x_test\":x_test,\"y_train\":y_train,\"y_test\":y_test}"
   ]
  },
  {
   "cell_type": "code",
   "execution_count": 9,
   "id": "a4e669a9",
   "metadata": {},
   "outputs": [],
   "source": [
    "def tpot_pipeline_v2(data, features, target, size=20, scoring='r2'):\n",
    "    data_ = generate_test_train_split(data, features, target)\n",
    "\n",
    "    my_scorer = make_scorer(mean_squared_error, greater_is_better=False)\n",
    "\n",
    "    pipeline_optimizer = TPOTRegressor(generations=5, population_size=size, verbosity=2, scoring=scoring)\n",
    "\n",
    "    pipeline_optimizer.fit(data_['x_train'], data_['y_train'])\n",
    "    \n",
    "    print(pipeline_optimizer.score(data_['x_test'], data_['y_test']))\n",
    "    \n",
    "    return pipeline_optimizer"
   ]
  },
  {
   "cell_type": "code",
   "execution_count": 10,
   "id": "71bab908",
   "metadata": {},
   "outputs": [],
   "source": [
    "def return_stats_inputv2(data, home_team, away_team, model_inputs, games=5):\n",
    "    '''Take in player_stats and returns aggregated team stats for previous home/away team matchups'''\n",
    "    \n",
    "#     if 'team.name' not in model_inputs:\n",
    "#         model_inputs.append('team.name')\n",
    "        \n",
    "    match_ups = data[(data['match.homeTeam.name']==home_team) & (data['match.awayTeam.name']==away_team)]\n",
    "    stats = match_ups[model_inputs+['match.homeTeam.name']].groupby('match.homeTeam.name').mean()\n",
    "    \n",
    "    return stats[model_inputs]"
   ]
  },
  {
   "cell_type": "code",
   "execution_count": 11,
   "id": "fbe8846d",
   "metadata": {},
   "outputs": [],
   "source": [
    "def generate_margin_tear_offv2(model, round_matchups, team_stats, model_inputs):\n",
    "    print('-------------------' + str(model.fitted_pipeline_[0]).replace('()','') + ' TEAR-OFF-------------------')\n",
    "    for tup in round_matchups:\n",
    "        predict = model.predict(return_stats_inputv2(team_stats, tup[0], tup[1], model_inputs))[0]\n",
    "        if predict < 0:\n",
    "            winner = tup[1]\n",
    "        else:\n",
    "            winner = tup[0]\n",
    "        print(\"------------------------------------------------\")\n",
    "        print(\"Home: \" + tup[0])\n",
    "        print(\"Away: \" + tup[1])\n",
    "        print(\"Winner: \" + winner + \"\\t       \" + \"Margin: \" + str(abs(round(predict))))"
   ]
  },
  {
   "cell_type": "code",
   "execution_count": 44,
   "id": "3c39ab8b",
   "metadata": {},
   "outputs": [],
   "source": [
    "def generate_score_tear_offv2(home_model, away_model, round_matchups, team_stats, model_inputs):\n",
    "   # print('-------------------' + str(model.fitted_pipeline_[0]).replace('()','') + ' TEAR-OFF-------------------')\n",
    "    for tup in round_matchups:\n",
    "        h_predict = home_model.predict(return_stats_inputv2(team_stats, tup[0], tup[1], model_inputs))[0]\n",
    "        a_predict = away_model.predict(return_stats_inputv2(team_stats, tup[0], tup[1], model_inputs))[0]\n",
    "        if h_predict < a_predict:\n",
    "            winner = tup[1]\n",
    "            margin = round(a_predict) - round(h_predict)\n",
    "        else:\n",
    "            winner = tup[0]\n",
    "            margin = round(h_predict) - round(a_predict)\n",
    "        paddingh = 25 - len(\"Home: \" + tup[0])\n",
    "        paddinga = 25 - len(\"Away: \" + tup[1])\n",
    "        print(\"------------------------------------------------\")\n",
    "        print(\"Home: \" + tup[0] + \" \"*paddingh + str(abs(round(h_predict))))\n",
    "        print(\"Away: \" + tup[1] + \" \"*paddinga + str(abs(round(a_predict))))\n",
    "        print(\"Winner: \" + winner + \" by \"+ str(margin) + \" points\")\n",
    "        print(\"Total Score: \" + str(round(h_predict) + round(a_predict)))"
   ]
  },
  {
   "cell_type": "code",
   "execution_count": 13,
   "id": "6c33b9c8",
   "metadata": {},
   "outputs": [
    {
     "data": {
      "application/vnd.jupyter.widget-view+json": {
       "model_id": "",
       "version_major": 2,
       "version_minor": 0
      },
      "text/plain": [
       "Optimization Progress:   0%|          | 0/60 [00:00<?, ?pipeline/s]"
      ]
     },
     "metadata": {},
     "output_type": "display_data"
    },
    {
     "name": "stdout",
     "output_type": "stream",
     "text": [
      "\n",
      "Generation 1 - Current best internal CV score: 0.9110022771491838\n",
      "\n",
      "Generation 2 - Current best internal CV score: 0.9110022771491838\n",
      "\n",
      "Generation 3 - Current best internal CV score: 0.9715273338099124\n",
      "\n",
      "Generation 4 - Current best internal CV score: 0.9715273338099124\n",
      "\n",
      "Generation 5 - Current best internal CV score: 0.9715273338099124\n",
      "\n",
      "Best pipeline: RidgeCV(input_matrix)\n",
      "0.9733412515746034\n"
     ]
    }
   ],
   "source": [
    "home_model = tpot_pipeline_v2(data, features, targets[0], size=10)"
   ]
  },
  {
   "cell_type": "code",
   "execution_count": 14,
   "id": "36632e61",
   "metadata": {},
   "outputs": [
    {
     "data": {
      "application/vnd.jupyter.widget-view+json": {
       "model_id": "",
       "version_major": 2,
       "version_minor": 0
      },
      "text/plain": [
       "Optimization Progress:   0%|          | 0/60 [00:00<?, ?pipeline/s]"
      ]
     },
     "metadata": {},
     "output_type": "display_data"
    },
    {
     "name": "stdout",
     "output_type": "stream",
     "text": [
      "\n",
      "Generation 1 - Current best internal CV score: 0.9724996542190854\n",
      "\n",
      "Generation 2 - Current best internal CV score: 0.9725172607697754\n",
      "\n",
      "Generation 3 - Current best internal CV score: 0.9725172607697754\n",
      "\n",
      "Generation 4 - Current best internal CV score: 0.9735639273090172\n",
      "\n",
      "Generation 5 - Current best internal CV score: 0.9735639273090172\n",
      "\n",
      "Best pipeline: ElasticNetCV(RobustScaler(input_matrix), l1_ratio=1.0, tol=0.001)\n",
      "0.9725013754589164\n"
     ]
    }
   ],
   "source": [
    "away_model = tpot_pipeline_v2(data, features, targets[1], size=10)"
   ]
  },
  {
   "cell_type": "code",
   "execution_count": 15,
   "id": "27717d30",
   "metadata": {},
   "outputs": [
    {
     "data": {
      "application/vnd.jupyter.widget-view+json": {
       "model_id": "",
       "version_major": 2,
       "version_minor": 0
      },
      "text/plain": [
       "Optimization Progress:   0%|          | 0/60 [00:00<?, ?pipeline/s]"
      ]
     },
     "metadata": {},
     "output_type": "display_data"
    },
    {
     "name": "stdout",
     "output_type": "stream",
     "text": [
      "\n",
      "Generation 1 - Current best internal CV score: 0.9731446552616015\n",
      "\n",
      "Generation 2 - Current best internal CV score: 0.9735916352881799\n",
      "\n",
      "Generation 3 - Current best internal CV score: 0.9735916352881799\n",
      "\n",
      "Generation 4 - Current best internal CV score: 0.9735916352881799\n",
      "\n",
      "Generation 5 - Current best internal CV score: 0.9735916352881799\n",
      "\n",
      "Best pipeline: ElasticNetCV(MinMaxScaler(input_matrix), l1_ratio=1.0, tol=0.0001)\n",
      "0.9720474035364391\n"
     ]
    }
   ],
   "source": [
    "margin_model = tpot_pipeline_v2(data, features, targets[2], size=10)"
   ]
  },
  {
   "cell_type": "code",
   "execution_count": 46,
   "id": "15cd3b3d",
   "metadata": {},
   "outputs": [
    {
     "name": "stdout",
     "output_type": "stream",
     "text": [
      "------------------------------------------------\n",
      "Home: Carlton            80\n",
      "Away: Richmond           83\n",
      "Winner: Richmond by 3 points\n",
      "Total Score: 163\n",
      "------------------------------------------------\n",
      "Home: Collingwood        61\n",
      "Away: Sydney Swans       47\n",
      "Winner: Collingwood by 14 points\n",
      "Total Score: 108\n",
      "------------------------------------------------\n",
      "Home: Essendon           98\n",
      "Away: Hawthorn           81\n",
      "Winner: Essendon by 17 points\n",
      "Total Score: 179\n",
      "------------------------------------------------\n",
      "Home: GWS Giants         57\n",
      "Away: North Melbourne    84\n",
      "Winner: North Melbourne by 27 points\n",
      "Total Score: 141\n",
      "------------------------------------------------\n",
      "Home: Geelong Cats       94\n",
      "Away: St Kilda           67\n",
      "Winner: Geelong Cats by 27 points\n",
      "Total Score: 161\n",
      "------------------------------------------------\n",
      "Home: Gold Coast Suns    89\n",
      "Away: Adelaide Crows     86\n",
      "Winner: Gold Coast Suns by 3 points\n",
      "Total Score: 175\n",
      "------------------------------------------------\n",
      "Home: Melbourne          102\n",
      "Away: Western Bulldogs   73\n",
      "Winner: Melbourne by 29 points\n",
      "Total Score: 175\n",
      "------------------------------------------------\n",
      "Home: Port Adelaide      104\n",
      "Away: West Coast Eagles  46\n",
      "Winner: Port Adelaide by 58 points\n",
      "Total Score: 150\n",
      "------------------------------------------------\n",
      "Home: Fremantle          78\n",
      "Away: Brisbane Lions     88\n",
      "Winner: Brisbane Lions by 10 points\n",
      "Total Score: 166\n"
     ]
    }
   ],
   "source": [
    "generate_score_tear_offv2(home_model, away_model, round1, data, features)"
   ]
  },
  {
   "cell_type": "code",
   "execution_count": 26,
   "id": "08ff700a",
   "metadata": {},
   "outputs": [
    {
     "name": "stdout",
     "output_type": "stream",
     "text": [
      "-------------------MinMaxScaler TEAR-OFF-------------------\n",
      "------------------------------------------------\n",
      "Home: Carlton\n",
      "Away: Richmond\n",
      "Winner: Richmond\t       Margin: 3\n",
      "------------------------------------------------\n",
      "Home: Collingwood\n",
      "Away: Sydney Swans\n",
      "Winner: Collingwood\t       Margin: 15\n",
      "------------------------------------------------\n",
      "Home: Essendon\n",
      "Away: Hawthorn\n",
      "Winner: Essendon\t       Margin: 17\n",
      "------------------------------------------------\n",
      "Home: GWS Giants\n",
      "Away: North Melbourne\n",
      "Winner: North Melbourne\t       Margin: 27\n",
      "------------------------------------------------\n",
      "Home: Geelong Cats\n",
      "Away: St Kilda\n",
      "Winner: Geelong Cats\t       Margin: 27\n",
      "------------------------------------------------\n",
      "Home: Gold Coast Suns\n",
      "Away: Adelaide Crows\n",
      "Winner: Gold Coast Suns\t       Margin: 2\n",
      "------------------------------------------------\n",
      "Home: Melbourne\n",
      "Away: Western Bulldogs\n",
      "Winner: Melbourne\t       Margin: 29\n",
      "------------------------------------------------\n",
      "Home: Port Adelaide\n",
      "Away: West Coast Eagles\n",
      "Winner: Port Adelaide\t       Margin: 59\n",
      "------------------------------------------------\n",
      "Home: Fremantle\n",
      "Away: Brisbane Lions\n",
      "Winner: Brisbane Lions\t       Margin: 10\n"
     ]
    }
   ],
   "source": [
    "generate_margin_tear_offv2(margin_model, round1, data, features)"
   ]
  },
  {
   "cell_type": "code",
   "execution_count": null,
   "id": "54ef0a1d",
   "metadata": {},
   "outputs": [],
   "source": []
  }
 ],
 "metadata": {
  "kernelspec": {
   "display_name": "Python 3 (ipykernel)",
   "language": "python",
   "name": "python3"
  },
  "language_info": {
   "codemirror_mode": {
    "name": "ipython",
    "version": 3
   },
   "file_extension": ".py",
   "mimetype": "text/x-python",
   "name": "python",
   "nbconvert_exporter": "python",
   "pygments_lexer": "ipython3",
   "version": "3.10.9"
  }
 },
 "nbformat": 4,
 "nbformat_minor": 5
}
