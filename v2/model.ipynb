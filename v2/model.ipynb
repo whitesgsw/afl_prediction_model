{
 "cells": [
  {
   "cell_type": "code",
   "execution_count": 1,
   "id": "b4a94d59",
   "metadata": {},
   "outputs": [
    {
     "name": "stderr",
     "output_type": "stream",
     "text": [
      "C:\\Users\\whitehes\\Anaconda3\\lib\\site-packages\\tpot\\builtins\\__init__.py:36: UserWarning: Warning: optional dependency `torch` is not available. - skipping import of NN models.\n",
      "  warnings.warn(\"Warning: optional dependency `torch` is not available. - skipping import of NN models.\")\n"
     ]
    }
   ],
   "source": [
    "import pandas as pd\n",
    "import numpy as np\n",
    "from sklearn.model_selection import train_test_split\n",
    "from sklearn.linear_model import LinearRegression\n",
    "from sklearn.metrics import mean_squared_error\n",
    "from tpot import TPOTRegressor\n",
    "from sklearn.metrics import make_scorer\n",
    "import matplotlib.pyplot as plt\n",
    "from featuresv2 import features, targets, metadata\n",
    "%matplotlib inline"
   ]
  },
  {
   "cell_type": "markdown",
   "id": "5ab85414",
   "metadata": {},
   "source": [
    "## Version 2 Model"
   ]
  },
  {
   "cell_type": "code",
   "execution_count": 2,
   "id": "0291af49",
   "metadata": {},
   "outputs": [],
   "source": [
    "data = pd.read_csv('outputs/model_training_data_v2.csv')"
   ]
  },
  {
   "cell_type": "code",
   "execution_count": 3,
   "id": "91ee2881",
   "metadata": {},
   "outputs": [],
   "source": [
    "round_matchups = [\n",
    "    ('Sydney Swans','Melbourne'),\n",
    "    ('Brisbane Lions','Carlton'),\n",
    "    ('Gold Coast Suns','Richmond'),\n",
    "    ('GWS Giants','Collingwood')]"
   ]
  },
  {
   "cell_type": "code",
   "execution_count": 21,
   "id": "633b667e",
   "metadata": {},
   "outputs": [],
   "source": [
    "round1 = [('Carlton', 'Richmond'),\n",
    "('Collingwood','Sydney Swans'),\n",
    "('Essendon','Hawthorn'),\n",
    "('GWS Giants','North Melbourne'),\n",
    "('Geelong Cats','St Kilda'),\n",
    "('Gold Coast Suns','Adelaide Crows'),\n",
    "('Melbourne','Western Bulldogs'),\n",
    "('Port Adelaide','West Coast Eagles'),\n",
    "('Fremantle','Brisbane Lions')]"
   ]
  },
  {
   "cell_type": "code",
   "execution_count": 7,
   "id": "31cfafa2",
   "metadata": {},
   "outputs": [
    {
     "data": {
      "text/plain": [
       "['homeTeamScore.matchScore.totalScore',\n",
       " 'awayTeamScore.matchScore.totalScore',\n",
       " 'score_diff']"
      ]
     },
     "execution_count": 7,
     "metadata": {},
     "output_type": "execute_result"
    }
   ],
   "source": [
    "targets"
   ]
  },
  {
   "cell_type": "code",
   "execution_count": 13,
   "id": "4daf2a3b",
   "metadata": {},
   "outputs": [],
   "source": [
    "def generate_test_train_split(data, features, target, test_size=0.3):\n",
    "    X = data[features]\n",
    "    y = data[target]\n",
    "\n",
    "    x_train, x_test, y_train, y_test = train_test_split(X, y, test_size=test_size, random_state=42)\n",
    "    \n",
    "    return {\"x_train\":x_train,\"x_test\":x_test,\"y_train\":y_train,\"y_test\":y_test}"
   ]
  },
  {
   "cell_type": "code",
   "execution_count": 14,
   "id": "a4e669a9",
   "metadata": {},
   "outputs": [],
   "source": [
    "def tpot_pipeline_v2(data, features, target, size=20, scoring='r2'):\n",
    "    data_ = generate_test_train_split(data, features, target)\n",
    "\n",
    "    my_scorer = make_scorer(mean_squared_error, greater_is_better=False)\n",
    "\n",
    "    pipeline_optimizer = TPOTRegressor(generations=5, population_size=size, verbosity=2, scoring=scoring)\n",
    "\n",
    "    pipeline_optimizer.fit(data_['x_train'], data_['y_train'])\n",
    "    \n",
    "    print(pipeline_optimizer.score(data_['x_test'], data_['y_test']))\n",
    "    \n",
    "    return pipeline_optimizer"
   ]
  },
  {
   "cell_type": "code",
   "execution_count": 68,
   "id": "90ca083b",
   "metadata": {},
   "outputs": [],
   "source": [
    "def return_stats_input(data, home_team, away_team, model_inputs, games=5):\n",
    "    '''Take in player_stats and returns aggregated team stats for previous home/away team matchups'''\n",
    "    \n",
    "#     if 'team.name' not in model_inputs:\n",
    "#         model_inputs.append('team.name')\n",
    "        \n",
    "    match_ups = data[(data['match.homeTeam.name']==home_team) & (data['match.awayTeam.name']==away_team)]\n",
    "    weights = range(1,len(match_ups)+1)\n",
    "\n",
    "    stats = match_ups[model_inputs+['match.homeTeam.name']].groupby('match.homeTeam.name').apply(lambda x: np.average(x, weights=weights, axis=0))\n",
    "    \n",
    "    return pd.DataFrame(dict(zip(model_inputs,stats[0])),index=[0])"
   ]
  },
  {
   "cell_type": "code",
   "execution_count": 69,
   "id": "fbe8846d",
   "metadata": {},
   "outputs": [],
   "source": [
    "def generate_margin_tear_off(model, round_matchups, team_stats, model_inputs):\n",
    "    print('-------------------' + str(model.fitted_pipeline_[0]).replace('()','') + ' TEAR-OFF-------------------')\n",
    "    for tup in round_matchups:\n",
    "        predict = model.predict(return_stats_input(team_stats, tup[0], tup[1], model_inputs))[0]\n",
    "        if predict < 0:\n",
    "            winner = tup[1]\n",
    "        else:\n",
    "            winner = tup[0]\n",
    "        print(\"------------------------------------------------\")\n",
    "        print(\"Home: \" + tup[0])\n",
    "        print(\"Away: \" + tup[1])\n",
    "        print(\"Winner: \" + winner + \"\\t       \" + \"Margin: \" + str(abs(round(predict))))"
   ]
  },
  {
   "cell_type": "code",
   "execution_count": 70,
   "id": "3c39ab8b",
   "metadata": {},
   "outputs": [],
   "source": [
    "def generate_score_tear_off(home_model, away_model, round_matchups, team_stats, model_inputs):\n",
    "   # print('-------------------' + str(model.fitted_pipeline_[0]).replace('()','') + ' TEAR-OFF-------------------')\n",
    "    preds = []\n",
    "    for tup in round_matchups:\n",
    "        h_predict = home_model.predict(return_stats_input(team_stats, tup[0], tup[1], model_inputs))[0]\n",
    "        a_predict = away_model.predict(return_stats_input(team_stats, tup[0], tup[1], model_inputs))[0]\n",
    "        if h_predict < a_predict:\n",
    "            winner = tup[1]\n",
    "            margin = round(a_predict) - round(h_predict)\n",
    "        else:\n",
    "            winner = tup[0]\n",
    "            margin = round(h_predict) - round(a_predict)\n",
    "        paddingh = 25 - len(\"Home: \" + tup[0])\n",
    "        paddinga = 25 - len(\"Away: \" + tup[1])\n",
    "        print(\"------------------------------------------------\")\n",
    "        print(\"Home: \" + tup[0] + \" \"*paddingh + str(abs(round(h_predict))))\n",
    "        print(\"Away: \" + tup[1] + \" \"*paddinga + str(abs(round(a_predict))))\n",
    "        print(\"Winner: \" + winner + \" by \"+ str(margin) + \" points\")\n",
    "        print(\"Total Score: \" + str(round(h_predict) + round(a_predict)))\n",
    "        preds.append((h_predict, a_predict, margin))\n",
    "    return preds"
   ]
  },
  {
   "cell_type": "code",
   "execution_count": 64,
   "id": "6c33b9c8",
   "metadata": {},
   "outputs": [
    {
     "data": {
      "application/vnd.jupyter.widget-view+json": {
       "model_id": "",
       "version_major": 2,
       "version_minor": 0
      },
      "text/plain": [
       "Optimization Progress:   0%|          | 0/60 [00:00<?, ?pipeline/s]"
      ]
     },
     "metadata": {},
     "output_type": "display_data"
    },
    {
     "name": "stdout",
     "output_type": "stream",
     "text": [
      "\n",
      "Generation 1 - Current best internal CV score: 0.8869561348324426\n",
      "\n",
      "Generation 2 - Current best internal CV score: 0.8869561348324426\n",
      "\n",
      "Generation 3 - Current best internal CV score: 0.9714292773697034\n",
      "\n",
      "Generation 4 - Current best internal CV score: 0.9716509556394616\n",
      "\n",
      "Generation 5 - Current best internal CV score: 0.971650955641367\n",
      "\n",
      "Best pipeline: RidgeCV(StandardScaler(input_matrix))\n",
      "0.9732472467442386\n"
     ]
    }
   ],
   "source": [
    "home_model = tpot_pipeline_v2(data, features, targets[0], size=10)"
   ]
  },
  {
   "cell_type": "code",
   "execution_count": 65,
   "id": "36632e61",
   "metadata": {},
   "outputs": [
    {
     "data": {
      "application/vnd.jupyter.widget-view+json": {
       "model_id": "",
       "version_major": 2,
       "version_minor": 0
      },
      "text/plain": [
       "Optimization Progress:   0%|          | 0/60 [00:00<?, ?pipeline/s]"
      ]
     },
     "metadata": {},
     "output_type": "display_data"
    },
    {
     "name": "stdout",
     "output_type": "stream",
     "text": [
      "\n",
      "Generation 1 - Current best internal CV score: 0.8991087717317608\n",
      "\n",
      "Generation 2 - Current best internal CV score: 0.9724996539690842\n",
      "\n",
      "Generation 3 - Current best internal CV score: 0.9724996539690842\n",
      "\n",
      "Generation 4 - Current best internal CV score: 0.9724996539690842\n",
      "\n",
      "Generation 5 - Current best internal CV score: 0.9726279979357889\n",
      "\n",
      "Best pipeline: ElasticNetCV(RobustScaler(input_matrix), l1_ratio=0.9, tol=0.01)\n",
      "0.9705590440341471\n"
     ]
    }
   ],
   "source": [
    "away_model = tpot_pipeline_v2(data, features, targets[1], size=10)"
   ]
  },
  {
   "cell_type": "code",
   "execution_count": 19,
   "id": "27717d30",
   "metadata": {},
   "outputs": [
    {
     "data": {
      "application/vnd.jupyter.widget-view+json": {
       "model_id": "",
       "version_major": 2,
       "version_minor": 0
      },
      "text/plain": [
       "Optimization Progress:   0%|          | 0/60 [00:00<?, ?pipeline/s]"
      ]
     },
     "metadata": {},
     "output_type": "display_data"
    },
    {
     "name": "stdout",
     "output_type": "stream",
     "text": [
      "\n",
      "Generation 1 - Current best internal CV score: 0.9731446552014216\n",
      "\n",
      "Generation 2 - Current best internal CV score: 0.9731446552014216\n",
      "\n",
      "Generation 3 - Current best internal CV score: 0.9731446552014216\n",
      "\n",
      "Generation 4 - Current best internal CV score: 0.9733778941243735\n",
      "\n",
      "Generation 5 - Current best internal CV score: 0.9733778941243735\n",
      "\n",
      "Best pipeline: ElasticNetCV(RobustScaler(input_matrix), l1_ratio=1.0, tol=0.0001)\n",
      "0.9720120903463568\n"
     ]
    }
   ],
   "source": [
    "margin_model = tpot_pipeline_v2(data, features, targets[2], size=10)"
   ]
  },
  {
   "cell_type": "code",
   "execution_count": 74,
   "id": "15cd3b3d",
   "metadata": {},
   "outputs": [
    {
     "name": "stdout",
     "output_type": "stream",
     "text": [
      "------------------------------------------------\n",
      "Home: Carlton            86\n",
      "Away: Richmond           81\n",
      "Winner: Carlton by 5 points\n",
      "Total Score: 167\n",
      "------------------------------------------------\n",
      "Home: Collingwood        65\n",
      "Away: Sydney Swans       48\n",
      "Winner: Collingwood by 17 points\n",
      "Total Score: 113\n",
      "------------------------------------------------\n",
      "Home: Essendon           100\n",
      "Away: Hawthorn           83\n",
      "Winner: Essendon by 17 points\n",
      "Total Score: 183\n",
      "------------------------------------------------\n",
      "Home: GWS Giants         57\n",
      "Away: North Melbourne    84\n",
      "Winner: North Melbourne by 27 points\n",
      "Total Score: 141\n"
     ]
    },
    {
     "name": "stderr",
     "output_type": "stream",
     "text": [
      "C:\\Users\\SeanW\\anaconda3\\lib\\site-packages\\sklearn\\base.py:493: UserWarning: X does not have valid feature names, but RidgeCV was fitted with feature names\n",
      "  warnings.warn(\n",
      "C:\\Users\\SeanW\\anaconda3\\lib\\site-packages\\sklearn\\base.py:493: UserWarning: X does not have valid feature names, but RidgeCV was fitted with feature names\n",
      "  warnings.warn(\n",
      "C:\\Users\\SeanW\\anaconda3\\lib\\site-packages\\sklearn\\base.py:493: UserWarning: X does not have valid feature names, but RidgeCV was fitted with feature names\n",
      "  warnings.warn(\n",
      "C:\\Users\\SeanW\\anaconda3\\lib\\site-packages\\sklearn\\base.py:493: UserWarning: X does not have valid feature names, but RidgeCV was fitted with feature names\n",
      "  warnings.warn(\n",
      "C:\\Users\\SeanW\\anaconda3\\lib\\site-packages\\sklearn\\base.py:493: UserWarning: X does not have valid feature names, but RidgeCV was fitted with feature names\n",
      "  warnings.warn(\n",
      "C:\\Users\\SeanW\\anaconda3\\lib\\site-packages\\sklearn\\base.py:493: UserWarning: X does not have valid feature names, but RidgeCV was fitted with feature names\n",
      "  warnings.warn(\n",
      "C:\\Users\\SeanW\\anaconda3\\lib\\site-packages\\sklearn\\base.py:493: UserWarning: X does not have valid feature names, but RidgeCV was fitted with feature names\n",
      "  warnings.warn(\n",
      "C:\\Users\\SeanW\\anaconda3\\lib\\site-packages\\sklearn\\base.py:493: UserWarning: X does not have valid feature names, but RidgeCV was fitted with feature names\n",
      "  warnings.warn(\n",
      "C:\\Users\\SeanW\\anaconda3\\lib\\site-packages\\sklearn\\base.py:493: UserWarning: X does not have valid feature names, but RidgeCV was fitted with feature names\n",
      "  warnings.warn(\n",
      "C:\\Users\\SeanW\\anaconda3\\lib\\site-packages\\sklearn\\base.py:493: UserWarning: X does not have valid feature names, but RidgeCV was fitted with feature names\n",
      "  warnings.warn(\n",
      "C:\\Users\\SeanW\\anaconda3\\lib\\site-packages\\sklearn\\base.py:493: UserWarning: X does not have valid feature names, but RidgeCV was fitted with feature names\n",
      "  warnings.warn(\n",
      "C:\\Users\\SeanW\\anaconda3\\lib\\site-packages\\sklearn\\base.py:493: UserWarning: X does not have valid feature names, but RidgeCV was fitted with feature names\n",
      "  warnings.warn(\n",
      "C:\\Users\\SeanW\\anaconda3\\lib\\site-packages\\sklearn\\base.py:493: UserWarning: X does not have valid feature names, but RidgeCV was fitted with feature names\n",
      "  warnings.warn(\n"
     ]
    },
    {
     "name": "stdout",
     "output_type": "stream",
     "text": [
      "------------------------------------------------\n",
      "Home: Geelong Cats       98\n",
      "Away: St Kilda           67\n",
      "Winner: Geelong Cats by 31 points\n",
      "Total Score: 165\n",
      "------------------------------------------------\n",
      "Home: Gold Coast Suns    99\n",
      "Away: Adelaide Crows     79\n",
      "Winner: Gold Coast Suns by 20 points\n",
      "Total Score: 178\n",
      "------------------------------------------------\n",
      "Home: Melbourne          108\n",
      "Away: Western Bulldogs   68\n",
      "Winner: Melbourne by 40 points\n",
      "Total Score: 176\n",
      "------------------------------------------------\n",
      "Home: Port Adelaide      109\n",
      "Away: West Coast Eagles  50\n",
      "Winner: Port Adelaide by 59 points\n",
      "Total Score: 159\n",
      "------------------------------------------------\n",
      "Home: Fremantle          81\n",
      "Away: Brisbane Lions     89\n",
      "Winner: Brisbane Lions by 8 points\n",
      "Total Score: 170\n"
     ]
    }
   ],
   "source": [
    "generate_score_tear_off(home_model, away_model, round1, data, features)"
   ]
  },
  {
   "cell_type": "code",
   "execution_count": 72,
   "id": "08ff700a",
   "metadata": {},
   "outputs": [
    {
     "name": "stdout",
     "output_type": "stream",
     "text": [
      "-------------------RobustScaler TEAR-OFF-------------------\n",
      "------------------------------------------------\n",
      "Home: Carlton\n",
      "Away: Richmond\n",
      "Winner: Carlton\t       Margin: 6\n",
      "------------------------------------------------\n",
      "Home: Collingwood\n",
      "Away: Sydney Swans\n",
      "Winner: Collingwood\t       Margin: 17\n",
      "------------------------------------------------\n",
      "Home: Essendon\n",
      "Away: Hawthorn\n",
      "Winner: Essendon\t       Margin: 18\n",
      "------------------------------------------------\n",
      "Home: GWS Giants\n",
      "Away: North Melbourne\n",
      "Winner: North Melbourne\t       Margin: 27\n",
      "------------------------------------------------\n",
      "Home: Geelong Cats\n",
      "Away: St Kilda\n",
      "Winner: Geelong Cats\t       Margin: 31\n",
      "------------------------------------------------\n",
      "Home: Gold Coast Suns\n",
      "Away: Adelaide Crows\n",
      "Winner: Gold Coast Suns\t       Margin: 19\n",
      "------------------------------------------------\n",
      "Home: Melbourne\n",
      "Away: Western Bulldogs\n",
      "Winner: Melbourne\t       Margin: 40\n",
      "------------------------------------------------\n",
      "Home: Port Adelaide\n",
      "Away: West Coast Eagles\n",
      "Winner: Port Adelaide\t       Margin: 58\n",
      "------------------------------------------------\n",
      "Home: Fremantle\n",
      "Away: Brisbane Lions\n",
      "Winner: Brisbane Lions\t       Margin: 7\n"
     ]
    }
   ],
   "source": [
    "# print(return_stats_inputv3(data, home_team, away_team, features))\n",
    "generate_margin_tear_off(margin_model, round1, data, features)\n",
    "# data[(data['match.homeTeam.name']==home_team) & (data['match.awayTeam.name']==away_team)][features].head()"
   ]
  },
  {
   "cell_type": "code",
   "execution_count": null,
   "id": "54ef0a1d",
   "metadata": {},
   "outputs": [],
   "source": []
  },
  {
   "cell_type": "code",
   "execution_count": null,
   "id": "0d94df3d",
   "metadata": {},
   "outputs": [],
   "source": []
  }
 ],
 "metadata": {
  "kernelspec": {
   "display_name": "Python 3 (ipykernel)",
   "language": "python",
   "name": "python3"
  },
  "language_info": {
   "codemirror_mode": {
    "name": "ipython",
    "version": 3
   },
   "file_extension": ".py",
   "mimetype": "text/x-python",
   "name": "python",
   "nbconvert_exporter": "python",
   "pygments_lexer": "ipython3",
   "version": "3.9.13"
  }
 },
 "nbformat": 4,
 "nbformat_minor": 5
}
